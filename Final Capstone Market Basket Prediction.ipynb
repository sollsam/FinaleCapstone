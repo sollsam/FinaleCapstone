{
 "cells": [
  {
   "attachments": {},
   "cell_type": "markdown",
   "metadata": {},
   "source": [
    "# Market Basket Prediction \n",
    "\n",
    "## Predicting which products will Instacart customers buy again \n",
    "\n",
    "### Overview\n",
    "Instacart is a grocery ordering and delivery app. Users select products from a local grocery store through the Instacart app, then personal shoppers do the in-store shopping and deliver to the users. Instacart has released an anonymized dataset for a kaggle competition which contains a sample of over 3 million grocery orders from more than 200,000 Instacart users. For each user, between 4 and 100 of their orders, with the sequence of products purchased in each order is provided. The data set is Accessed from https://www.instacart.com/datasets/grocery-shopping-2017  \n",
    "\n",
    "The data dictionary is available here https://gist.github.com/jeremystan/c3b39d947d9b88b3ccff3147dbcf6c6b\n",
    "\n",
    "The objective of this project is to **predict which previously purchased products will be in a user’s next order.** This will be used in the app's 'Buy iy Again' feature. The business objective is to save customers time and thereby increasing the value of the service and customer retention by suggesting relevant products as users shop using the app. \n",
    "\n",
    "![buy it again](buy_again.png)\n"
   ]
  },
  {
   "cell_type": "code",
   "execution_count": 2,
   "metadata": {},
   "outputs": [],
   "source": [
    "# imports\n",
    "import pandas as pd\n",
    "import numpy as np\n",
    "import matplotlib.pyplot as plt\n",
    "%matplotlib inline\n",
    "import seaborn as sns\n",
    "sns.set(style=\"whitegrid\")\n",
    "\n",
    "import os, glob\n",
    "\n",
    "# selection, processing\n",
    "from sklearn.feature_selection import SelectKBest, SelectPercentile, chi2\n",
    "from sklearn.model_selection import GridSearchCV\n",
    "from sklearn import ensemble\n",
    "from sklearn.preprocessing import StandardScaler\n",
    "from sklearn.decomposition import PCA\n",
    "from sklearn.model_selection import train_test_split\n",
    "from sklearn import preprocessing \n",
    "\n",
    "# models\n",
    "import lightgbm as lgb\n",
    "from sklearn.neighbors import KNeighborsClassifier\n",
    "from sklearn.tree import DecisionTreeClassifier\n",
    "from sklearn.naive_bayes import MultinomialNB \n",
    "from sklearn.linear_model import Ridge, Lasso\n",
    "from sklearn.linear_model import LogisticRegression\n",
    "from sklearn.linear_model import RidgeClassifier\n",
    "from sklearn.svm import SVC\n",
    "\n",
    "# metrics\n",
    "from sklearn.model_selection import cross_val_score\n",
    "from sklearn import metrics\n",
    "from sklearn.metrics import roc_curve, auc, confusion_matrix\n",
    "from sklearn.metrics import classification_report\n",
    "from sklearn.metrics import accuracy_score\n",
    "\n",
    "import time\n",
    "from collections import Counter\n",
    "\n",
    "pd.set_option('display.max_columns', 500)\n",
    "import warnings\n",
    "warnings.filterwarnings('ignore') # Ignore all warnings"
   ]
  },
  {
   "cell_type": "code",
   "execution_count": 157,
   "metadata": {},
   "outputs": [],
   "source": [
    "from IPython.display import Image"
   ]
  },
  {
   "cell_type": "markdown",
   "metadata": {},
   "source": [
    "### About the Data\n",
    "\n",
    "The data is distributed across six different CSV files. To understand the data better let us read all the files as data frame objects and preview their content."
   ]
  },
  {
   "cell_type": "code",
   "execution_count": 118,
   "metadata": {},
   "outputs": [],
   "source": [
    "# read the files and set dtypes for efficint memory\n",
    "aisles = pd.read_csv('aisles.csv')\n",
    "departments = pd.read_csv('departments.csv')\n",
    "priors = pd.read_csv('order_products__prior.csv',dtype={\n",
    "            'order_id': np.int32,\n",
    "            'product_id': np.uint16,\n",
    "            'add_to_cart_order': np.int16,\n",
    "            'reordered': np.int8})\n",
    "train = pd.read_csv('order_products__train.csv', dtype={\n",
    "            'order_id': np.int32,\n",
    "            'product_id': np.uint16,\n",
    "            'add_to_cart_order': np.int16,\n",
    "            'reordered': np.int8})\n",
    "orders = pd.read_csv('orders.csv', dtype={\n",
    "        'order_id': np.int32,\n",
    "        'user_id': np.int32,\n",
    "        'eval_set': 'category',\n",
    "        'order_number': np.int16,\n",
    "        'order_dow': np.int8,\n",
    "        'order_hour_of_day': np.int8,\n",
    "        'days_since_prior_order': np.float32})\n",
    "products = pd.read_csv('products.csv', dtype={\n",
    "        'product_id': np.uint16,\n",
    "        'order_id': np.int32,\n",
    "        'aisle_id': np.uint8,\n",
    "        'department_id': np.uint8},\n",
    "        usecols=['product_id', 'product_name', 'aisle_id', 'department_id'])\n",
    "#sample_submission = pd.read_csv('sample_submission.csv')"
   ]
  },
  {
   "cell_type": "markdown",
   "metadata": {},
   "source": [
    "### Aisles"
   ]
  },
  {
   "cell_type": "code",
   "execution_count": 4,
   "metadata": {
    "scrolled": false
   },
   "outputs": [
    {
     "name": "stdout",
     "output_type": "stream",
     "text": [
      "Aisles shape: (134, 2)\n"
     ]
    },
    {
     "data": {
      "text/html": [
       "<div>\n",
       "<style scoped>\n",
       "    .dataframe tbody tr th:only-of-type {\n",
       "        vertical-align: middle;\n",
       "    }\n",
       "\n",
       "    .dataframe tbody tr th {\n",
       "        vertical-align: top;\n",
       "    }\n",
       "\n",
       "    .dataframe thead th {\n",
       "        text-align: right;\n",
       "    }\n",
       "</style>\n",
       "<table border=\"1\" class=\"dataframe\">\n",
       "  <thead>\n",
       "    <tr style=\"text-align: right;\">\n",
       "      <th></th>\n",
       "      <th>aisle_id</th>\n",
       "      <th>aisle</th>\n",
       "    </tr>\n",
       "  </thead>\n",
       "  <tbody>\n",
       "    <tr>\n",
       "      <th>0</th>\n",
       "      <td>1</td>\n",
       "      <td>prepared soups salads</td>\n",
       "    </tr>\n",
       "    <tr>\n",
       "      <th>1</th>\n",
       "      <td>2</td>\n",
       "      <td>specialty cheeses</td>\n",
       "    </tr>\n",
       "    <tr>\n",
       "      <th>2</th>\n",
       "      <td>3</td>\n",
       "      <td>energy granola bars</td>\n",
       "    </tr>\n",
       "    <tr>\n",
       "      <th>3</th>\n",
       "      <td>4</td>\n",
       "      <td>instant foods</td>\n",
       "    </tr>\n",
       "    <tr>\n",
       "      <th>4</th>\n",
       "      <td>5</td>\n",
       "      <td>marinades meat preparation</td>\n",
       "    </tr>\n",
       "  </tbody>\n",
       "</table>\n",
       "</div>"
      ],
      "text/plain": [
       "   aisle_id                       aisle\n",
       "0         1       prepared soups salads\n",
       "1         2           specialty cheeses\n",
       "2         3         energy granola bars\n",
       "3         4               instant foods\n",
       "4         5  marinades meat preparation"
      ]
     },
     "execution_count": 4,
     "metadata": {},
     "output_type": "execute_result"
    }
   ],
   "source": [
    "# Shape and preview aisles file\n",
    "print('Aisles shape:', aisles.shape)\n",
    "aisles.head()"
   ]
  },
  {
   "cell_type": "markdown",
   "metadata": {},
   "source": [
    "### Departments"
   ]
  },
  {
   "cell_type": "code",
   "execution_count": 5,
   "metadata": {},
   "outputs": [
    {
     "name": "stdout",
     "output_type": "stream",
     "text": [
      "Departments shape: (21, 2)\n"
     ]
    },
    {
     "data": {
      "text/html": [
       "<div>\n",
       "<style scoped>\n",
       "    .dataframe tbody tr th:only-of-type {\n",
       "        vertical-align: middle;\n",
       "    }\n",
       "\n",
       "    .dataframe tbody tr th {\n",
       "        vertical-align: top;\n",
       "    }\n",
       "\n",
       "    .dataframe thead th {\n",
       "        text-align: right;\n",
       "    }\n",
       "</style>\n",
       "<table border=\"1\" class=\"dataframe\">\n",
       "  <thead>\n",
       "    <tr style=\"text-align: right;\">\n",
       "      <th></th>\n",
       "      <th>department_id</th>\n",
       "      <th>department</th>\n",
       "    </tr>\n",
       "  </thead>\n",
       "  <tbody>\n",
       "    <tr>\n",
       "      <th>0</th>\n",
       "      <td>1</td>\n",
       "      <td>frozen</td>\n",
       "    </tr>\n",
       "    <tr>\n",
       "      <th>1</th>\n",
       "      <td>2</td>\n",
       "      <td>other</td>\n",
       "    </tr>\n",
       "    <tr>\n",
       "      <th>2</th>\n",
       "      <td>3</td>\n",
       "      <td>bakery</td>\n",
       "    </tr>\n",
       "    <tr>\n",
       "      <th>3</th>\n",
       "      <td>4</td>\n",
       "      <td>produce</td>\n",
       "    </tr>\n",
       "    <tr>\n",
       "      <th>4</th>\n",
       "      <td>5</td>\n",
       "      <td>alcohol</td>\n",
       "    </tr>\n",
       "  </tbody>\n",
       "</table>\n",
       "</div>"
      ],
      "text/plain": [
       "   department_id department\n",
       "0              1     frozen\n",
       "1              2      other\n",
       "2              3     bakery\n",
       "3              4    produce\n",
       "4              5    alcohol"
      ]
     },
     "execution_count": 5,
     "metadata": {},
     "output_type": "execute_result"
    }
   ],
   "source": [
    "print('Departments shape:', departments.shape)\n",
    "departments.head()"
   ]
  },
  {
   "cell_type": "markdown",
   "metadata": {},
   "source": [
    "### Prior orders"
   ]
  },
  {
   "cell_type": "code",
   "execution_count": 6,
   "metadata": {},
   "outputs": [
    {
     "name": "stdout",
     "output_type": "stream",
     "text": [
      "orders prior shape (32434489, 4)\n"
     ]
    },
    {
     "data": {
      "text/html": [
       "<div>\n",
       "<style scoped>\n",
       "    .dataframe tbody tr th:only-of-type {\n",
       "        vertical-align: middle;\n",
       "    }\n",
       "\n",
       "    .dataframe tbody tr th {\n",
       "        vertical-align: top;\n",
       "    }\n",
       "\n",
       "    .dataframe thead th {\n",
       "        text-align: right;\n",
       "    }\n",
       "</style>\n",
       "<table border=\"1\" class=\"dataframe\">\n",
       "  <thead>\n",
       "    <tr style=\"text-align: right;\">\n",
       "      <th></th>\n",
       "      <th>order_id</th>\n",
       "      <th>product_id</th>\n",
       "      <th>add_to_cart_order</th>\n",
       "      <th>reordered</th>\n",
       "    </tr>\n",
       "  </thead>\n",
       "  <tbody>\n",
       "    <tr>\n",
       "      <th>0</th>\n",
       "      <td>2</td>\n",
       "      <td>33120</td>\n",
       "      <td>1</td>\n",
       "      <td>1</td>\n",
       "    </tr>\n",
       "    <tr>\n",
       "      <th>1</th>\n",
       "      <td>2</td>\n",
       "      <td>28985</td>\n",
       "      <td>2</td>\n",
       "      <td>1</td>\n",
       "    </tr>\n",
       "    <tr>\n",
       "      <th>2</th>\n",
       "      <td>2</td>\n",
       "      <td>9327</td>\n",
       "      <td>3</td>\n",
       "      <td>0</td>\n",
       "    </tr>\n",
       "    <tr>\n",
       "      <th>3</th>\n",
       "      <td>2</td>\n",
       "      <td>45918</td>\n",
       "      <td>4</td>\n",
       "      <td>1</td>\n",
       "    </tr>\n",
       "    <tr>\n",
       "      <th>4</th>\n",
       "      <td>2</td>\n",
       "      <td>30035</td>\n",
       "      <td>5</td>\n",
       "      <td>0</td>\n",
       "    </tr>\n",
       "  </tbody>\n",
       "</table>\n",
       "</div>"
      ],
      "text/plain": [
       "   order_id  product_id  add_to_cart_order  reordered\n",
       "0         2       33120                  1          1\n",
       "1         2       28985                  2          1\n",
       "2         2        9327                  3          0\n",
       "3         2       45918                  4          1\n",
       "4         2       30035                  5          0"
      ]
     },
     "execution_count": 6,
     "metadata": {},
     "output_type": "execute_result"
    }
   ],
   "source": [
    "print('orders prior shape', priors.shape)\n",
    "priors.head()"
   ]
  },
  {
   "cell_type": "markdown",
   "metadata": {},
   "source": [
    "### Train Orders"
   ]
  },
  {
   "cell_type": "code",
   "execution_count": 7,
   "metadata": {},
   "outputs": [
    {
     "name": "stdout",
     "output_type": "stream",
     "text": [
      "Order train shape: (1384617, 4)\n"
     ]
    },
    {
     "data": {
      "text/html": [
       "<div>\n",
       "<style scoped>\n",
       "    .dataframe tbody tr th:only-of-type {\n",
       "        vertical-align: middle;\n",
       "    }\n",
       "\n",
       "    .dataframe tbody tr th {\n",
       "        vertical-align: top;\n",
       "    }\n",
       "\n",
       "    .dataframe thead th {\n",
       "        text-align: right;\n",
       "    }\n",
       "</style>\n",
       "<table border=\"1\" class=\"dataframe\">\n",
       "  <thead>\n",
       "    <tr style=\"text-align: right;\">\n",
       "      <th></th>\n",
       "      <th>order_id</th>\n",
       "      <th>product_id</th>\n",
       "      <th>add_to_cart_order</th>\n",
       "      <th>reordered</th>\n",
       "    </tr>\n",
       "  </thead>\n",
       "  <tbody>\n",
       "    <tr>\n",
       "      <th>0</th>\n",
       "      <td>1</td>\n",
       "      <td>49302</td>\n",
       "      <td>1</td>\n",
       "      <td>1</td>\n",
       "    </tr>\n",
       "    <tr>\n",
       "      <th>1</th>\n",
       "      <td>1</td>\n",
       "      <td>11109</td>\n",
       "      <td>2</td>\n",
       "      <td>1</td>\n",
       "    </tr>\n",
       "    <tr>\n",
       "      <th>2</th>\n",
       "      <td>1</td>\n",
       "      <td>10246</td>\n",
       "      <td>3</td>\n",
       "      <td>0</td>\n",
       "    </tr>\n",
       "    <tr>\n",
       "      <th>3</th>\n",
       "      <td>1</td>\n",
       "      <td>49683</td>\n",
       "      <td>4</td>\n",
       "      <td>0</td>\n",
       "    </tr>\n",
       "    <tr>\n",
       "      <th>4</th>\n",
       "      <td>1</td>\n",
       "      <td>43633</td>\n",
       "      <td>5</td>\n",
       "      <td>1</td>\n",
       "    </tr>\n",
       "  </tbody>\n",
       "</table>\n",
       "</div>"
      ],
      "text/plain": [
       "   order_id  product_id  add_to_cart_order  reordered\n",
       "0         1       49302                  1          1\n",
       "1         1       11109                  2          1\n",
       "2         1       10246                  3          0\n",
       "3         1       49683                  4          0\n",
       "4         1       43633                  5          1"
      ]
     },
     "execution_count": 7,
     "metadata": {},
     "output_type": "execute_result"
    }
   ],
   "source": [
    "# Examine orders_train table\n",
    "print('Order train shape:', train.shape)\n",
    "train.head()"
   ]
  },
  {
   "cell_type": "markdown",
   "metadata": {},
   "source": [
    "### Orders"
   ]
  },
  {
   "cell_type": "code",
   "execution_count": 9,
   "metadata": {
    "scrolled": false
   },
   "outputs": [
    {
     "name": "stdout",
     "output_type": "stream",
     "text": [
      "('Orders shape:', (3421083, 7))\n"
     ]
    },
    {
     "data": {
      "text/html": [
       "<div>\n",
       "<style scoped>\n",
       "    .dataframe tbody tr th:only-of-type {\n",
       "        vertical-align: middle;\n",
       "    }\n",
       "\n",
       "    .dataframe tbody tr th {\n",
       "        vertical-align: top;\n",
       "    }\n",
       "\n",
       "    .dataframe thead th {\n",
       "        text-align: right;\n",
       "    }\n",
       "</style>\n",
       "<table border=\"1\" class=\"dataframe\">\n",
       "  <thead>\n",
       "    <tr style=\"text-align: right;\">\n",
       "      <th></th>\n",
       "      <th>order_id</th>\n",
       "      <th>user_id</th>\n",
       "      <th>eval_set</th>\n",
       "      <th>order_number</th>\n",
       "      <th>order_dow</th>\n",
       "      <th>order_hour_of_day</th>\n",
       "      <th>days_since_prior_order</th>\n",
       "    </tr>\n",
       "  </thead>\n",
       "  <tbody>\n",
       "    <tr>\n",
       "      <th>0</th>\n",
       "      <td>2539329</td>\n",
       "      <td>1</td>\n",
       "      <td>prior</td>\n",
       "      <td>1</td>\n",
       "      <td>2</td>\n",
       "      <td>8</td>\n",
       "      <td>NaN</td>\n",
       "    </tr>\n",
       "    <tr>\n",
       "      <th>1</th>\n",
       "      <td>2398795</td>\n",
       "      <td>1</td>\n",
       "      <td>prior</td>\n",
       "      <td>2</td>\n",
       "      <td>3</td>\n",
       "      <td>7</td>\n",
       "      <td>15.0</td>\n",
       "    </tr>\n",
       "    <tr>\n",
       "      <th>2</th>\n",
       "      <td>473747</td>\n",
       "      <td>1</td>\n",
       "      <td>prior</td>\n",
       "      <td>3</td>\n",
       "      <td>3</td>\n",
       "      <td>12</td>\n",
       "      <td>21.0</td>\n",
       "    </tr>\n",
       "    <tr>\n",
       "      <th>3</th>\n",
       "      <td>2254736</td>\n",
       "      <td>1</td>\n",
       "      <td>prior</td>\n",
       "      <td>4</td>\n",
       "      <td>4</td>\n",
       "      <td>7</td>\n",
       "      <td>29.0</td>\n",
       "    </tr>\n",
       "    <tr>\n",
       "      <th>4</th>\n",
       "      <td>431534</td>\n",
       "      <td>1</td>\n",
       "      <td>prior</td>\n",
       "      <td>5</td>\n",
       "      <td>4</td>\n",
       "      <td>15</td>\n",
       "      <td>28.0</td>\n",
       "    </tr>\n",
       "  </tbody>\n",
       "</table>\n",
       "</div>"
      ],
      "text/plain": [
       "   order_id  user_id eval_set  order_number  order_dow  order_hour_of_day  \\\n",
       "0   2539329        1    prior             1          2                  8   \n",
       "1   2398795        1    prior             2          3                  7   \n",
       "2    473747        1    prior             3          3                 12   \n",
       "3   2254736        1    prior             4          4                  7   \n",
       "4    431534        1    prior             5          4                 15   \n",
       "\n",
       "   days_since_prior_order  \n",
       "0                     NaN  \n",
       "1                    15.0  \n",
       "2                    21.0  \n",
       "3                    29.0  \n",
       "4                    28.0  "
      ]
     },
     "execution_count": 9,
     "metadata": {},
     "output_type": "execute_result"
    }
   ],
   "source": [
    "\n",
    "print('Orders shape:', orders.shape)\n",
    "orders.head()"
   ]
  },
  {
   "cell_type": "markdown",
   "metadata": {},
   "source": [
    "### Products"
   ]
  },
  {
   "cell_type": "code",
   "execution_count": 88,
   "metadata": {
    "scrolled": true
   },
   "outputs": [
    {
     "name": "stdout",
     "output_type": "stream",
     "text": [
      "Products shape: (49688, 4)\n"
     ]
    },
    {
     "data": {
      "text/html": [
       "<div>\n",
       "<style scoped>\n",
       "    .dataframe tbody tr th:only-of-type {\n",
       "        vertical-align: middle;\n",
       "    }\n",
       "\n",
       "    .dataframe tbody tr th {\n",
       "        vertical-align: top;\n",
       "    }\n",
       "\n",
       "    .dataframe thead th {\n",
       "        text-align: right;\n",
       "    }\n",
       "</style>\n",
       "<table border=\"1\" class=\"dataframe\">\n",
       "  <thead>\n",
       "    <tr style=\"text-align: right;\">\n",
       "      <th></th>\n",
       "      <th>product_id</th>\n",
       "      <th>product_name</th>\n",
       "      <th>aisle_id</th>\n",
       "      <th>department_id</th>\n",
       "    </tr>\n",
       "  </thead>\n",
       "  <tbody>\n",
       "    <tr>\n",
       "      <th>0</th>\n",
       "      <td>1</td>\n",
       "      <td>Chocolate Sandwich Cookies</td>\n",
       "      <td>61</td>\n",
       "      <td>19</td>\n",
       "    </tr>\n",
       "    <tr>\n",
       "      <th>1</th>\n",
       "      <td>2</td>\n",
       "      <td>All-Seasons Salt</td>\n",
       "      <td>104</td>\n",
       "      <td>13</td>\n",
       "    </tr>\n",
       "    <tr>\n",
       "      <th>2</th>\n",
       "      <td>3</td>\n",
       "      <td>Robust Golden Unsweetened Oolong Tea</td>\n",
       "      <td>94</td>\n",
       "      <td>7</td>\n",
       "    </tr>\n",
       "    <tr>\n",
       "      <th>3</th>\n",
       "      <td>4</td>\n",
       "      <td>Smart Ones Classic Favorites Mini Rigatoni Wit...</td>\n",
       "      <td>38</td>\n",
       "      <td>1</td>\n",
       "    </tr>\n",
       "    <tr>\n",
       "      <th>4</th>\n",
       "      <td>5</td>\n",
       "      <td>Green Chile Anytime Sauce</td>\n",
       "      <td>5</td>\n",
       "      <td>13</td>\n",
       "    </tr>\n",
       "  </tbody>\n",
       "</table>\n",
       "</div>"
      ],
      "text/plain": [
       "   product_id                                       product_name  aisle_id  \\\n",
       "0           1                         Chocolate Sandwich Cookies        61   \n",
       "1           2                                   All-Seasons Salt       104   \n",
       "2           3               Robust Golden Unsweetened Oolong Tea        94   \n",
       "3           4  Smart Ones Classic Favorites Mini Rigatoni Wit...        38   \n",
       "4           5                          Green Chile Anytime Sauce         5   \n",
       "\n",
       "   department_id  \n",
       "0             19  \n",
       "1             13  \n",
       "2              7  \n",
       "3              1  \n",
       "4             13  "
      ]
     },
     "execution_count": 88,
     "metadata": {},
     "output_type": "execute_result"
    }
   ],
   "source": [
    "print('Products shape:', products.shape)\n",
    "products.head()"
   ]
  },
  {
   "attachments": {},
   "cell_type": "markdown",
   "metadata": {},
   "source": [
    "The orders file has all the information about a given order by order_id such as user who has made the order, and when was it purchased. The variables in order_train and order_prior are same. We've mentioned above that the dataset contains 4 to 100 orders of a customer and our goal is to predict the products that a user will reordered. To make this possible, the last order of the user has been taken out and divided into train and test sets. All the prior order informations of the customer are present in order_prior file. We can also note that there is a variable in orders.csv file called eval_set which tells us whether a given order row is  a prior, train or test order.\n",
    "\n",
    "The data files are all linked together with common identifiers and the following graph shows their relations and how they can be combined together. (from https://www.kaggle.com/c/instacart-market-basket-analysis/discussion/33128)\n",
    "\n",
    "\n",
    "\n",
    "![Table relation](files.png)\n",
    "\n",
    "\n",
    "We'll extract different features for modeling. Before that let's explore the raw data\n"
   ]
  },
  {
   "cell_type": "markdown",
   "metadata": {},
   "source": [
    "### Data Exploration\n",
    "#### Order amount for each set\n",
    "Of the more than 3.4 million orders, the majority is from previous orders. "
   ]
  },
  {
   "cell_type": "code",
   "execution_count": 77,
   "metadata": {},
   "outputs": [
    {
     "data": {
      "image/png": "[encoded data removed]",
      "text/plain": [
       "<Figure size 936x576 with 1 Axes>"
      ]
     },
     "metadata": {
      "needs_background": "light"
     },
     "output_type": "display_data"
    },
    {
     "name": "stdout",
     "output_type": "stream",
     "text": [
      "prior    3214874\n",
      "train     131209\n",
      "test       75000\n",
      "Name: eval_set, dtype: int64\n"
     ]
    }
   ],
   "source": [
    "# Compare each set count \n",
    "plt.figure(figsize=(13,8))\n",
    "sns.countplot(x='eval_set', data=orders, palette='hls')\n",
    "plt.title('Number of prior, train, and test orders given')\n",
    "plt.show()\n",
    "\n",
    "print(orders['eval_set'].value_counts())"
   ]
  },
  {
   "cell_type": "code",
   "execution_count": 78,
   "metadata": {},
   "outputs": [
    {
     "name": "stdout",
     "output_type": "stream",
     "text": [
      "3421083\n"
     ]
    }
   ],
   "source": [
    "# Total number of orders\n",
    "print(orders['eval_set'].value_counts().sum())"
   ]
  },
  {
   "cell_type": "code",
   "execution_count": 79,
   "metadata": {},
   "outputs": [
    {
     "name": "stdout",
     "output_type": "stream",
     "text": [
      "Number of unique users 206209\n"
     ]
    }
   ],
   "source": [
    "print('Number of unique users', users.shape[0])"
   ]
  },
  {
   "cell_type": "markdown",
   "metadata": {},
   "source": [
    "The orders above correspond to a total of 206,209 users of which 75000 are test users and 131209 are train users. Since there is only one user per order for train and test sets, we can simply take the length of train and test orders to get the number users corresponding to them.  "
   ]
  },
  {
   "cell_type": "markdown",
   "metadata": {},
   "source": [
    "#### Orders per day of week\n",
    "There is no significant difference between order amounts in different days of the week except for the week day 0 and 1. The data dictionary didn't give information on what days correspond to the numbers given. \n"
   ]
  },
  {
   "cell_type": "code",
   "execution_count": 80,
   "metadata": {},
   "outputs": [
    {
     "data": {
      "image/png": "[encoded data removed]",
      "text/plain": [
       "<Figure size 936x576 with 1 Axes>"
      ]
     },
     "metadata": {
      "needs_background": "light"
     },
     "output_type": "display_data"
    },
    {
     "name": "stdout",
     "output_type": "stream",
     "text": [
      "0    600905\n",
      "1    587478\n",
      "2    467260\n",
      "5    453368\n",
      "6    448761\n",
      "3    436972\n",
      "4    426339\n",
      "Name: order_dow, dtype: int64\n"
     ]
    }
   ],
   "source": [
    "# Compare orders per day of the week \n",
    "plt.figure(figsize=(13,8))\n",
    "sns.countplot(x='order_dow', data=orders, palette='hls')\n",
    "plt.title('Order amount per day of week')\n",
    "plt.show()\n",
    "# print the values\n",
    "print(orders['order_dow'].value_counts())"
   ]
  },
  {
   "cell_type": "markdown",
   "metadata": {},
   "source": [
    "#### Orders per Hour of Day\n",
    "\n",
    "As would be expected, most of the orders are made during the usual active hours of 9:00AM and 5:00PM"
   ]
  },
  {
   "cell_type": "code",
   "execution_count": 81,
   "metadata": {},
   "outputs": [
    {
     "data": {
      "image/png": "[encoded data removed]",
      "text/plain": [
       "<Figure size 936x576 with 1 Axes>"
      ]
     },
     "metadata": {
      "needs_background": "light"
     },
     "output_type": "display_data"
    },
    {
     "name": "stdout",
     "output_type": "stream",
     "text": [
      "10    288418\n",
      "11    284728\n",
      "15    283639\n",
      "14    283042\n",
      "13    277999\n",
      "12    272841\n",
      "16    272553\n",
      "9     257812\n",
      "17    228795\n",
      "18    182912\n",
      "8     178201\n",
      "19    140569\n",
      "20    104292\n",
      "7      91868\n",
      "21     78109\n",
      "22     61468\n",
      "23     40043\n",
      "6      30529\n",
      "0      22758\n",
      "1      12398\n",
      "5       9569\n",
      "2       7539\n",
      "4       5527\n",
      "3       5474\n",
      "Name: order_hour_of_day, dtype: int64\n"
     ]
    }
   ],
   "source": [
    "# Compare orders per hour of day\n",
    "plt.figure(figsize=(13,8))\n",
    "sns.countplot(x='order_hour_of_day', data=orders, palette='hls')\n",
    "plt.title('Order Amount per Hour of Day')\n",
    "plt.show()\n",
    "# print the values\n",
    "print(orders['order_hour_of_day'].value_counts())"
   ]
  },
  {
   "cell_type": "markdown",
   "metadata": {},
   "source": [
    "#### Days Since Last Order\n",
    "We notice that there are spikes in number of orders every seventh day and at the turn of the month. Which indicates a pattern in users habits. "
   ]
  },
  {
   "cell_type": "code",
   "execution_count": 86,
   "metadata": {},
   "outputs": [
    {
     "data": {
      "image/png": "[encoded data removed]",
      "text/plain": [
       "<Figure size 1152x576 with 1 Axes>"
      ]
     },
     "metadata": {
      "needs_background": "light"
     },
     "output_type": "display_data"
    }
   ],
   "source": [
    "# Order intervals \n",
    "plt.figure(figsize=(16,8))\n",
    "sns.countplot(x='days_since_prior_order', data=orders, palette='hls')\n",
    "plt.title('Number of Days Lapsed Since Last Order')\n",
    "plt.show()\n"
   ]
  },
  {
   "cell_type": "markdown",
   "metadata": {},
   "source": [
    "#### Most Popular Producs\n",
    "To see the most ordered products let's merge prior orders with the products table firse"
   ]
  },
  {
   "cell_type": "code",
   "execution_count": 100,
   "metadata": {},
   "outputs": [],
   "source": [
    "# merge to get product name and order information in the same table \n",
    "order_products_prior = pd.merge(priors, products, on='product_id', how='left')"
   ]
  },
  {
   "cell_type": "code",
   "execution_count": 101,
   "metadata": {},
   "outputs": [
    {
     "data": {
      "text/html": [
       "<div>\n",
       "<style scoped>\n",
       "    .dataframe tbody tr th:only-of-type {\n",
       "        vertical-align: middle;\n",
       "    }\n",
       "\n",
       "    .dataframe tbody tr th {\n",
       "        vertical-align: top;\n",
       "    }\n",
       "\n",
       "    .dataframe thead th {\n",
       "        text-align: right;\n",
       "    }\n",
       "</style>\n",
       "<table border=\"1\" class=\"dataframe\">\n",
       "  <thead>\n",
       "    <tr style=\"text-align: right;\">\n",
       "      <th></th>\n",
       "      <th>order_id</th>\n",
       "      <th>product_id</th>\n",
       "      <th>add_to_cart_order</th>\n",
       "      <th>reordered</th>\n",
       "      <th>product_name</th>\n",
       "      <th>aisle_id</th>\n",
       "      <th>department_id</th>\n",
       "    </tr>\n",
       "  </thead>\n",
       "  <tbody>\n",
       "    <tr>\n",
       "      <th>0</th>\n",
       "      <td>2</td>\n",
       "      <td>33120</td>\n",
       "      <td>1</td>\n",
       "      <td>1</td>\n",
       "      <td>Organic Egg Whites</td>\n",
       "      <td>86</td>\n",
       "      <td>16</td>\n",
       "    </tr>\n",
       "    <tr>\n",
       "      <th>1</th>\n",
       "      <td>2</td>\n",
       "      <td>28985</td>\n",
       "      <td>2</td>\n",
       "      <td>1</td>\n",
       "      <td>Michigan Organic Kale</td>\n",
       "      <td>83</td>\n",
       "      <td>4</td>\n",
       "    </tr>\n",
       "    <tr>\n",
       "      <th>2</th>\n",
       "      <td>2</td>\n",
       "      <td>9327</td>\n",
       "      <td>3</td>\n",
       "      <td>0</td>\n",
       "      <td>Garlic Powder</td>\n",
       "      <td>104</td>\n",
       "      <td>13</td>\n",
       "    </tr>\n",
       "    <tr>\n",
       "      <th>3</th>\n",
       "      <td>2</td>\n",
       "      <td>45918</td>\n",
       "      <td>4</td>\n",
       "      <td>1</td>\n",
       "      <td>Coconut Butter</td>\n",
       "      <td>19</td>\n",
       "      <td>13</td>\n",
       "    </tr>\n",
       "    <tr>\n",
       "      <th>4</th>\n",
       "      <td>2</td>\n",
       "      <td>30035</td>\n",
       "      <td>5</td>\n",
       "      <td>0</td>\n",
       "      <td>Natural Sweetener</td>\n",
       "      <td>17</td>\n",
       "      <td>13</td>\n",
       "    </tr>\n",
       "  </tbody>\n",
       "</table>\n",
       "</div>"
      ],
      "text/plain": [
       "   order_id  product_id  add_to_cart_order  reordered           product_name  \\\n",
       "0         2       33120                  1          1     Organic Egg Whites   \n",
       "1         2       28985                  2          1  Michigan Organic Kale   \n",
       "2         2        9327                  3          0          Garlic Powder   \n",
       "3         2       45918                  4          1         Coconut Butter   \n",
       "4         2       30035                  5          0      Natural Sweetener   \n",
       "\n",
       "   aisle_id  department_id  \n",
       "0        86             16  \n",
       "1        83              4  \n",
       "2       104             13  \n",
       "3        19             13  \n",
       "4        17             13  "
      ]
     },
     "execution_count": 101,
     "metadata": {},
     "output_type": "execute_result"
    }
   ],
   "source": [
    "# inspect\n",
    "order_products_prior.head()"
   ]
  },
  {
   "cell_type": "code",
   "execution_count": 110,
   "metadata": {},
   "outputs": [
    {
     "data": {
      "text/html": [
       "<div>\n",
       "<style scoped>\n",
       "    .dataframe tbody tr th:only-of-type {\n",
       "        vertical-align: middle;\n",
       "    }\n",
       "\n",
       "    .dataframe tbody tr th {\n",
       "        vertical-align: top;\n",
       "    }\n",
       "\n",
       "    .dataframe thead th {\n",
       "        text-align: right;\n",
       "    }\n",
       "</style>\n",
       "<table border=\"1\" class=\"dataframe\">\n",
       "  <thead>\n",
       "    <tr style=\"text-align: right;\">\n",
       "      <th></th>\n",
       "      <th>product_name</th>\n",
       "      <th>count</th>\n",
       "    </tr>\n",
       "  </thead>\n",
       "  <tbody>\n",
       "    <tr>\n",
       "      <th>0</th>\n",
       "      <td>Banana</td>\n",
       "      <td>472565</td>\n",
       "    </tr>\n",
       "    <tr>\n",
       "      <th>1</th>\n",
       "      <td>Bag of Organic Bananas</td>\n",
       "      <td>379450</td>\n",
       "    </tr>\n",
       "    <tr>\n",
       "      <th>2</th>\n",
       "      <td>Organic Strawberries</td>\n",
       "      <td>264683</td>\n",
       "    </tr>\n",
       "    <tr>\n",
       "      <th>3</th>\n",
       "      <td>Organic Baby Spinach</td>\n",
       "      <td>241921</td>\n",
       "    </tr>\n",
       "    <tr>\n",
       "      <th>4</th>\n",
       "      <td>Organic Hass Avocado</td>\n",
       "      <td>213584</td>\n",
       "    </tr>\n",
       "    <tr>\n",
       "      <th>5</th>\n",
       "      <td>Organic Avocado</td>\n",
       "      <td>176815</td>\n",
       "    </tr>\n",
       "    <tr>\n",
       "      <th>6</th>\n",
       "      <td>Large Lemon</td>\n",
       "      <td>152657</td>\n",
       "    </tr>\n",
       "    <tr>\n",
       "      <th>7</th>\n",
       "      <td>Strawberries</td>\n",
       "      <td>142951</td>\n",
       "    </tr>\n",
       "    <tr>\n",
       "      <th>8</th>\n",
       "      <td>Limes</td>\n",
       "      <td>140627</td>\n",
       "    </tr>\n",
       "    <tr>\n",
       "      <th>9</th>\n",
       "      <td>Organic Whole Milk</td>\n",
       "      <td>137905</td>\n",
       "    </tr>\n",
       "    <tr>\n",
       "      <th>10</th>\n",
       "      <td>Organic Raspberries</td>\n",
       "      <td>137057</td>\n",
       "    </tr>\n",
       "    <tr>\n",
       "      <th>11</th>\n",
       "      <td>Organic Yellow Onion</td>\n",
       "      <td>113426</td>\n",
       "    </tr>\n",
       "    <tr>\n",
       "      <th>12</th>\n",
       "      <td>Organic Garlic</td>\n",
       "      <td>109778</td>\n",
       "    </tr>\n",
       "    <tr>\n",
       "      <th>13</th>\n",
       "      <td>Organic Zucchini</td>\n",
       "      <td>104823</td>\n",
       "    </tr>\n",
       "    <tr>\n",
       "      <th>14</th>\n",
       "      <td>Organic Blueberries</td>\n",
       "      <td>100060</td>\n",
       "    </tr>\n",
       "    <tr>\n",
       "      <th>15</th>\n",
       "      <td>Cucumber Kirby</td>\n",
       "      <td>97315</td>\n",
       "    </tr>\n",
       "    <tr>\n",
       "      <th>16</th>\n",
       "      <td>Organic Fuji Apple</td>\n",
       "      <td>89632</td>\n",
       "    </tr>\n",
       "    <tr>\n",
       "      <th>17</th>\n",
       "      <td>Organic Lemon</td>\n",
       "      <td>87746</td>\n",
       "    </tr>\n",
       "    <tr>\n",
       "      <th>18</th>\n",
       "      <td>Apple Honeycrisp Organic</td>\n",
       "      <td>85020</td>\n",
       "    </tr>\n",
       "    <tr>\n",
       "      <th>19</th>\n",
       "      <td>Organic Grape Tomatoes</td>\n",
       "      <td>84255</td>\n",
       "    </tr>\n",
       "  </tbody>\n",
       "</table>\n",
       "</div>"
      ],
      "text/plain": [
       "                product_name   count\n",
       "0                     Banana  472565\n",
       "1     Bag of Organic Bananas  379450\n",
       "2       Organic Strawberries  264683\n",
       "3       Organic Baby Spinach  241921\n",
       "4       Organic Hass Avocado  213584\n",
       "5            Organic Avocado  176815\n",
       "6                Large Lemon  152657\n",
       "7               Strawberries  142951\n",
       "8                      Limes  140627\n",
       "9         Organic Whole Milk  137905\n",
       "10       Organic Raspberries  137057\n",
       "11      Organic Yellow Onion  113426\n",
       "12            Organic Garlic  109778\n",
       "13          Organic Zucchini  104823\n",
       "14       Organic Blueberries  100060\n",
       "15            Cucumber Kirby   97315\n",
       "16        Organic Fuji Apple   89632\n",
       "17             Organic Lemon   87746\n",
       "18  Apple Honeycrisp Organic   85020\n",
       "19    Organic Grape Tomatoes   84255"
      ]
     },
     "execution_count": 110,
     "metadata": {},
     "output_type": "execute_result"
    }
   ],
   "source": [
    "# Count the most common products  \n",
    "cnt_srs = order_products_prior['product_name'].value_counts().reset_index().head(20)\n",
    "cnt_srs.columns = ['product_name', 'count']\n",
    "cnt_srs"
   ]
  },
  {
   "cell_type": "code",
   "execution_count": 112,
   "metadata": {},
   "outputs": [
    {
     "data": {
      "image/png": "[encoded data removed]",
      "text/plain": [
       "<Figure size 1152x576 with 1 Axes>"
      ]
     },
     "metadata": {
      "needs_background": "light"
     },
     "output_type": "display_data"
    }
   ],
   "source": [
    "# Order intervals \n",
    "plt.figure(figsize=(16,8))\n",
    "sns.barplot(x='product_name', y='count', data=cnt_srs, palette='hls')\n",
    "plt.title('Count of Most Popular Products')\n",
    "plt.xticks(rotation=90)\n",
    "plt.show()"
   ]
  },
  {
   "cell_type": "markdown",
   "metadata": {},
   "source": [
    "Interestingly the first most popular product is banana and the second most popular product is also banana. Most of the top 20 products we ploted above are organic products and except for organic whole milk, all others are either fruits or vegitables. here it is not clear whether that says a lot about eating habits of Instacart users or American consumers in general. \n",
    "\n",
    "We can do similar combinations to make more visualization and analysis for Aisles, and departments. We now have a better feel of the dataset. "
   ]
  },
  {
   "cell_type": "code",
   "execution_count": 113,
   "metadata": {},
   "outputs": [],
   "source": [
    "# Save memory\n",
    "del order_products_prior, cnt_srs  "
   ]
  },
  {
   "cell_type": "markdown",
   "metadata": {},
   "source": [
    "### Problem Approach and Feature Generation\n",
    "Our approach to make future prediction is to make a list of all unique products that a user has ordered previously and predict the probabiity that each individual product will be reordered by the same user. The list will be a unique user product pair. We will then split the 'train' data in to training and evaluation sets. That way we will be able to evaluate the model before making prediction useing the test set. \n",
    "\n",
    "We'll create features at users, product, and order labels and the feature names will be self explanatory. "
   ]
  },
  {
   "cell_type": "code",
   "execution_count": 120,
   "metadata": {},
   "outputs": [],
   "source": [
    "#Reorder rate. reorder to order ratio\n",
    "#product features\n",
    "prods = pd.DataFrame()\n",
    "prods['orders'] = priors.groupby(priors.product_id).size().astype(np.int32)\n",
    "prods['reorders'] = priors['reordered'].groupby(priors.product_id).sum().astype(np.float32)\n",
    "prods['reorder_rate'] = (prods.reorders / prods.orders).astype(np.float32)\n",
    "products = products.join(prods, on='product_id')\n",
    "products.set_index('product_id', drop=False, inplace=True)"
   ]
  },
  {
   "cell_type": "code",
   "execution_count": 121,
   "metadata": {},
   "outputs": [
    {
     "data": {
      "text/html": [
       "<div>\n",
       "<style scoped>\n",
       "    .dataframe tbody tr th:only-of-type {\n",
       "        vertical-align: middle;\n",
       "    }\n",
       "\n",
       "    .dataframe tbody tr th {\n",
       "        vertical-align: top;\n",
       "    }\n",
       "\n",
       "    .dataframe thead th {\n",
       "        text-align: right;\n",
       "    }\n",
       "</style>\n",
       "<table border=\"1\" class=\"dataframe\">\n",
       "  <thead>\n",
       "    <tr style=\"text-align: right;\">\n",
       "      <th></th>\n",
       "      <th>product_id</th>\n",
       "      <th>aisle_id</th>\n",
       "      <th>department_id</th>\n",
       "      <th>orders</th>\n",
       "      <th>reorders</th>\n",
       "      <th>reorder_rate</th>\n",
       "    </tr>\n",
       "    <tr>\n",
       "      <th>product_id</th>\n",
       "      <th></th>\n",
       "      <th></th>\n",
       "      <th></th>\n",
       "      <th></th>\n",
       "      <th></th>\n",
       "      <th></th>\n",
       "    </tr>\n",
       "  </thead>\n",
       "  <tbody>\n",
       "    <tr>\n",
       "      <th>1</th>\n",
       "      <td>1</td>\n",
       "      <td>61</td>\n",
       "      <td>19</td>\n",
       "      <td>1852.0</td>\n",
       "      <td>1136.0</td>\n",
       "      <td>0.613391</td>\n",
       "    </tr>\n",
       "    <tr>\n",
       "      <th>2</th>\n",
       "      <td>2</td>\n",
       "      <td>104</td>\n",
       "      <td>13</td>\n",
       "      <td>90.0</td>\n",
       "      <td>12.0</td>\n",
       "      <td>0.133333</td>\n",
       "    </tr>\n",
       "    <tr>\n",
       "      <th>3</th>\n",
       "      <td>3</td>\n",
       "      <td>94</td>\n",
       "      <td>7</td>\n",
       "      <td>277.0</td>\n",
       "      <td>203.0</td>\n",
       "      <td>0.732852</td>\n",
       "    </tr>\n",
       "    <tr>\n",
       "      <th>4</th>\n",
       "      <td>4</td>\n",
       "      <td>38</td>\n",
       "      <td>1</td>\n",
       "      <td>329.0</td>\n",
       "      <td>147.0</td>\n",
       "      <td>0.446809</td>\n",
       "    </tr>\n",
       "    <tr>\n",
       "      <th>5</th>\n",
       "      <td>5</td>\n",
       "      <td>5</td>\n",
       "      <td>13</td>\n",
       "      <td>15.0</td>\n",
       "      <td>9.0</td>\n",
       "      <td>0.600000</td>\n",
       "    </tr>\n",
       "  </tbody>\n",
       "</table>\n",
       "</div>"
      ],
      "text/plain": [
       "            product_id  aisle_id  department_id  orders  reorders  \\\n",
       "product_id                                                          \n",
       "1                    1        61             19  1852.0    1136.0   \n",
       "2                    2       104             13    90.0      12.0   \n",
       "3                    3        94              7   277.0     203.0   \n",
       "4                    4        38              1   329.0     147.0   \n",
       "5                    5         5             13    15.0       9.0   \n",
       "\n",
       "            reorder_rate  \n",
       "product_id                \n",
       "1               0.613391  \n",
       "2               0.133333  \n",
       "3               0.732852  \n",
       "4               0.446809  \n",
       "5               0.600000  "
      ]
     },
     "execution_count": 121,
     "metadata": {},
     "output_type": "execute_result"
    }
   ],
   "source": [
    "products.head()"
   ]
  },
  {
   "cell_type": "code",
   "execution_count": 119,
   "metadata": {},
   "outputs": [],
   "source": [
    "# Drop product name to help with memory issues later and use user_instead\n",
    "products.drop('product_name', 1, inplace=True)"
   ]
  },
  {
   "cell_type": "code",
   "execution_count": 122,
   "metadata": {},
   "outputs": [],
   "source": [
    "#add order and priors\n",
    "orders.set_index('order_id', inplace=True, drop=False)\n",
    "priors = priors.join(orders, on='order_id', rsuffix='_')\n",
    "priors.drop('order_id_', inplace=True, axis=1)"
   ]
  },
  {
   "cell_type": "code",
   "execution_count": 123,
   "metadata": {},
   "outputs": [
    {
     "name": "stdout",
     "output_type": "stream",
     "text": [
      "Number of unique users 206209\n"
     ]
    }
   ],
   "source": [
    "# user features\n",
    "usr = pd.DataFrame()\n",
    "usr['average_days_between_orders'] = orders.groupby('user_id')['days_since_prior_order'].mean().astype(np.float32)\n",
    "usr['nb_orders'] = orders.groupby('user_id').size().astype(np.int16)\n",
    "\n",
    "users = pd.DataFrame()\n",
    "users['total_items'] = priors.groupby('user_id').size().astype(np.int16)\n",
    "users['all_products'] = priors.groupby('user_id')['product_id'].apply(set)\n",
    "users['total_distinct_items'] = (users.all_products.map(len)).astype(np.int16)\n",
    "\n",
    "users = users.join(usr)\n",
    "# Average size of user basket \n",
    "users['average_basket'] = (users.total_items / users.nb_orders).astype(np.float32)\n",
    "print('Number of unique users', users.shape[0])"
   ]
  },
  {
   "cell_type": "code",
   "execution_count": 124,
   "metadata": {},
   "outputs": [],
   "source": [
    "# userXproduct features. User product pair \n",
    "priors['user_product'] = priors.product_id + priors.user_id * 100000"
   ]
  },
  {
   "cell_type": "code",
   "execution_count": 125,
   "metadata": {},
   "outputs": [
    {
     "data": {
      "text/html": [
       "<div>\n",
       "<style scoped>\n",
       "    .dataframe tbody tr th:only-of-type {\n",
       "        vertical-align: middle;\n",
       "    }\n",
       "\n",
       "    .dataframe tbody tr th {\n",
       "        vertical-align: top;\n",
       "    }\n",
       "\n",
       "    .dataframe thead th {\n",
       "        text-align: right;\n",
       "    }\n",
       "</style>\n",
       "<table border=\"1\" class=\"dataframe\">\n",
       "  <thead>\n",
       "    <tr style=\"text-align: right;\">\n",
       "      <th></th>\n",
       "      <th>order_id</th>\n",
       "      <th>product_id</th>\n",
       "      <th>add_to_cart_order</th>\n",
       "      <th>reordered</th>\n",
       "      <th>user_id</th>\n",
       "      <th>eval_set</th>\n",
       "      <th>order_number</th>\n",
       "      <th>order_dow</th>\n",
       "      <th>order_hour_of_day</th>\n",
       "      <th>days_since_prior_order</th>\n",
       "      <th>user_product</th>\n",
       "    </tr>\n",
       "  </thead>\n",
       "  <tbody>\n",
       "    <tr>\n",
       "      <th>0</th>\n",
       "      <td>2</td>\n",
       "      <td>33120</td>\n",
       "      <td>1</td>\n",
       "      <td>1</td>\n",
       "      <td>202279</td>\n",
       "      <td>prior</td>\n",
       "      <td>3</td>\n",
       "      <td>5</td>\n",
       "      <td>9</td>\n",
       "      <td>8.0</td>\n",
       "      <td>-1246903360</td>\n",
       "    </tr>\n",
       "    <tr>\n",
       "      <th>1</th>\n",
       "      <td>2</td>\n",
       "      <td>28985</td>\n",
       "      <td>2</td>\n",
       "      <td>1</td>\n",
       "      <td>202279</td>\n",
       "      <td>prior</td>\n",
       "      <td>3</td>\n",
       "      <td>5</td>\n",
       "      <td>9</td>\n",
       "      <td>8.0</td>\n",
       "      <td>-1246907495</td>\n",
       "    </tr>\n",
       "    <tr>\n",
       "      <th>2</th>\n",
       "      <td>2</td>\n",
       "      <td>9327</td>\n",
       "      <td>3</td>\n",
       "      <td>0</td>\n",
       "      <td>202279</td>\n",
       "      <td>prior</td>\n",
       "      <td>3</td>\n",
       "      <td>5</td>\n",
       "      <td>9</td>\n",
       "      <td>8.0</td>\n",
       "      <td>-1246927153</td>\n",
       "    </tr>\n",
       "    <tr>\n",
       "      <th>3</th>\n",
       "      <td>2</td>\n",
       "      <td>45918</td>\n",
       "      <td>4</td>\n",
       "      <td>1</td>\n",
       "      <td>202279</td>\n",
       "      <td>prior</td>\n",
       "      <td>3</td>\n",
       "      <td>5</td>\n",
       "      <td>9</td>\n",
       "      <td>8.0</td>\n",
       "      <td>-1246890562</td>\n",
       "    </tr>\n",
       "    <tr>\n",
       "      <th>4</th>\n",
       "      <td>2</td>\n",
       "      <td>30035</td>\n",
       "      <td>5</td>\n",
       "      <td>0</td>\n",
       "      <td>202279</td>\n",
       "      <td>prior</td>\n",
       "      <td>3</td>\n",
       "      <td>5</td>\n",
       "      <td>9</td>\n",
       "      <td>8.0</td>\n",
       "      <td>-1246906445</td>\n",
       "    </tr>\n",
       "  </tbody>\n",
       "</table>\n",
       "</div>"
      ],
      "text/plain": [
       "   order_id  product_id  add_to_cart_order  reordered  user_id eval_set  \\\n",
       "0         2       33120                  1          1   202279    prior   \n",
       "1         2       28985                  2          1   202279    prior   \n",
       "2         2        9327                  3          0   202279    prior   \n",
       "3         2       45918                  4          1   202279    prior   \n",
       "4         2       30035                  5          0   202279    prior   \n",
       "\n",
       "   order_number  order_dow  order_hour_of_day  days_since_prior_order  \\\n",
       "0             3          5                  9                     8.0   \n",
       "1             3          5                  9                     8.0   \n",
       "2             3          5                  9                     8.0   \n",
       "3             3          5                  9                     8.0   \n",
       "4             3          5                  9                     8.0   \n",
       "\n",
       "   user_product  \n",
       "0   -1246903360  \n",
       "1   -1246907495  \n",
       "2   -1246927153  \n",
       "3   -1246890562  \n",
       "4   -1246906445  "
      ]
     },
     "execution_count": 125,
     "metadata": {},
     "output_type": "execute_result"
    }
   ],
   "source": [
    "# preview \n",
    "priors.head()"
   ]
  },
  {
   "cell_type": "code",
   "execution_count": 126,
   "metadata": {},
   "outputs": [],
   "source": [
    "# Aggregates every unique product that a unique user has previously bought\n",
    "d= dict()\n",
    "for row in priors.itertuples():\n",
    "    z = row.user_product\n",
    "    if z not in d:\n",
    "        d[z] = (1,\n",
    "                (row.order_number, row.order_id),\n",
    "                row.add_to_cart_order)\n",
    "    else:\n",
    "        d[z] = (d[z][0] + 1,\n",
    "                max(d[z][1], (row.order_number, row.order_id)),\n",
    "                d[z][2] + row.add_to_cart_order)"
   ]
  },
  {
   "cell_type": "code",
   "execution_count": 127,
   "metadata": {},
   "outputs": [
    {
     "name": "stdout",
     "output_type": "stream",
     "text": [
      "number of user product pair  13293564\n"
     ]
    }
   ],
   "source": [
    "# Convert dictionary to pandas data frame \n",
    "\n",
    "userXproduct = pd.DataFrame.from_dict(d, orient='index')\n",
    "del d\n",
    "userXproduct.columns = ['nb_orders', 'last_order_id', 'sum_pos_in_cart']\n",
    "userXproduct.nb_orders = userXproduct.nb_orders.astype(np.int16)\n",
    "userXproduct.last_order_id = userXproduct.last_order_id.map(lambda x: x[1]).astype(np.int32)\n",
    "userXproduct.sum_pos_in_cart = userXproduct.sum_pos_in_cart.astype(np.int16)\n",
    "print('number of user product pair ', len(userXproduct))\n"
   ]
  },
  {
   "cell_type": "markdown",
   "metadata": {},
   "source": [
    "Since the total user product pair is too huge to use, we'll use the ones with 'train' label for modeling. "
   ]
  },
  {
   "cell_type": "code",
   "execution_count": 128,
   "metadata": {},
   "outputs": [],
   "source": [
    "# Split train / test orders\n",
    "\n",
    "test_orders = orders[orders.eval_set == 'test']\n",
    "train_orders = orders[orders.eval_set == 'train']\n",
    "\n",
    "train.set_index(['order_id', 'product_id'], inplace=True, drop=False)"
   ]
  },
  {
   "cell_type": "code",
   "execution_count": 132,
   "metadata": {},
   "outputs": [
    {
     "data": {
      "text/html": [
       "<div>\n",
       "<style scoped>\n",
       "    .dataframe tbody tr th:only-of-type {\n",
       "        vertical-align: middle;\n",
       "    }\n",
       "\n",
       "    .dataframe tbody tr th {\n",
       "        vertical-align: top;\n",
       "    }\n",
       "\n",
       "    .dataframe thead th {\n",
       "        text-align: right;\n",
       "    }\n",
       "</style>\n",
       "<table border=\"1\" class=\"dataframe\">\n",
       "  <thead>\n",
       "    <tr style=\"text-align: right;\">\n",
       "      <th></th>\n",
       "      <th>order_id</th>\n",
       "      <th>user_id</th>\n",
       "      <th>eval_set</th>\n",
       "      <th>order_number</th>\n",
       "      <th>order_dow</th>\n",
       "      <th>order_hour_of_day</th>\n",
       "      <th>days_since_prior_order</th>\n",
       "    </tr>\n",
       "    <tr>\n",
       "      <th>order_id</th>\n",
       "      <th></th>\n",
       "      <th></th>\n",
       "      <th></th>\n",
       "      <th></th>\n",
       "      <th></th>\n",
       "      <th></th>\n",
       "      <th></th>\n",
       "    </tr>\n",
       "  </thead>\n",
       "  <tbody>\n",
       "    <tr>\n",
       "      <th>1187899</th>\n",
       "      <td>1187899</td>\n",
       "      <td>1</td>\n",
       "      <td>train</td>\n",
       "      <td>11</td>\n",
       "      <td>4</td>\n",
       "      <td>8</td>\n",
       "      <td>14.0</td>\n",
       "    </tr>\n",
       "    <tr>\n",
       "      <th>1492625</th>\n",
       "      <td>1492625</td>\n",
       "      <td>2</td>\n",
       "      <td>train</td>\n",
       "      <td>15</td>\n",
       "      <td>1</td>\n",
       "      <td>11</td>\n",
       "      <td>30.0</td>\n",
       "    </tr>\n",
       "    <tr>\n",
       "      <th>2196797</th>\n",
       "      <td>2196797</td>\n",
       "      <td>5</td>\n",
       "      <td>train</td>\n",
       "      <td>5</td>\n",
       "      <td>0</td>\n",
       "      <td>11</td>\n",
       "      <td>6.0</td>\n",
       "    </tr>\n",
       "    <tr>\n",
       "      <th>525192</th>\n",
       "      <td>525192</td>\n",
       "      <td>7</td>\n",
       "      <td>train</td>\n",
       "      <td>21</td>\n",
       "      <td>2</td>\n",
       "      <td>11</td>\n",
       "      <td>6.0</td>\n",
       "    </tr>\n",
       "    <tr>\n",
       "      <th>880375</th>\n",
       "      <td>880375</td>\n",
       "      <td>8</td>\n",
       "      <td>train</td>\n",
       "      <td>4</td>\n",
       "      <td>1</td>\n",
       "      <td>14</td>\n",
       "      <td>10.0</td>\n",
       "    </tr>\n",
       "  </tbody>\n",
       "</table>\n",
       "</div>"
      ],
      "text/plain": [
       "          order_id  user_id eval_set  order_number  order_dow  \\\n",
       "order_id                                                        \n",
       "1187899    1187899        1    train            11          4   \n",
       "1492625    1492625        2    train            15          1   \n",
       "2196797    2196797        5    train             5          0   \n",
       "525192      525192        7    train            21          2   \n",
       "880375      880375        8    train             4          1   \n",
       "\n",
       "          order_hour_of_day  days_since_prior_order  \n",
       "order_id                                             \n",
       "1187899                   8                    14.0  \n",
       "1492625                  11                    30.0  \n",
       "2196797                  11                     6.0  \n",
       "525192                   11                     6.0  \n",
       "880375                   14                    10.0  "
      ]
     },
     "execution_count": 132,
     "metadata": {},
     "output_type": "execute_result"
    }
   ],
   "source": [
    "train_orders.head()"
   ]
  },
  {
   "cell_type": "code",
   "execution_count": 181,
   "metadata": {},
   "outputs": [
    {
     "data": {
      "text/html": [
       "<div>\n",
       "<style scoped>\n",
       "    .dataframe tbody tr th:only-of-type {\n",
       "        vertical-align: middle;\n",
       "    }\n",
       "\n",
       "    .dataframe tbody tr th {\n",
       "        vertical-align: top;\n",
       "    }\n",
       "\n",
       "    .dataframe thead th {\n",
       "        text-align: right;\n",
       "    }\n",
       "</style>\n",
       "<table border=\"1\" class=\"dataframe\">\n",
       "  <thead>\n",
       "    <tr style=\"text-align: right;\">\n",
       "      <th></th>\n",
       "      <th>order_id</th>\n",
       "      <th>user_id</th>\n",
       "      <th>eval_set</th>\n",
       "      <th>order_number</th>\n",
       "      <th>order_dow</th>\n",
       "      <th>order_hour_of_day</th>\n",
       "      <th>days_since_prior_order</th>\n",
       "    </tr>\n",
       "    <tr>\n",
       "      <th>order_id</th>\n",
       "      <th></th>\n",
       "      <th></th>\n",
       "      <th></th>\n",
       "      <th></th>\n",
       "      <th></th>\n",
       "      <th></th>\n",
       "      <th></th>\n",
       "    </tr>\n",
       "  </thead>\n",
       "  <tbody>\n",
       "    <tr>\n",
       "      <th>2774568</th>\n",
       "      <td>2774568</td>\n",
       "      <td>3</td>\n",
       "      <td>test</td>\n",
       "      <td>13</td>\n",
       "      <td>5</td>\n",
       "      <td>15</td>\n",
       "      <td>11.0</td>\n",
       "    </tr>\n",
       "    <tr>\n",
       "      <th>329954</th>\n",
       "      <td>329954</td>\n",
       "      <td>4</td>\n",
       "      <td>test</td>\n",
       "      <td>6</td>\n",
       "      <td>3</td>\n",
       "      <td>12</td>\n",
       "      <td>30.0</td>\n",
       "    </tr>\n",
       "    <tr>\n",
       "      <th>1528013</th>\n",
       "      <td>1528013</td>\n",
       "      <td>6</td>\n",
       "      <td>test</td>\n",
       "      <td>4</td>\n",
       "      <td>3</td>\n",
       "      <td>16</td>\n",
       "      <td>22.0</td>\n",
       "    </tr>\n",
       "    <tr>\n",
       "      <th>1376945</th>\n",
       "      <td>1376945</td>\n",
       "      <td>11</td>\n",
       "      <td>test</td>\n",
       "      <td>8</td>\n",
       "      <td>6</td>\n",
       "      <td>11</td>\n",
       "      <td>8.0</td>\n",
       "    </tr>\n",
       "    <tr>\n",
       "      <th>1356845</th>\n",
       "      <td>1356845</td>\n",
       "      <td>12</td>\n",
       "      <td>test</td>\n",
       "      <td>6</td>\n",
       "      <td>1</td>\n",
       "      <td>20</td>\n",
       "      <td>30.0</td>\n",
       "    </tr>\n",
       "  </tbody>\n",
       "</table>\n",
       "</div>"
      ],
      "text/plain": [
       "          order_id  user_id eval_set  order_number  order_dow  \\\n",
       "order_id                                                        \n",
       "2774568    2774568        3     test            13          5   \n",
       "329954      329954        4     test             6          3   \n",
       "1528013    1528013        6     test             4          3   \n",
       "1376945    1376945       11     test             8          6   \n",
       "1356845    1356845       12     test             6          1   \n",
       "\n",
       "          order_hour_of_day  days_since_prior_order  \n",
       "order_id                                             \n",
       "2774568                  15                    11.0  \n",
       "329954                   12                    30.0  \n",
       "1528013                  16                    22.0  \n",
       "1376945                  11                     8.0  \n",
       "1356845                  20                    30.0  "
      ]
     },
     "execution_count": 181,
     "metadata": {},
     "output_type": "execute_result"
    }
   ],
   "source": [
    "test_orders.head()"
   ]
  },
  {
   "cell_type": "code",
   "execution_count": 129,
   "metadata": {},
   "outputs": [],
   "source": [
    "# build list of candidate products to reorder, with features\n",
    "\n",
    "def features(selected_orders, labels_given=False):\n",
    "    print('build candidate list')\n",
    "    order_list = []\n",
    "    product_list = []\n",
    "    labels = []\n",
    "    i=0\n",
    "    for row in selected_orders.itertuples():\n",
    "        i+=1\n",
    "        if i%1000000 == 0: print('order row',i)\n",
    "        order_id = row.order_id\n",
    "        user_id = row.user_id\n",
    "        user_products = users.all_products[user_id]\n",
    "        product_list += user_products\n",
    "        order_list += [order_id] * len(user_products)\n",
    "        if labels_given:\n",
    "            labels += [(order_id, product) in train.index for product in user_products]\n",
    "            '''Returns a true/false list whether or not a certain product is in a certain order \n",
    "            based on previously built list of all unique products a user has ever bought.\n",
    "            '''\n",
    "        \n",
    "    df = pd.DataFrame({'order_id':order_list, 'product_id':product_list}, dtype=np.int32)\n",
    "    labels = np.array(labels, dtype=np.int8)\n",
    "    del order_list\n",
    "    del product_list\n",
    "    \n",
    "    # User level features\n",
    "    df['user_id'] = df.order_id.map(orders.user_id)\n",
    "    df['user_total_orders'] = df.user_id.map(users.nb_orders)\n",
    "    df['user_total_items'] = df.user_id.map(users.total_items)\n",
    "    df['total_distinct_items'] = df.user_id.map(users.total_distinct_items)\n",
    "    df['user_average_days_between_orders'] = df.user_id.map(users.average_days_between_orders)\n",
    "    df['user_average_basket'] =  df.user_id.map(users.average_basket)\n",
    "    \n",
    "    # Order level features\n",
    "    df['order_hour_of_day'] = df.order_id.map(orders.order_hour_of_day)\n",
    "    df['days_since_prior_order'] = df.order_id.map(orders.days_since_prior_order)\n",
    "    df['days_since_ratio'] = df.days_since_prior_order / df.user_average_days_between_orders\n",
    "    \n",
    "    # Product level features\n",
    "    df['aisle_id'] = df.product_id.map(products.aisle_id)\n",
    "    df['department_id'] = df.product_id.map(products.department_id)\n",
    "    df['product_orders'] = df.product_id.map(products.orders).astype(np.int32)\n",
    "    df['product_reorders'] = df.product_id.map(products.reorders)\n",
    "    df['product_reorder_rate'] = df.product_id.map(products.reorder_rate)\n",
    "\n",
    "    # user-product pair features\n",
    "    df['z'] = df.user_id * 100000 + df.product_id\n",
    "    df.drop(['user_id'], axis=1, inplace=True)\n",
    "    df['UP_orders'] = df.z.map(userXproduct.nb_orders)\n",
    "    df['UP_orders_ratio'] = (df.UP_orders / df.user_total_orders).astype(np.float32)\n",
    "    df['UP_last_order_id'] = df.z.map(userXproduct.last_order_id)\n",
    "    df['UP_average_pos_in_cart'] = (df.z.map(userXproduct.sum_pos_in_cart) / df.UP_orders).astype(np.float32)\n",
    "    df['UP_reorder_rate'] = (df.UP_orders / df.user_total_orders).astype(np.float32)\n",
    "    df['UP_orders_since_last'] = df.user_total_orders - df.UP_last_order_id.map(orders.order_number)\n",
    "    df['UP_delta_hour_vs_last'] = abs(df.order_hour_of_day - df.UP_last_order_id.map(orders.order_hour_of_day)).map(lambda x: min(x, 24-x)).astype(np.int8)\n",
    "    \n",
    "    df.drop(['UP_last_order_id', 'z'], axis=1, inplace=True)\n",
    "    \n",
    "    return (df, labels)"
   ]
  },
  {
   "cell_type": "code",
   "execution_count": 131,
   "metadata": {},
   "outputs": [
    {
     "name": "stdout",
     "output_type": "stream",
     "text": [
      "build candidate list\n"
     ]
    }
   ],
   "source": [
    "# Create the list \n",
    "df_train, labels = features(train_orders, labels_given=True)\n",
    "\n"
   ]
  },
  {
   "cell_type": "code",
   "execution_count": 134,
   "metadata": {},
   "outputs": [
    {
     "data": {
      "text/plain": [
       "(8474661, 21)"
      ]
     },
     "execution_count": 134,
     "metadata": {},
     "output_type": "execute_result"
    }
   ],
   "source": [
    "df_train.shape"
   ]
  },
  {
   "cell_type": "code",
   "execution_count": 191,
   "metadata": {},
   "outputs": [
    {
     "data": {
      "text/plain": [
       "array([0, 1, 1, 1, 0, 1, 1, 1, 0, 1], dtype=int8)"
      ]
     },
     "execution_count": 191,
     "metadata": {},
     "output_type": "execute_result"
    }
   ],
   "source": [
    "labels[:10]"
   ]
  },
  {
   "cell_type": "markdown",
   "metadata": {},
   "source": [
    "We will use the following features for modeling. This makes it easier to select fewer features if needed.  "
   ]
  },
  {
   "cell_type": "code",
   "execution_count": 13,
   "metadata": {},
   "outputs": [],
   "source": [
    "# features to use \n",
    "f_to_use = ['user_total_orders', 'user_total_items', 'total_distinct_items',\n",
    "       'user_average_days_between_orders', 'user_average_basket',\n",
    "       'order_hour_of_day', 'days_since_prior_order', 'days_since_ratio',\n",
    "       'aisle_id', 'department_id', 'product_orders', 'product_reorders',\n",
    "       'product_reorder_rate', 'UP_orders', 'UP_orders_ratio',\n",
    "       'UP_average_pos_in_cart', 'UP_reorder_rate', 'UP_orders_since_last',\n",
    "       'UP_delta_hour_vs_last'] "
   ]
  },
  {
   "cell_type": "code",
   "execution_count": 136,
   "metadata": {},
   "outputs": [],
   "source": [
    "# add the label. this will be target variable\n",
    "df_train['reordered'] = labels"
   ]
  },
  {
   "cell_type": "code",
   "execution_count": 193,
   "metadata": {
    "scrolled": false
   },
   "outputs": [
    {
     "data": {
      "text/html": [
       "<div>\n",
       "<style scoped>\n",
       "    .dataframe tbody tr th:only-of-type {\n",
       "        vertical-align: middle;\n",
       "    }\n",
       "\n",
       "    .dataframe tbody tr th {\n",
       "        vertical-align: top;\n",
       "    }\n",
       "\n",
       "    .dataframe thead th {\n",
       "        text-align: right;\n",
       "    }\n",
       "</style>\n",
       "<table border=\"1\" class=\"dataframe\">\n",
       "  <thead>\n",
       "    <tr style=\"text-align: right;\">\n",
       "      <th></th>\n",
       "      <th>order_id</th>\n",
       "      <th>product_id</th>\n",
       "      <th>user_total_orders</th>\n",
       "      <th>user_total_items</th>\n",
       "      <th>total_distinct_items</th>\n",
       "      <th>user_average_days_between_orders</th>\n",
       "      <th>user_average_basket</th>\n",
       "      <th>order_hour_of_day</th>\n",
       "      <th>days_since_prior_order</th>\n",
       "      <th>days_since_ratio</th>\n",
       "      <th>aisle_id</th>\n",
       "      <th>department_id</th>\n",
       "      <th>product_orders</th>\n",
       "      <th>product_reorders</th>\n",
       "      <th>product_reorder_rate</th>\n",
       "      <th>UP_orders</th>\n",
       "      <th>UP_orders_ratio</th>\n",
       "      <th>UP_average_pos_in_cart</th>\n",
       "      <th>UP_reorder_rate</th>\n",
       "      <th>UP_orders_since_last</th>\n",
       "      <th>UP_delta_hour_vs_last</th>\n",
       "      <th>reordered</th>\n",
       "    </tr>\n",
       "  </thead>\n",
       "  <tbody>\n",
       "    <tr>\n",
       "      <th>0</th>\n",
       "      <td>1187899</td>\n",
       "      <td>17122</td>\n",
       "      <td>11</td>\n",
       "      <td>59</td>\n",
       "      <td>18</td>\n",
       "      <td>19.0</td>\n",
       "      <td>5.363636</td>\n",
       "      <td>8</td>\n",
       "      <td>14.0</td>\n",
       "      <td>0.736842</td>\n",
       "      <td>24</td>\n",
       "      <td>4</td>\n",
       "      <td>13880</td>\n",
       "      <td>9377.0</td>\n",
       "      <td>0.675576</td>\n",
       "      <td>1</td>\n",
       "      <td>0.090909</td>\n",
       "      <td>6.0</td>\n",
       "      <td>0.090909</td>\n",
       "      <td>6</td>\n",
       "      <td>7</td>\n",
       "      <td>0</td>\n",
       "    </tr>\n",
       "    <tr>\n",
       "      <th>1</th>\n",
       "      <td>1187899</td>\n",
       "      <td>196</td>\n",
       "      <td>11</td>\n",
       "      <td>59</td>\n",
       "      <td>18</td>\n",
       "      <td>19.0</td>\n",
       "      <td>5.363636</td>\n",
       "      <td>8</td>\n",
       "      <td>14.0</td>\n",
       "      <td>0.736842</td>\n",
       "      <td>77</td>\n",
       "      <td>7</td>\n",
       "      <td>35791</td>\n",
       "      <td>27791.0</td>\n",
       "      <td>0.776480</td>\n",
       "      <td>10</td>\n",
       "      <td>0.909091</td>\n",
       "      <td>1.4</td>\n",
       "      <td>0.909091</td>\n",
       "      <td>1</td>\n",
       "      <td>0</td>\n",
       "      <td>1</td>\n",
       "    </tr>\n",
       "    <tr>\n",
       "      <th>2</th>\n",
       "      <td>1187899</td>\n",
       "      <td>26405</td>\n",
       "      <td>11</td>\n",
       "      <td>59</td>\n",
       "      <td>18</td>\n",
       "      <td>19.0</td>\n",
       "      <td>5.363636</td>\n",
       "      <td>8</td>\n",
       "      <td>14.0</td>\n",
       "      <td>0.736842</td>\n",
       "      <td>54</td>\n",
       "      <td>17</td>\n",
       "      <td>1214</td>\n",
       "      <td>536.0</td>\n",
       "      <td>0.441516</td>\n",
       "      <td>2</td>\n",
       "      <td>0.181818</td>\n",
       "      <td>5.0</td>\n",
       "      <td>0.181818</td>\n",
       "      <td>7</td>\n",
       "      <td>1</td>\n",
       "      <td>1</td>\n",
       "    </tr>\n",
       "    <tr>\n",
       "      <th>3</th>\n",
       "      <td>1187899</td>\n",
       "      <td>46149</td>\n",
       "      <td>11</td>\n",
       "      <td>59</td>\n",
       "      <td>18</td>\n",
       "      <td>19.0</td>\n",
       "      <td>5.363636</td>\n",
       "      <td>8</td>\n",
       "      <td>14.0</td>\n",
       "      <td>0.736842</td>\n",
       "      <td>77</td>\n",
       "      <td>7</td>\n",
       "      <td>8558</td>\n",
       "      <td>6953.0</td>\n",
       "      <td>0.812456</td>\n",
       "      <td>3</td>\n",
       "      <td>0.272727</td>\n",
       "      <td>3.0</td>\n",
       "      <td>0.272727</td>\n",
       "      <td>1</td>\n",
       "      <td>0</td>\n",
       "      <td>1</td>\n",
       "    </tr>\n",
       "    <tr>\n",
       "      <th>4</th>\n",
       "      <td>1187899</td>\n",
       "      <td>14084</td>\n",
       "      <td>11</td>\n",
       "      <td>59</td>\n",
       "      <td>18</td>\n",
       "      <td>19.0</td>\n",
       "      <td>5.363636</td>\n",
       "      <td>8</td>\n",
       "      <td>14.0</td>\n",
       "      <td>0.736842</td>\n",
       "      <td>91</td>\n",
       "      <td>16</td>\n",
       "      <td>15935</td>\n",
       "      <td>12923.0</td>\n",
       "      <td>0.810982</td>\n",
       "      <td>1</td>\n",
       "      <td>0.090909</td>\n",
       "      <td>2.0</td>\n",
       "      <td>0.090909</td>\n",
       "      <td>10</td>\n",
       "      <td>0</td>\n",
       "      <td>0</td>\n",
       "    </tr>\n",
       "  </tbody>\n",
       "</table>\n",
       "</div>"
      ],
      "text/plain": [
       "   order_id  product_id  user_total_orders  user_total_items  \\\n",
       "0   1187899       17122                 11                59   \n",
       "1   1187899         196                 11                59   \n",
       "2   1187899       26405                 11                59   \n",
       "3   1187899       46149                 11                59   \n",
       "4   1187899       14084                 11                59   \n",
       "\n",
       "   total_distinct_items  user_average_days_between_orders  \\\n",
       "0                    18                              19.0   \n",
       "1                    18                              19.0   \n",
       "2                    18                              19.0   \n",
       "3                    18                              19.0   \n",
       "4                    18                              19.0   \n",
       "\n",
       "   user_average_basket  order_hour_of_day  days_since_prior_order  \\\n",
       "0             5.363636                  8                    14.0   \n",
       "1             5.363636                  8                    14.0   \n",
       "2             5.363636                  8                    14.0   \n",
       "3             5.363636                  8                    14.0   \n",
       "4             5.363636                  8                    14.0   \n",
       "\n",
       "   days_since_ratio  aisle_id  department_id  product_orders  \\\n",
       "0          0.736842        24              4           13880   \n",
       "1          0.736842        77              7           35791   \n",
       "2          0.736842        54             17            1214   \n",
       "3          0.736842        77              7            8558   \n",
       "4          0.736842        91             16           15935   \n",
       "\n",
       "   product_reorders  product_reorder_rate  UP_orders  UP_orders_ratio  \\\n",
       "0            9377.0              0.675576          1         0.090909   \n",
       "1           27791.0              0.776480         10         0.909091   \n",
       "2             536.0              0.441516          2         0.181818   \n",
       "3            6953.0              0.812456          3         0.272727   \n",
       "4           12923.0              0.810982          1         0.090909   \n",
       "\n",
       "   UP_average_pos_in_cart  UP_reorder_rate  UP_orders_since_last  \\\n",
       "0                     6.0         0.090909                     6   \n",
       "1                     1.4         0.909091                     1   \n",
       "2                     5.0         0.181818                     7   \n",
       "3                     3.0         0.272727                     1   \n",
       "4                     2.0         0.090909                    10   \n",
       "\n",
       "   UP_delta_hour_vs_last  reordered  \n",
       "0                      7          0  \n",
       "1                      0          1  \n",
       "2                      1          1  \n",
       "3                      0          1  \n",
       "4                      0          0  "
      ]
     },
     "execution_count": 193,
     "metadata": {},
     "output_type": "execute_result"
    }
   ],
   "source": [
    "# preview\n",
    "df_train.head()"
   ]
  },
  {
   "cell_type": "markdown",
   "metadata": {},
   "source": [
    "The labeled train data can now be split in to training and evaluation set. That way we will be able to evaluate the performance of our models. "
   ]
  },
  {
   "cell_type": "code",
   "execution_count": 15,
   "metadata": {},
   "outputs": [],
   "source": [
    "# define target variable and other features\n",
    "X = df_train.drop('reordered', 1)\n",
    "Y = df_train['reordered']"
   ]
  },
  {
   "cell_type": "code",
   "execution_count": 194,
   "metadata": {},
   "outputs": [],
   "source": [
    "# split the train data for evaluation \n",
    "\n",
    "X_train, X_eval, y_train, y_eval = train_test_split(\n",
    "    X, Y, test_size=0.2, random_state=2)"
   ]
  },
  {
   "cell_type": "markdown",
   "metadata": {},
   "source": [
    "## Prediction\n",
    "### Gradient Boosting with Light GBM Model\n",
    "LightGBM is a gradient boosting framework that uses tree based learning algorithms. It is fast and suited for large datasets and as a result we will try it as our first model. Light GBM grows tree vertically while other algorithm grows trees horizontally meaning that Light GBM grows tree leaf-wise while other algorithm grows level-wise. It will choose the leaf with max delta loss to grow.\n",
    "\n",
    "Documentation\n",
    "https://lightgbm.readthedocs.io/en/latest/\n"
   ]
  },
  {
   "cell_type": "code",
   "execution_count": 195,
   "metadata": {},
   "outputs": [],
   "source": [
    "#preparing for Light GBM\n",
    "lgb_train = lgb.Dataset(X_train[f_to_use], label=y_train)\n",
    "lgb_eval = lgb.Dataset(X_eval[f_to_use], y_eval, reference = lgb_train)"
   ]
  },
  {
   "cell_type": "code",
   "execution_count": 196,
   "metadata": {},
   "outputs": [],
   "source": [
    "params = {}\n",
    "params['task'] = 'train'\n",
    "params['learning_rate'] = 0.05\n",
    "params['boosting_type'] = 'gbdt'\n",
    "params['objective'] = 'binary'\n",
    "params['metric'] = {'auc', 'binary_logloss'}\n",
    "params['sub_feature'] = 0.5\n",
    "params['num_leaves'] = 600\n",
    "params['min_data'] = 200\n",
    "params['max_bin'] = 100\n",
    "params['num_iterations'] = 1000\n",
    "params['feature_fraction'] = 0.8\n",
    "params['bagging_fraction'] = 0.95\n",
    "params['num_boost_round'] = 400\n",
    "params['bagging_freq'] = 5\n"
   ]
  },
  {
   "cell_type": "code",
   "execution_count": 197,
   "metadata": {
    "scrolled": true
   },
   "outputs": [
    {
     "name": "stdout",
     "output_type": "stream",
     "text": [
      "[1]\tvalid_0's binary_logloss: 0.31045\tvalid_0's auc: 0.825167\n",
      "Training until validation scores don't improve for 15 rounds.\n",
      "[2]\tvalid_0's binary_logloss: 0.303328\tvalid_0's auc: 0.825848\n",
      "[3]\tvalid_0's binary_logloss: 0.297437\tvalid_0's auc: 0.826278\n",
      "[4]\tvalid_0's binary_logloss: 0.292393\tvalid_0's auc: 0.826851\n",
      "[5]\tvalid_0's binary_logloss: 0.288883\tvalid_0's auc: 0.826755\n",
      "[6]\tvalid_0's binary_logloss: 0.284965\tvalid_0's auc: 0.827221\n",
      "[7]\tvalid_0's binary_logloss: 0.281524\tvalid_0's auc: 0.827581\n",
      "[8]\tvalid_0's binary_logloss: 0.278456\tvalid_0's auc: 0.82783\n",
      "[9]\tvalid_0's binary_logloss: 0.27571\tvalid_0's auc: 0.828068\n",
      "[10]\tvalid_0's binary_logloss: 0.273233\tvalid_0's auc: 0.828239\n",
      "[11]\tvalid_0's binary_logloss: 0.271432\tvalid_0's auc: 0.828168\n",
      "[12]\tvalid_0's binary_logloss: 0.269805\tvalid_0's auc: 0.827905\n",
      "[13]\tvalid_0's binary_logloss: 0.267886\tvalid_0's auc: 0.828185\n",
      "[14]\tvalid_0's binary_logloss: 0.266558\tvalid_0's auc: 0.827847\n",
      "[15]\tvalid_0's binary_logloss: 0.26494\tvalid_0's auc: 0.828226\n",
      "[16]\tvalid_0's binary_logloss: 0.26383\tvalid_0's auc: 0.827966\n",
      "[17]\tvalid_0's binary_logloss: 0.262442\tvalid_0's auc: 0.828264\n",
      "[18]\tvalid_0's binary_logloss: 0.261518\tvalid_0's auc: 0.828007\n",
      "[19]\tvalid_0's binary_logloss: 0.260324\tvalid_0's auc: 0.828289\n",
      "[20]\tvalid_0's binary_logloss: 0.259232\tvalid_0's auc: 0.828521\n",
      "[21]\tvalid_0's binary_logloss: 0.258223\tvalid_0's auc: 0.828783\n",
      "[22]\tvalid_0's binary_logloss: 0.257576\tvalid_0's auc: 0.828691\n",
      "[23]\tvalid_0's binary_logloss: 0.256691\tvalid_0's auc: 0.828905\n",
      "[24]\tvalid_0's binary_logloss: 0.255902\tvalid_0's auc: 0.829075\n",
      "[25]\tvalid_0's binary_logloss: 0.255381\tvalid_0's auc: 0.829\n",
      "[26]\tvalid_0's binary_logloss: 0.254669\tvalid_0's auc: 0.8292\n",
      "[27]\tvalid_0's binary_logloss: 0.254231\tvalid_0's auc: 0.829137\n",
      "[28]\tvalid_0's binary_logloss: 0.253835\tvalid_0's auc: 0.829088\n",
      "[29]\tvalid_0's binary_logloss: 0.25325\tvalid_0's auc: 0.829273\n",
      "[30]\tvalid_0's binary_logloss: 0.252697\tvalid_0's auc: 0.829475\n",
      "[31]\tvalid_0's binary_logloss: 0.252185\tvalid_0's auc: 0.829647\n",
      "[32]\tvalid_0's binary_logloss: 0.251715\tvalid_0's auc: 0.829802\n",
      "[33]\tvalid_0's binary_logloss: 0.251284\tvalid_0's auc: 0.82993\n",
      "[34]\tvalid_0's binary_logloss: 0.25089\tvalid_0's auc: 0.830068\n",
      "[35]\tvalid_0's binary_logloss: 0.250519\tvalid_0's auc: 0.830199\n",
      "[36]\tvalid_0's binary_logloss: 0.250178\tvalid_0's auc: 0.830297\n",
      "[37]\tvalid_0's binary_logloss: 0.249861\tvalid_0's auc: 0.830451\n",
      "[38]\tvalid_0's binary_logloss: 0.249678\tvalid_0's auc: 0.83045\n",
      "[39]\tvalid_0's binary_logloss: 0.249408\tvalid_0's auc: 0.830521\n",
      "[40]\tvalid_0's binary_logloss: 0.249156\tvalid_0's auc: 0.830588\n",
      "[41]\tvalid_0's binary_logloss: 0.248901\tvalid_0's auc: 0.8307\n",
      "[42]\tvalid_0's binary_logloss: 0.248674\tvalid_0's auc: 0.830789\n",
      "[43]\tvalid_0's binary_logloss: 0.248543\tvalid_0's auc: 0.830823\n",
      "[44]\tvalid_0's binary_logloss: 0.24834\tvalid_0's auc: 0.830906\n",
      "[45]\tvalid_0's binary_logloss: 0.248144\tvalid_0's auc: 0.830995\n",
      "[46]\tvalid_0's binary_logloss: 0.247962\tvalid_0's auc: 0.831083\n",
      "[47]\tvalid_0's binary_logloss: 0.247791\tvalid_0's auc: 0.831163\n",
      "[48]\tvalid_0's binary_logloss: 0.247639\tvalid_0's auc: 0.831221\n",
      "[49]\tvalid_0's binary_logloss: 0.247495\tvalid_0's auc: 0.831283\n",
      "[50]\tvalid_0's binary_logloss: 0.247367\tvalid_0's auc: 0.831334\n",
      "[51]\tvalid_0's binary_logloss: 0.247237\tvalid_0's auc: 0.831413\n",
      "[52]\tvalid_0's binary_logloss: 0.24716\tvalid_0's auc: 0.831464\n",
      "[53]\tvalid_0's binary_logloss: 0.247034\tvalid_0's auc: 0.83155\n",
      "[54]\tvalid_0's binary_logloss: 0.246925\tvalid_0's auc: 0.831609\n",
      "[55]\tvalid_0's binary_logloss: 0.246827\tvalid_0's auc: 0.831665\n",
      "[56]\tvalid_0's binary_logloss: 0.246728\tvalid_0's auc: 0.831718\n",
      "[57]\tvalid_0's binary_logloss: 0.246635\tvalid_0's auc: 0.83178\n",
      "[58]\tvalid_0's binary_logloss: 0.246596\tvalid_0's auc: 0.83179\n",
      "[59]\tvalid_0's binary_logloss: 0.246508\tvalid_0's auc: 0.831859\n",
      "[60]\tvalid_0's binary_logloss: 0.246426\tvalid_0's auc: 0.831922\n",
      "[61]\tvalid_0's binary_logloss: 0.246339\tvalid_0's auc: 0.831992\n",
      "[62]\tvalid_0's binary_logloss: 0.246289\tvalid_0's auc: 0.832046\n",
      "[63]\tvalid_0's binary_logloss: 0.246239\tvalid_0's auc: 0.832102\n",
      "[64]\tvalid_0's binary_logloss: 0.24617\tvalid_0's auc: 0.832155\n",
      "[65]\tvalid_0's binary_logloss: 0.246101\tvalid_0's auc: 0.832211\n",
      "[66]\tvalid_0's binary_logloss: 0.246038\tvalid_0's auc: 0.832262\n",
      "[67]\tvalid_0's binary_logloss: 0.245974\tvalid_0's auc: 0.832321\n",
      "[68]\tvalid_0's binary_logloss: 0.245922\tvalid_0's auc: 0.832361\n",
      "[69]\tvalid_0's binary_logloss: 0.245882\tvalid_0's auc: 0.832412\n",
      "[70]\tvalid_0's binary_logloss: 0.245837\tvalid_0's auc: 0.832452\n",
      "[71]\tvalid_0's binary_logloss: 0.245773\tvalid_0's auc: 0.832523\n",
      "[72]\tvalid_0's binary_logloss: 0.245754\tvalid_0's auc: 0.83254\n",
      "[73]\tvalid_0's binary_logloss: 0.245698\tvalid_0's auc: 0.832606\n",
      "[74]\tvalid_0's binary_logloss: 0.245642\tvalid_0's auc: 0.83266\n",
      "[75]\tvalid_0's binary_logloss: 0.245612\tvalid_0's auc: 0.832702\n",
      "[76]\tvalid_0's binary_logloss: 0.245568\tvalid_0's auc: 0.832759\n",
      "[77]\tvalid_0's binary_logloss: 0.245533\tvalid_0's auc: 0.832805\n",
      "[78]\tvalid_0's binary_logloss: 0.24549\tvalid_0's auc: 0.832865\n",
      "[79]\tvalid_0's binary_logloss: 0.245444\tvalid_0's auc: 0.832923\n",
      "[80]\tvalid_0's binary_logloss: 0.245393\tvalid_0's auc: 0.832994\n",
      "[81]\tvalid_0's binary_logloss: 0.245357\tvalid_0's auc: 0.833044\n",
      "[82]\tvalid_0's binary_logloss: 0.245325\tvalid_0's auc: 0.833086\n",
      "[83]\tvalid_0's binary_logloss: 0.245286\tvalid_0's auc: 0.833139\n",
      "[84]\tvalid_0's binary_logloss: 0.24524\tvalid_0's auc: 0.8332\n",
      "[85]\tvalid_0's binary_logloss: 0.245215\tvalid_0's auc: 0.833242\n",
      "[86]\tvalid_0's binary_logloss: 0.245184\tvalid_0's auc: 0.833294\n",
      "[87]\tvalid_0's binary_logloss: 0.245164\tvalid_0's auc: 0.833327\n",
      "[88]\tvalid_0's binary_logloss: 0.245123\tvalid_0's auc: 0.833386\n",
      "[89]\tvalid_0's binary_logloss: 0.245086\tvalid_0's auc: 0.833429\n",
      "[90]\tvalid_0's binary_logloss: 0.245054\tvalid_0's auc: 0.833478\n",
      "[91]\tvalid_0's binary_logloss: 0.24501\tvalid_0's auc: 0.833534\n",
      "[92]\tvalid_0's binary_logloss: 0.244984\tvalid_0's auc: 0.833571\n",
      "[93]\tvalid_0's binary_logloss: 0.24496\tvalid_0's auc: 0.83361\n",
      "[94]\tvalid_0's binary_logloss: 0.244936\tvalid_0's auc: 0.833651\n",
      "[95]\tvalid_0's binary_logloss: 0.244916\tvalid_0's auc: 0.833681\n",
      "[96]\tvalid_0's binary_logloss: 0.244899\tvalid_0's auc: 0.833712\n",
      "[97]\tvalid_0's binary_logloss: 0.24488\tvalid_0's auc: 0.833742\n",
      "[98]\tvalid_0's binary_logloss: 0.244859\tvalid_0's auc: 0.83377\n",
      "[99]\tvalid_0's binary_logloss: 0.244821\tvalid_0's auc: 0.833832\n",
      "[100]\tvalid_0's binary_logloss: 0.244795\tvalid_0's auc: 0.833874\n",
      "[101]\tvalid_0's binary_logloss: 0.244779\tvalid_0's auc: 0.833901\n",
      "[102]\tvalid_0's binary_logloss: 0.244759\tvalid_0's auc: 0.83393\n",
      "[103]\tvalid_0's binary_logloss: 0.244718\tvalid_0's auc: 0.834005\n",
      "[104]\tvalid_0's binary_logloss: 0.244694\tvalid_0's auc: 0.834051\n",
      "[105]\tvalid_0's binary_logloss: 0.244671\tvalid_0's auc: 0.834094\n",
      "[106]\tvalid_0's binary_logloss: 0.244654\tvalid_0's auc: 0.834118\n",
      "[107]\tvalid_0's binary_logloss: 0.24463\tvalid_0's auc: 0.834163\n",
      "[108]\tvalid_0's binary_logloss: 0.244613\tvalid_0's auc: 0.834192\n",
      "[109]\tvalid_0's binary_logloss: 0.244601\tvalid_0's auc: 0.834212\n",
      "[110]\tvalid_0's binary_logloss: 0.244575\tvalid_0's auc: 0.834256\n",
      "[111]\tvalid_0's binary_logloss: 0.244534\tvalid_0's auc: 0.834324\n",
      "[112]\tvalid_0's binary_logloss: 0.24452\tvalid_0's auc: 0.834347\n",
      "[113]\tvalid_0's binary_logloss: 0.244495\tvalid_0's auc: 0.834393\n",
      "[114]\tvalid_0's binary_logloss: 0.244478\tvalid_0's auc: 0.834427\n",
      "[115]\tvalid_0's binary_logloss: 0.244454\tvalid_0's auc: 0.834467\n",
      "[116]\tvalid_0's binary_logloss: 0.244436\tvalid_0's auc: 0.834491\n",
      "[117]\tvalid_0's binary_logloss: 0.244415\tvalid_0's auc: 0.83453\n",
      "[118]\tvalid_0's binary_logloss: 0.244397\tvalid_0's auc: 0.834564\n",
      "[119]\tvalid_0's binary_logloss: 0.244375\tvalid_0's auc: 0.834597\n",
      "[120]\tvalid_0's binary_logloss: 0.244363\tvalid_0's auc: 0.834622\n",
      "[121]\tvalid_0's binary_logloss: 0.244354\tvalid_0's auc: 0.83464\n",
      "[122]\tvalid_0's binary_logloss: 0.244338\tvalid_0's auc: 0.834665\n",
      "[123]\tvalid_0's binary_logloss: 0.244327\tvalid_0's auc: 0.834686\n",
      "[124]\tvalid_0's binary_logloss: 0.244321\tvalid_0's auc: 0.834696\n",
      "[125]\tvalid_0's binary_logloss: 0.244302\tvalid_0's auc: 0.834729\n",
      "[126]\tvalid_0's binary_logloss: 0.244276\tvalid_0's auc: 0.834769\n",
      "[127]\tvalid_0's binary_logloss: 0.244252\tvalid_0's auc: 0.834811\n",
      "[128]\tvalid_0's binary_logloss: 0.244234\tvalid_0's auc: 0.83484\n"
     ]
    },
    {
     "name": "stdout",
     "output_type": "stream",
     "text": [
      "[129]\tvalid_0's binary_logloss: 0.244228\tvalid_0's auc: 0.834848\n",
      "[130]\tvalid_0's binary_logloss: 0.244217\tvalid_0's auc: 0.834868\n",
      "[131]\tvalid_0's binary_logloss: 0.244193\tvalid_0's auc: 0.834905\n",
      "[132]\tvalid_0's binary_logloss: 0.244177\tvalid_0's auc: 0.834935\n",
      "[133]\tvalid_0's binary_logloss: 0.244162\tvalid_0's auc: 0.834958\n",
      "[134]\tvalid_0's binary_logloss: 0.244151\tvalid_0's auc: 0.83498\n",
      "[135]\tvalid_0's binary_logloss: 0.244135\tvalid_0's auc: 0.835006\n",
      "[136]\tvalid_0's binary_logloss: 0.244109\tvalid_0's auc: 0.835049\n",
      "[137]\tvalid_0's binary_logloss: 0.244091\tvalid_0's auc: 0.835081\n",
      "[138]\tvalid_0's binary_logloss: 0.244061\tvalid_0's auc: 0.835133\n",
      "[139]\tvalid_0's binary_logloss: 0.244042\tvalid_0's auc: 0.835168\n",
      "[140]\tvalid_0's binary_logloss: 0.244027\tvalid_0's auc: 0.8352\n",
      "[141]\tvalid_0's binary_logloss: 0.244016\tvalid_0's auc: 0.835227\n",
      "[142]\tvalid_0's binary_logloss: 0.244002\tvalid_0's auc: 0.835258\n",
      "[143]\tvalid_0's binary_logloss: 0.243998\tvalid_0's auc: 0.835265\n",
      "[144]\tvalid_0's binary_logloss: 0.243989\tvalid_0's auc: 0.835289\n",
      "[145]\tvalid_0's binary_logloss: 0.243978\tvalid_0's auc: 0.835312\n",
      "[146]\tvalid_0's binary_logloss: 0.243975\tvalid_0's auc: 0.835318\n",
      "[147]\tvalid_0's binary_logloss: 0.243966\tvalid_0's auc: 0.835335\n",
      "[148]\tvalid_0's binary_logloss: 0.243963\tvalid_0's auc: 0.83534\n",
      "[149]\tvalid_0's binary_logloss: 0.243952\tvalid_0's auc: 0.835364\n",
      "[150]\tvalid_0's binary_logloss: 0.243934\tvalid_0's auc: 0.835393\n",
      "[151]\tvalid_0's binary_logloss: 0.243911\tvalid_0's auc: 0.835437\n",
      "[152]\tvalid_0's binary_logloss: 0.243902\tvalid_0's auc: 0.835451\n",
      "[153]\tvalid_0's binary_logloss: 0.243882\tvalid_0's auc: 0.835486\n",
      "[154]\tvalid_0's binary_logloss: 0.243871\tvalid_0's auc: 0.835512\n",
      "[155]\tvalid_0's binary_logloss: 0.243866\tvalid_0's auc: 0.835521\n",
      "[156]\tvalid_0's binary_logloss: 0.243847\tvalid_0's auc: 0.835558\n",
      "[157]\tvalid_0's binary_logloss: 0.243836\tvalid_0's auc: 0.835578\n",
      "[158]\tvalid_0's binary_logloss: 0.243825\tvalid_0's auc: 0.8356\n",
      "[159]\tvalid_0's binary_logloss: 0.243815\tvalid_0's auc: 0.835618\n",
      "[160]\tvalid_0's binary_logloss: 0.243809\tvalid_0's auc: 0.83563\n",
      "[161]\tvalid_0's binary_logloss: 0.243802\tvalid_0's auc: 0.835644\n",
      "[162]\tvalid_0's binary_logloss: 0.243794\tvalid_0's auc: 0.835658\n",
      "[163]\tvalid_0's binary_logloss: 0.243785\tvalid_0's auc: 0.835679\n",
      "[164]\tvalid_0's binary_logloss: 0.243773\tvalid_0's auc: 0.835702\n",
      "[165]\tvalid_0's binary_logloss: 0.243772\tvalid_0's auc: 0.835704\n",
      "[166]\tvalid_0's binary_logloss: 0.243765\tvalid_0's auc: 0.835719\n",
      "[167]\tvalid_0's binary_logloss: 0.243743\tvalid_0's auc: 0.835755\n",
      "[168]\tvalid_0's binary_logloss: 0.24374\tvalid_0's auc: 0.83576\n",
      "[169]\tvalid_0's binary_logloss: 0.243715\tvalid_0's auc: 0.835798\n",
      "[170]\tvalid_0's binary_logloss: 0.243712\tvalid_0's auc: 0.835807\n",
      "[171]\tvalid_0's binary_logloss: 0.243709\tvalid_0's auc: 0.835812\n",
      "[172]\tvalid_0's binary_logloss: 0.243701\tvalid_0's auc: 0.835827\n",
      "[173]\tvalid_0's binary_logloss: 0.243695\tvalid_0's auc: 0.835837\n",
      "[174]\tvalid_0's binary_logloss: 0.243691\tvalid_0's auc: 0.835845\n",
      "[175]\tvalid_0's binary_logloss: 0.243688\tvalid_0's auc: 0.835848\n",
      "[176]\tvalid_0's binary_logloss: 0.243684\tvalid_0's auc: 0.835854\n",
      "[177]\tvalid_0's binary_logloss: 0.243681\tvalid_0's auc: 0.83586\n",
      "[178]\tvalid_0's binary_logloss: 0.243672\tvalid_0's auc: 0.835875\n",
      "[179]\tvalid_0's binary_logloss: 0.243655\tvalid_0's auc: 0.835905\n",
      "[180]\tvalid_0's binary_logloss: 0.243647\tvalid_0's auc: 0.83592\n",
      "[181]\tvalid_0's binary_logloss: 0.243637\tvalid_0's auc: 0.835929\n",
      "[182]\tvalid_0's binary_logloss: 0.243634\tvalid_0's auc: 0.835935\n",
      "[183]\tvalid_0's binary_logloss: 0.24363\tvalid_0's auc: 0.835942\n",
      "[184]\tvalid_0's binary_logloss: 0.243625\tvalid_0's auc: 0.835949\n",
      "[185]\tvalid_0's binary_logloss: 0.243622\tvalid_0's auc: 0.835956\n",
      "[186]\tvalid_0's binary_logloss: 0.243617\tvalid_0's auc: 0.835965\n",
      "[187]\tvalid_0's binary_logloss: 0.243611\tvalid_0's auc: 0.835975\n",
      "[188]\tvalid_0's binary_logloss: 0.243601\tvalid_0's auc: 0.835991\n",
      "[189]\tvalid_0's binary_logloss: 0.243585\tvalid_0's auc: 0.836015\n",
      "[190]\tvalid_0's binary_logloss: 0.243583\tvalid_0's auc: 0.836019\n",
      "[191]\tvalid_0's binary_logloss: 0.243584\tvalid_0's auc: 0.836018\n",
      "[192]\tvalid_0's binary_logloss: 0.243583\tvalid_0's auc: 0.83602\n",
      "[193]\tvalid_0's binary_logloss: 0.243581\tvalid_0's auc: 0.836022\n",
      "[194]\tvalid_0's binary_logloss: 0.243575\tvalid_0's auc: 0.836033\n",
      "[195]\tvalid_0's binary_logloss: 0.243576\tvalid_0's auc: 0.83603\n",
      "[196]\tvalid_0's binary_logloss: 0.243572\tvalid_0's auc: 0.836032\n",
      "[197]\tvalid_0's binary_logloss: 0.243566\tvalid_0's auc: 0.836044\n",
      "[198]\tvalid_0's binary_logloss: 0.243554\tvalid_0's auc: 0.836066\n",
      "[199]\tvalid_0's binary_logloss: 0.24355\tvalid_0's auc: 0.836072\n",
      "[200]\tvalid_0's binary_logloss: 0.243537\tvalid_0's auc: 0.836094\n",
      "[201]\tvalid_0's binary_logloss: 0.243533\tvalid_0's auc: 0.836103\n",
      "[202]\tvalid_0's binary_logloss: 0.243523\tvalid_0's auc: 0.836118\n",
      "[203]\tvalid_0's binary_logloss: 0.243517\tvalid_0's auc: 0.836128\n",
      "[204]\tvalid_0's binary_logloss: 0.243515\tvalid_0's auc: 0.836133\n",
      "[205]\tvalid_0's binary_logloss: 0.243511\tvalid_0's auc: 0.836138\n",
      "[206]\tvalid_0's binary_logloss: 0.243507\tvalid_0's auc: 0.836146\n",
      "[207]\tvalid_0's binary_logloss: 0.243505\tvalid_0's auc: 0.836151\n",
      "[208]\tvalid_0's binary_logloss: 0.243499\tvalid_0's auc: 0.83616\n",
      "[209]\tvalid_0's binary_logloss: 0.243494\tvalid_0's auc: 0.836169\n",
      "[210]\tvalid_0's binary_logloss: 0.243489\tvalid_0's auc: 0.836178\n",
      "[211]\tvalid_0's binary_logloss: 0.24349\tvalid_0's auc: 0.836173\n",
      "[212]\tvalid_0's binary_logloss: 0.243488\tvalid_0's auc: 0.836178\n",
      "[213]\tvalid_0's binary_logloss: 0.243482\tvalid_0's auc: 0.836189\n",
      "[214]\tvalid_0's binary_logloss: 0.243476\tvalid_0's auc: 0.836201\n",
      "[215]\tvalid_0's binary_logloss: 0.24347\tvalid_0's auc: 0.836217\n",
      "[216]\tvalid_0's binary_logloss: 0.243464\tvalid_0's auc: 0.836226\n",
      "[217]\tvalid_0's binary_logloss: 0.243444\tvalid_0's auc: 0.836262\n",
      "[218]\tvalid_0's binary_logloss: 0.243435\tvalid_0's auc: 0.836277\n",
      "[219]\tvalid_0's binary_logloss: 0.243428\tvalid_0's auc: 0.836286\n",
      "[220]\tvalid_0's binary_logloss: 0.243413\tvalid_0's auc: 0.836307\n",
      "[221]\tvalid_0's binary_logloss: 0.24341\tvalid_0's auc: 0.836312\n",
      "[222]\tvalid_0's binary_logloss: 0.243406\tvalid_0's auc: 0.836317\n",
      "[223]\tvalid_0's binary_logloss: 0.243404\tvalid_0's auc: 0.836321\n",
      "[224]\tvalid_0's binary_logloss: 0.243402\tvalid_0's auc: 0.836324\n",
      "[225]\tvalid_0's binary_logloss: 0.243395\tvalid_0's auc: 0.836334\n",
      "[226]\tvalid_0's binary_logloss: 0.243387\tvalid_0's auc: 0.836349\n",
      "[227]\tvalid_0's binary_logloss: 0.243386\tvalid_0's auc: 0.83635\n",
      "[228]\tvalid_0's binary_logloss: 0.243384\tvalid_0's auc: 0.836357\n",
      "[229]\tvalid_0's binary_logloss: 0.243382\tvalid_0's auc: 0.836361\n",
      "[230]\tvalid_0's binary_logloss: 0.24338\tvalid_0's auc: 0.836362\n",
      "[231]\tvalid_0's binary_logloss: 0.243367\tvalid_0's auc: 0.836381\n",
      "[232]\tvalid_0's binary_logloss: 0.243362\tvalid_0's auc: 0.836389\n",
      "[233]\tvalid_0's binary_logloss: 0.24336\tvalid_0's auc: 0.836391\n",
      "[234]\tvalid_0's binary_logloss: 0.243359\tvalid_0's auc: 0.836393\n",
      "[235]\tvalid_0's binary_logloss: 0.243345\tvalid_0's auc: 0.83641\n",
      "[236]\tvalid_0's binary_logloss: 0.243343\tvalid_0's auc: 0.83641\n",
      "[237]\tvalid_0's binary_logloss: 0.243332\tvalid_0's auc: 0.836437\n",
      "[238]\tvalid_0's binary_logloss: 0.243327\tvalid_0's auc: 0.836447\n",
      "[239]\tvalid_0's binary_logloss: 0.243326\tvalid_0's auc: 0.836447\n",
      "[240]\tvalid_0's binary_logloss: 0.243323\tvalid_0's auc: 0.836454\n",
      "[241]\tvalid_0's binary_logloss: 0.243314\tvalid_0's auc: 0.836469\n",
      "[242]\tvalid_0's binary_logloss: 0.243314\tvalid_0's auc: 0.836466\n",
      "[243]\tvalid_0's binary_logloss: 0.243313\tvalid_0's auc: 0.83647\n",
      "[244]\tvalid_0's binary_logloss: 0.243306\tvalid_0's auc: 0.836481\n",
      "[245]\tvalid_0's binary_logloss: 0.243304\tvalid_0's auc: 0.836488\n",
      "[246]\tvalid_0's binary_logloss: 0.243301\tvalid_0's auc: 0.836495\n",
      "[247]\tvalid_0's binary_logloss: 0.243298\tvalid_0's auc: 0.836502\n",
      "[248]\tvalid_0's binary_logloss: 0.243293\tvalid_0's auc: 0.836512\n",
      "[249]\tvalid_0's binary_logloss: 0.243292\tvalid_0's auc: 0.836517\n",
      "[250]\tvalid_0's binary_logloss: 0.243288\tvalid_0's auc: 0.83652\n",
      "[251]\tvalid_0's binary_logloss: 0.243287\tvalid_0's auc: 0.836524\n",
      "[252]\tvalid_0's binary_logloss: 0.243286\tvalid_0's auc: 0.836525\n",
      "[253]\tvalid_0's binary_logloss: 0.243284\tvalid_0's auc: 0.836527\n",
      "[254]\tvalid_0's binary_logloss: 0.243278\tvalid_0's auc: 0.83654\n",
      "[255]\tvalid_0's binary_logloss: 0.24327\tvalid_0's auc: 0.836554\n"
     ]
    },
    {
     "name": "stdout",
     "output_type": "stream",
     "text": [
      "[256]\tvalid_0's binary_logloss: 0.243269\tvalid_0's auc: 0.836557\n",
      "[257]\tvalid_0's binary_logloss: 0.243268\tvalid_0's auc: 0.836559\n",
      "[258]\tvalid_0's binary_logloss: 0.243267\tvalid_0's auc: 0.83656\n",
      "[259]\tvalid_0's binary_logloss: 0.243264\tvalid_0's auc: 0.836569\n",
      "[260]\tvalid_0's binary_logloss: 0.24326\tvalid_0's auc: 0.836574\n",
      "[261]\tvalid_0's binary_logloss: 0.243256\tvalid_0's auc: 0.836583\n",
      "[262]\tvalid_0's binary_logloss: 0.243252\tvalid_0's auc: 0.836593\n",
      "[263]\tvalid_0's binary_logloss: 0.243245\tvalid_0's auc: 0.836602\n",
      "[264]\tvalid_0's binary_logloss: 0.243236\tvalid_0's auc: 0.83662\n",
      "[265]\tvalid_0's binary_logloss: 0.24323\tvalid_0's auc: 0.836633\n",
      "[266]\tvalid_0's binary_logloss: 0.243224\tvalid_0's auc: 0.836642\n",
      "[267]\tvalid_0's binary_logloss: 0.24322\tvalid_0's auc: 0.836646\n",
      "[268]\tvalid_0's binary_logloss: 0.24322\tvalid_0's auc: 0.836645\n",
      "[269]\tvalid_0's binary_logloss: 0.243217\tvalid_0's auc: 0.836649\n",
      "[270]\tvalid_0's binary_logloss: 0.243194\tvalid_0's auc: 0.836684\n",
      "[271]\tvalid_0's binary_logloss: 0.243194\tvalid_0's auc: 0.836682\n",
      "[272]\tvalid_0's binary_logloss: 0.243196\tvalid_0's auc: 0.836676\n",
      "[273]\tvalid_0's binary_logloss: 0.243191\tvalid_0's auc: 0.836687\n",
      "[274]\tvalid_0's binary_logloss: 0.243187\tvalid_0's auc: 0.836694\n",
      "[275]\tvalid_0's binary_logloss: 0.243183\tvalid_0's auc: 0.836699\n",
      "[276]\tvalid_0's binary_logloss: 0.243175\tvalid_0's auc: 0.836717\n",
      "[277]\tvalid_0's binary_logloss: 0.243171\tvalid_0's auc: 0.836724\n",
      "[278]\tvalid_0's binary_logloss: 0.243166\tvalid_0's auc: 0.836732\n",
      "[279]\tvalid_0's binary_logloss: 0.243156\tvalid_0's auc: 0.836747\n",
      "[280]\tvalid_0's binary_logloss: 0.243151\tvalid_0's auc: 0.836756\n",
      "[281]\tvalid_0's binary_logloss: 0.243149\tvalid_0's auc: 0.836758\n",
      "[282]\tvalid_0's binary_logloss: 0.243146\tvalid_0's auc: 0.836764\n",
      "[283]\tvalid_0's binary_logloss: 0.243145\tvalid_0's auc: 0.836766\n",
      "[284]\tvalid_0's binary_logloss: 0.243141\tvalid_0's auc: 0.836769\n",
      "[285]\tvalid_0's binary_logloss: 0.24314\tvalid_0's auc: 0.836773\n",
      "[286]\tvalid_0's binary_logloss: 0.243135\tvalid_0's auc: 0.83678\n",
      "[287]\tvalid_0's binary_logloss: 0.243134\tvalid_0's auc: 0.836782\n",
      "[288]\tvalid_0's binary_logloss: 0.243124\tvalid_0's auc: 0.836798\n",
      "[289]\tvalid_0's binary_logloss: 0.243122\tvalid_0's auc: 0.836802\n",
      "[290]\tvalid_0's binary_logloss: 0.243119\tvalid_0's auc: 0.836806\n",
      "[291]\tvalid_0's binary_logloss: 0.243119\tvalid_0's auc: 0.836805\n",
      "[292]\tvalid_0's binary_logloss: 0.243115\tvalid_0's auc: 0.836814\n",
      "[293]\tvalid_0's binary_logloss: 0.243112\tvalid_0's auc: 0.836817\n",
      "[294]\tvalid_0's binary_logloss: 0.243111\tvalid_0's auc: 0.836819\n",
      "[295]\tvalid_0's binary_logloss: 0.243104\tvalid_0's auc: 0.83683\n",
      "[296]\tvalid_0's binary_logloss: 0.2431\tvalid_0's auc: 0.836839\n",
      "[297]\tvalid_0's binary_logloss: 0.243099\tvalid_0's auc: 0.836839\n",
      "[298]\tvalid_0's binary_logloss: 0.243098\tvalid_0's auc: 0.83684\n",
      "[299]\tvalid_0's binary_logloss: 0.243091\tvalid_0's auc: 0.836852\n",
      "[300]\tvalid_0's binary_logloss: 0.243088\tvalid_0's auc: 0.836853\n",
      "[301]\tvalid_0's binary_logloss: 0.243088\tvalid_0's auc: 0.836855\n",
      "[302]\tvalid_0's binary_logloss: 0.243086\tvalid_0's auc: 0.83686\n",
      "[303]\tvalid_0's binary_logloss: 0.243084\tvalid_0's auc: 0.836864\n",
      "[304]\tvalid_0's binary_logloss: 0.243086\tvalid_0's auc: 0.83686\n",
      "[305]\tvalid_0's binary_logloss: 0.243087\tvalid_0's auc: 0.836859\n",
      "[306]\tvalid_0's binary_logloss: 0.24308\tvalid_0's auc: 0.836873\n",
      "[307]\tvalid_0's binary_logloss: 0.243079\tvalid_0's auc: 0.836875\n",
      "[308]\tvalid_0's binary_logloss: 0.243075\tvalid_0's auc: 0.83688\n",
      "[309]\tvalid_0's binary_logloss: 0.243073\tvalid_0's auc: 0.836887\n",
      "[310]\tvalid_0's binary_logloss: 0.243062\tvalid_0's auc: 0.836904\n",
      "[311]\tvalid_0's binary_logloss: 0.243055\tvalid_0's auc: 0.836913\n",
      "[312]\tvalid_0's binary_logloss: 0.243046\tvalid_0's auc: 0.836929\n",
      "[313]\tvalid_0's binary_logloss: 0.243047\tvalid_0's auc: 0.836929\n",
      "[314]\tvalid_0's binary_logloss: 0.243045\tvalid_0's auc: 0.836933\n",
      "[315]\tvalid_0's binary_logloss: 0.243039\tvalid_0's auc: 0.836947\n",
      "[316]\tvalid_0's binary_logloss: 0.243033\tvalid_0's auc: 0.836959\n",
      "[317]\tvalid_0's binary_logloss: 0.243029\tvalid_0's auc: 0.836965\n",
      "[318]\tvalid_0's binary_logloss: 0.243026\tvalid_0's auc: 0.836971\n",
      "[319]\tvalid_0's binary_logloss: 0.243021\tvalid_0's auc: 0.836978\n",
      "[320]\tvalid_0's binary_logloss: 0.243021\tvalid_0's auc: 0.836977\n",
      "[321]\tvalid_0's binary_logloss: 0.243018\tvalid_0's auc: 0.836979\n",
      "[322]\tvalid_0's binary_logloss: 0.243019\tvalid_0's auc: 0.836979\n",
      "[323]\tvalid_0's binary_logloss: 0.24302\tvalid_0's auc: 0.836978\n",
      "[324]\tvalid_0's binary_logloss: 0.243019\tvalid_0's auc: 0.83698\n",
      "[325]\tvalid_0's binary_logloss: 0.24302\tvalid_0's auc: 0.836977\n",
      "[326]\tvalid_0's binary_logloss: 0.243016\tvalid_0's auc: 0.836984\n",
      "[327]\tvalid_0's binary_logloss: 0.243016\tvalid_0's auc: 0.836984\n",
      "[328]\tvalid_0's binary_logloss: 0.243014\tvalid_0's auc: 0.836985\n",
      "[329]\tvalid_0's binary_logloss: 0.24301\tvalid_0's auc: 0.836992\n",
      "[330]\tvalid_0's binary_logloss: 0.24301\tvalid_0's auc: 0.836992\n",
      "[331]\tvalid_0's binary_logloss: 0.243007\tvalid_0's auc: 0.836995\n",
      "[332]\tvalid_0's binary_logloss: 0.243003\tvalid_0's auc: 0.837002\n",
      "[333]\tvalid_0's binary_logloss: 0.243\tvalid_0's auc: 0.837009\n",
      "[334]\tvalid_0's binary_logloss: 0.242998\tvalid_0's auc: 0.837013\n",
      "[335]\tvalid_0's binary_logloss: 0.242998\tvalid_0's auc: 0.837014\n",
      "[336]\tvalid_0's binary_logloss: 0.242996\tvalid_0's auc: 0.837017\n",
      "[337]\tvalid_0's binary_logloss: 0.242992\tvalid_0's auc: 0.837025\n",
      "[338]\tvalid_0's binary_logloss: 0.242992\tvalid_0's auc: 0.837023\n",
      "[339]\tvalid_0's binary_logloss: 0.242987\tvalid_0's auc: 0.837034\n",
      "[340]\tvalid_0's binary_logloss: 0.242985\tvalid_0's auc: 0.837037\n",
      "[341]\tvalid_0's binary_logloss: 0.242985\tvalid_0's auc: 0.837037\n",
      "[342]\tvalid_0's binary_logloss: 0.242985\tvalid_0's auc: 0.837035\n",
      "[343]\tvalid_0's binary_logloss: 0.242988\tvalid_0's auc: 0.837029\n",
      "[344]\tvalid_0's binary_logloss: 0.242982\tvalid_0's auc: 0.837041\n",
      "[345]\tvalid_0's binary_logloss: 0.242982\tvalid_0's auc: 0.837039\n",
      "[346]\tvalid_0's binary_logloss: 0.242983\tvalid_0's auc: 0.837038\n",
      "[347]\tvalid_0's binary_logloss: 0.242984\tvalid_0's auc: 0.837035\n",
      "[348]\tvalid_0's binary_logloss: 0.242983\tvalid_0's auc: 0.837039\n",
      "[349]\tvalid_0's binary_logloss: 0.242983\tvalid_0's auc: 0.837038\n",
      "[350]\tvalid_0's binary_logloss: 0.242983\tvalid_0's auc: 0.837038\n",
      "[351]\tvalid_0's binary_logloss: 0.24297\tvalid_0's auc: 0.837062\n",
      "[352]\tvalid_0's binary_logloss: 0.24297\tvalid_0's auc: 0.837065\n",
      "[353]\tvalid_0's binary_logloss: 0.242962\tvalid_0's auc: 0.837079\n",
      "[354]\tvalid_0's binary_logloss: 0.242961\tvalid_0's auc: 0.837082\n",
      "[355]\tvalid_0's binary_logloss: 0.242954\tvalid_0's auc: 0.837092\n",
      "[356]\tvalid_0's binary_logloss: 0.242954\tvalid_0's auc: 0.837094\n",
      "[357]\tvalid_0's binary_logloss: 0.242952\tvalid_0's auc: 0.837097\n",
      "[358]\tvalid_0's binary_logloss: 0.242945\tvalid_0's auc: 0.837111\n",
      "[359]\tvalid_0's binary_logloss: 0.242946\tvalid_0's auc: 0.83711\n",
      "[360]\tvalid_0's binary_logloss: 0.242944\tvalid_0's auc: 0.837112\n",
      "[361]\tvalid_0's binary_logloss: 0.242943\tvalid_0's auc: 0.837114\n",
      "[362]\tvalid_0's binary_logloss: 0.242941\tvalid_0's auc: 0.837117\n",
      "[363]\tvalid_0's binary_logloss: 0.242938\tvalid_0's auc: 0.837124\n",
      "[364]\tvalid_0's binary_logloss: 0.242936\tvalid_0's auc: 0.837128\n",
      "[365]\tvalid_0's binary_logloss: 0.242935\tvalid_0's auc: 0.837131\n",
      "[366]\tvalid_0's binary_logloss: 0.242935\tvalid_0's auc: 0.837129\n",
      "[367]\tvalid_0's binary_logloss: 0.242935\tvalid_0's auc: 0.837128\n",
      "[368]\tvalid_0's binary_logloss: 0.242932\tvalid_0's auc: 0.837135\n",
      "[369]\tvalid_0's binary_logloss: 0.242929\tvalid_0's auc: 0.837139\n",
      "[370]\tvalid_0's binary_logloss: 0.242929\tvalid_0's auc: 0.837139\n",
      "[371]\tvalid_0's binary_logloss: 0.242917\tvalid_0's auc: 0.837159\n",
      "[372]\tvalid_0's binary_logloss: 0.24291\tvalid_0's auc: 0.83717\n",
      "[373]\tvalid_0's binary_logloss: 0.242898\tvalid_0's auc: 0.83719\n",
      "[374]\tvalid_0's binary_logloss: 0.242893\tvalid_0's auc: 0.837196\n",
      "[375]\tvalid_0's binary_logloss: 0.24289\tvalid_0's auc: 0.837202\n",
      "[376]\tvalid_0's binary_logloss: 0.242887\tvalid_0's auc: 0.837207\n",
      "[377]\tvalid_0's binary_logloss: 0.242882\tvalid_0's auc: 0.837214\n",
      "[378]\tvalid_0's binary_logloss: 0.24288\tvalid_0's auc: 0.837218\n",
      "[379]\tvalid_0's binary_logloss: 0.242874\tvalid_0's auc: 0.837227\n",
      "[380]\tvalid_0's binary_logloss: 0.242875\tvalid_0's auc: 0.837228\n",
      "[381]\tvalid_0's binary_logloss: 0.242871\tvalid_0's auc: 0.837236\n",
      "[382]\tvalid_0's binary_logloss: 0.242869\tvalid_0's auc: 0.837241\n"
     ]
    },
    {
     "name": "stdout",
     "output_type": "stream",
     "text": [
      "[383]\tvalid_0's binary_logloss: 0.242869\tvalid_0's auc: 0.83724\n",
      "[384]\tvalid_0's binary_logloss: 0.24287\tvalid_0's auc: 0.837238\n",
      "[385]\tvalid_0's binary_logloss: 0.242868\tvalid_0's auc: 0.837242\n",
      "[386]\tvalid_0's binary_logloss: 0.242862\tvalid_0's auc: 0.837255\n",
      "[387]\tvalid_0's binary_logloss: 0.242853\tvalid_0's auc: 0.83727\n",
      "[388]\tvalid_0's binary_logloss: 0.242852\tvalid_0's auc: 0.837271\n",
      "[389]\tvalid_0's binary_logloss: 0.242848\tvalid_0's auc: 0.837279\n",
      "[390]\tvalid_0's binary_logloss: 0.242847\tvalid_0's auc: 0.837281\n",
      "[391]\tvalid_0's binary_logloss: 0.242841\tvalid_0's auc: 0.83729\n",
      "[392]\tvalid_0's binary_logloss: 0.242841\tvalid_0's auc: 0.83729\n",
      "[393]\tvalid_0's binary_logloss: 0.242841\tvalid_0's auc: 0.837289\n",
      "[394]\tvalid_0's binary_logloss: 0.242837\tvalid_0's auc: 0.8373\n",
      "[395]\tvalid_0's binary_logloss: 0.242837\tvalid_0's auc: 0.8373\n",
      "[396]\tvalid_0's binary_logloss: 0.242834\tvalid_0's auc: 0.837306\n",
      "[397]\tvalid_0's binary_logloss: 0.242831\tvalid_0's auc: 0.83731\n",
      "[398]\tvalid_0's binary_logloss: 0.242829\tvalid_0's auc: 0.837315\n",
      "[399]\tvalid_0's binary_logloss: 0.242826\tvalid_0's auc: 0.837319\n",
      "[400]\tvalid_0's binary_logloss: 0.242823\tvalid_0's auc: 0.837325\n",
      "[401]\tvalid_0's binary_logloss: 0.242823\tvalid_0's auc: 0.837324\n",
      "[402]\tvalid_0's binary_logloss: 0.242821\tvalid_0's auc: 0.837328\n",
      "[403]\tvalid_0's binary_logloss: 0.24282\tvalid_0's auc: 0.837331\n",
      "[404]\tvalid_0's binary_logloss: 0.242819\tvalid_0's auc: 0.837333\n",
      "[405]\tvalid_0's binary_logloss: 0.242818\tvalid_0's auc: 0.837334\n",
      "[406]\tvalid_0's binary_logloss: 0.242816\tvalid_0's auc: 0.837339\n",
      "[407]\tvalid_0's binary_logloss: 0.242816\tvalid_0's auc: 0.83734\n",
      "[408]\tvalid_0's binary_logloss: 0.242816\tvalid_0's auc: 0.837338\n",
      "[409]\tvalid_0's binary_logloss: 0.242815\tvalid_0's auc: 0.837341\n",
      "[410]\tvalid_0's binary_logloss: 0.242816\tvalid_0's auc: 0.837341\n",
      "[411]\tvalid_0's binary_logloss: 0.242816\tvalid_0's auc: 0.83734\n",
      "[412]\tvalid_0's binary_logloss: 0.242812\tvalid_0's auc: 0.837347\n",
      "[413]\tvalid_0's binary_logloss: 0.242811\tvalid_0's auc: 0.837348\n",
      "[414]\tvalid_0's binary_logloss: 0.242809\tvalid_0's auc: 0.837352\n",
      "[415]\tvalid_0's binary_logloss: 0.242797\tvalid_0's auc: 0.837371\n",
      "[416]\tvalid_0's binary_logloss: 0.242791\tvalid_0's auc: 0.837379\n",
      "[417]\tvalid_0's binary_logloss: 0.242789\tvalid_0's auc: 0.837382\n",
      "[418]\tvalid_0's binary_logloss: 0.242788\tvalid_0's auc: 0.837386\n",
      "[419]\tvalid_0's binary_logloss: 0.242789\tvalid_0's auc: 0.837385\n",
      "[420]\tvalid_0's binary_logloss: 0.24279\tvalid_0's auc: 0.837384\n",
      "[421]\tvalid_0's binary_logloss: 0.24278\tvalid_0's auc: 0.837404\n",
      "[422]\tvalid_0's binary_logloss: 0.24278\tvalid_0's auc: 0.837403\n",
      "[423]\tvalid_0's binary_logloss: 0.242779\tvalid_0's auc: 0.837406\n",
      "[424]\tvalid_0's binary_logloss: 0.242781\tvalid_0's auc: 0.837401\n",
      "[425]\tvalid_0's binary_logloss: 0.242781\tvalid_0's auc: 0.837403\n",
      "[426]\tvalid_0's binary_logloss: 0.242777\tvalid_0's auc: 0.837407\n",
      "[427]\tvalid_0's binary_logloss: 0.242775\tvalid_0's auc: 0.837409\n",
      "[428]\tvalid_0's binary_logloss: 0.242771\tvalid_0's auc: 0.837418\n",
      "[429]\tvalid_0's binary_logloss: 0.242766\tvalid_0's auc: 0.837428\n",
      "[430]\tvalid_0's binary_logloss: 0.242765\tvalid_0's auc: 0.837428\n",
      "[431]\tvalid_0's binary_logloss: 0.242765\tvalid_0's auc: 0.837429\n",
      "[432]\tvalid_0's binary_logloss: 0.242766\tvalid_0's auc: 0.837427\n",
      "[433]\tvalid_0's binary_logloss: 0.242766\tvalid_0's auc: 0.837427\n",
      "[434]\tvalid_0's binary_logloss: 0.242766\tvalid_0's auc: 0.837427\n",
      "[435]\tvalid_0's binary_logloss: 0.242766\tvalid_0's auc: 0.837428\n",
      "[436]\tvalid_0's binary_logloss: 0.24276\tvalid_0's auc: 0.83744\n",
      "[437]\tvalid_0's binary_logloss: 0.24276\tvalid_0's auc: 0.83744\n",
      "[438]\tvalid_0's binary_logloss: 0.242759\tvalid_0's auc: 0.837444\n",
      "[439]\tvalid_0's binary_logloss: 0.242753\tvalid_0's auc: 0.837451\n",
      "[440]\tvalid_0's binary_logloss: 0.242749\tvalid_0's auc: 0.837458\n",
      "[441]\tvalid_0's binary_logloss: 0.242749\tvalid_0's auc: 0.83746\n",
      "[442]\tvalid_0's binary_logloss: 0.242748\tvalid_0's auc: 0.83746\n",
      "[443]\tvalid_0's binary_logloss: 0.242746\tvalid_0's auc: 0.837463\n",
      "[444]\tvalid_0's binary_logloss: 0.24274\tvalid_0's auc: 0.837477\n",
      "[445]\tvalid_0's binary_logloss: 0.24274\tvalid_0's auc: 0.837478\n",
      "[446]\tvalid_0's binary_logloss: 0.242722\tvalid_0's auc: 0.837513\n",
      "[447]\tvalid_0's binary_logloss: 0.242715\tvalid_0's auc: 0.837525\n",
      "[448]\tvalid_0's binary_logloss: 0.242712\tvalid_0's auc: 0.83753\n",
      "[449]\tvalid_0's binary_logloss: 0.242712\tvalid_0's auc: 0.83753\n",
      "[450]\tvalid_0's binary_logloss: 0.242711\tvalid_0's auc: 0.837532\n",
      "[451]\tvalid_0's binary_logloss: 0.24271\tvalid_0's auc: 0.837535\n",
      "[452]\tvalid_0's binary_logloss: 0.242709\tvalid_0's auc: 0.837537\n",
      "[453]\tvalid_0's binary_logloss: 0.242705\tvalid_0's auc: 0.837542\n",
      "[454]\tvalid_0's binary_logloss: 0.242702\tvalid_0's auc: 0.837547\n",
      "[455]\tvalid_0's binary_logloss: 0.242699\tvalid_0's auc: 0.837552\n",
      "[456]\tvalid_0's binary_logloss: 0.242695\tvalid_0's auc: 0.837557\n",
      "[457]\tvalid_0's binary_logloss: 0.24269\tvalid_0's auc: 0.837564\n",
      "[458]\tvalid_0's binary_logloss: 0.242686\tvalid_0's auc: 0.837571\n",
      "[459]\tvalid_0's binary_logloss: 0.242684\tvalid_0's auc: 0.837574\n",
      "[460]\tvalid_0's binary_logloss: 0.242684\tvalid_0's auc: 0.837574\n",
      "[461]\tvalid_0's binary_logloss: 0.242675\tvalid_0's auc: 0.837587\n",
      "[462]\tvalid_0's binary_logloss: 0.24267\tvalid_0's auc: 0.837594\n",
      "[463]\tvalid_0's binary_logloss: 0.242662\tvalid_0's auc: 0.83761\n",
      "[464]\tvalid_0's binary_logloss: 0.242662\tvalid_0's auc: 0.837612\n",
      "[465]\tvalid_0's binary_logloss: 0.242662\tvalid_0's auc: 0.837613\n",
      "[466]\tvalid_0's binary_logloss: 0.24266\tvalid_0's auc: 0.837616\n",
      "[467]\tvalid_0's binary_logloss: 0.242651\tvalid_0's auc: 0.837633\n",
      "[468]\tvalid_0's binary_logloss: 0.242643\tvalid_0's auc: 0.837644\n",
      "[469]\tvalid_0's binary_logloss: 0.242641\tvalid_0's auc: 0.837649\n",
      "[470]\tvalid_0's binary_logloss: 0.242635\tvalid_0's auc: 0.83766\n",
      "[471]\tvalid_0's binary_logloss: 0.242635\tvalid_0's auc: 0.837661\n",
      "[472]\tvalid_0's binary_logloss: 0.242635\tvalid_0's auc: 0.83766\n",
      "[473]\tvalid_0's binary_logloss: 0.242633\tvalid_0's auc: 0.837666\n",
      "[474]\tvalid_0's binary_logloss: 0.242632\tvalid_0's auc: 0.83767\n",
      "[475]\tvalid_0's binary_logloss: 0.242629\tvalid_0's auc: 0.837673\n",
      "[476]\tvalid_0's binary_logloss: 0.24263\tvalid_0's auc: 0.837672\n",
      "[477]\tvalid_0's binary_logloss: 0.242631\tvalid_0's auc: 0.837672\n",
      "[478]\tvalid_0's binary_logloss: 0.242632\tvalid_0's auc: 0.837672\n",
      "[479]\tvalid_0's binary_logloss: 0.242631\tvalid_0's auc: 0.837672\n",
      "[480]\tvalid_0's binary_logloss: 0.242632\tvalid_0's auc: 0.837671\n",
      "[481]\tvalid_0's binary_logloss: 0.24263\tvalid_0's auc: 0.837675\n",
      "[482]\tvalid_0's binary_logloss: 0.242625\tvalid_0's auc: 0.837684\n",
      "[483]\tvalid_0's binary_logloss: 0.242626\tvalid_0's auc: 0.837683\n",
      "[484]\tvalid_0's binary_logloss: 0.242625\tvalid_0's auc: 0.837684\n",
      "[485]\tvalid_0's binary_logloss: 0.242624\tvalid_0's auc: 0.837685\n",
      "[486]\tvalid_0's binary_logloss: 0.242616\tvalid_0's auc: 0.837698\n",
      "[487]\tvalid_0's binary_logloss: 0.242608\tvalid_0's auc: 0.83771\n",
      "[488]\tvalid_0's binary_logloss: 0.242607\tvalid_0's auc: 0.837712\n",
      "[489]\tvalid_0's binary_logloss: 0.242602\tvalid_0's auc: 0.837717\n",
      "[490]\tvalid_0's binary_logloss: 0.242604\tvalid_0's auc: 0.837713\n",
      "[491]\tvalid_0's binary_logloss: 0.242597\tvalid_0's auc: 0.837724\n",
      "[492]\tvalid_0's binary_logloss: 0.242597\tvalid_0's auc: 0.837724\n",
      "[493]\tvalid_0's binary_logloss: 0.242598\tvalid_0's auc: 0.837722\n",
      "[494]\tvalid_0's binary_logloss: 0.242594\tvalid_0's auc: 0.837728\n",
      "[495]\tvalid_0's binary_logloss: 0.242592\tvalid_0's auc: 0.837732\n",
      "[496]\tvalid_0's binary_logloss: 0.242587\tvalid_0's auc: 0.837741\n",
      "[497]\tvalid_0's binary_logloss: 0.242587\tvalid_0's auc: 0.83774\n",
      "[498]\tvalid_0's binary_logloss: 0.242585\tvalid_0's auc: 0.837743\n",
      "[499]\tvalid_0's binary_logloss: 0.242584\tvalid_0's auc: 0.837743\n",
      "[500]\tvalid_0's binary_logloss: 0.242582\tvalid_0's auc: 0.837746\n",
      "[501]\tvalid_0's binary_logloss: 0.242572\tvalid_0's auc: 0.837757\n",
      "[502]\tvalid_0's binary_logloss: 0.242568\tvalid_0's auc: 0.837761\n",
      "[503]\tvalid_0's binary_logloss: 0.24256\tvalid_0's auc: 0.837772\n",
      "[504]\tvalid_0's binary_logloss: 0.242554\tvalid_0's auc: 0.837781\n",
      "[505]\tvalid_0's binary_logloss: 0.242547\tvalid_0's auc: 0.83779\n",
      "[506]\tvalid_0's binary_logloss: 0.242545\tvalid_0's auc: 0.837793\n",
      "[507]\tvalid_0's binary_logloss: 0.242544\tvalid_0's auc: 0.837794\n",
      "[508]\tvalid_0's binary_logloss: 0.242542\tvalid_0's auc: 0.837799\n",
      "[509]\tvalid_0's binary_logloss: 0.242541\tvalid_0's auc: 0.837802\n"
     ]
    },
    {
     "name": "stdout",
     "output_type": "stream",
     "text": [
      "[510]\tvalid_0's binary_logloss: 0.242541\tvalid_0's auc: 0.837803\n",
      "[511]\tvalid_0's binary_logloss: 0.242538\tvalid_0's auc: 0.837807\n",
      "[512]\tvalid_0's binary_logloss: 0.242537\tvalid_0's auc: 0.83781\n",
      "[513]\tvalid_0's binary_logloss: 0.242533\tvalid_0's auc: 0.837817\n",
      "[514]\tvalid_0's binary_logloss: 0.242533\tvalid_0's auc: 0.837818\n",
      "[515]\tvalid_0's binary_logloss: 0.242531\tvalid_0's auc: 0.837822\n",
      "[516]\tvalid_0's binary_logloss: 0.242524\tvalid_0's auc: 0.837834\n",
      "[517]\tvalid_0's binary_logloss: 0.242519\tvalid_0's auc: 0.837842\n",
      "[518]\tvalid_0's binary_logloss: 0.242519\tvalid_0's auc: 0.837843\n",
      "[519]\tvalid_0's binary_logloss: 0.242519\tvalid_0's auc: 0.837841\n",
      "[520]\tvalid_0's binary_logloss: 0.242518\tvalid_0's auc: 0.837845\n",
      "[521]\tvalid_0's binary_logloss: 0.242515\tvalid_0's auc: 0.83785\n",
      "[522]\tvalid_0's binary_logloss: 0.242516\tvalid_0's auc: 0.83785\n",
      "[523]\tvalid_0's binary_logloss: 0.242514\tvalid_0's auc: 0.837852\n",
      "[524]\tvalid_0's binary_logloss: 0.242513\tvalid_0's auc: 0.837854\n",
      "[525]\tvalid_0's binary_logloss: 0.242509\tvalid_0's auc: 0.837863\n",
      "[526]\tvalid_0's binary_logloss: 0.242509\tvalid_0's auc: 0.837864\n",
      "[527]\tvalid_0's binary_logloss: 0.24251\tvalid_0's auc: 0.837864\n",
      "[528]\tvalid_0's binary_logloss: 0.242512\tvalid_0's auc: 0.837862\n",
      "[529]\tvalid_0's binary_logloss: 0.242511\tvalid_0's auc: 0.837865\n",
      "[530]\tvalid_0's binary_logloss: 0.24251\tvalid_0's auc: 0.837865\n",
      "[531]\tvalid_0's binary_logloss: 0.242511\tvalid_0's auc: 0.837863\n",
      "[532]\tvalid_0's binary_logloss: 0.242512\tvalid_0's auc: 0.83786\n",
      "[533]\tvalid_0's binary_logloss: 0.242512\tvalid_0's auc: 0.837862\n",
      "[534]\tvalid_0's binary_logloss: 0.24251\tvalid_0's auc: 0.837865\n",
      "[535]\tvalid_0's binary_logloss: 0.24251\tvalid_0's auc: 0.837864\n",
      "[536]\tvalid_0's binary_logloss: 0.242503\tvalid_0's auc: 0.837877\n",
      "[537]\tvalid_0's binary_logloss: 0.242497\tvalid_0's auc: 0.837888\n",
      "[538]\tvalid_0's binary_logloss: 0.242493\tvalid_0's auc: 0.837896\n",
      "[539]\tvalid_0's binary_logloss: 0.24249\tvalid_0's auc: 0.837903\n",
      "[540]\tvalid_0's binary_logloss: 0.242482\tvalid_0's auc: 0.837916\n",
      "[541]\tvalid_0's binary_logloss: 0.24248\tvalid_0's auc: 0.83792\n",
      "[542]\tvalid_0's binary_logloss: 0.242477\tvalid_0's auc: 0.837925\n",
      "[543]\tvalid_0's binary_logloss: 0.242474\tvalid_0's auc: 0.83793\n",
      "[544]\tvalid_0's binary_logloss: 0.242475\tvalid_0's auc: 0.837929\n",
      "[545]\tvalid_0's binary_logloss: 0.242472\tvalid_0's auc: 0.837935\n",
      "[546]\tvalid_0's binary_logloss: 0.24247\tvalid_0's auc: 0.837936\n",
      "[547]\tvalid_0's binary_logloss: 0.242471\tvalid_0's auc: 0.837934\n",
      "[548]\tvalid_0's binary_logloss: 0.242466\tvalid_0's auc: 0.837944\n",
      "[549]\tvalid_0's binary_logloss: 0.242465\tvalid_0's auc: 0.837945\n",
      "[550]\tvalid_0's binary_logloss: 0.242465\tvalid_0's auc: 0.837944\n",
      "[551]\tvalid_0's binary_logloss: 0.242466\tvalid_0's auc: 0.837942\n",
      "[552]\tvalid_0's binary_logloss: 0.242461\tvalid_0's auc: 0.837951\n",
      "[553]\tvalid_0's binary_logloss: 0.242461\tvalid_0's auc: 0.837953\n",
      "[554]\tvalid_0's binary_logloss: 0.242461\tvalid_0's auc: 0.837954\n",
      "[555]\tvalid_0's binary_logloss: 0.24246\tvalid_0's auc: 0.837955\n",
      "[556]\tvalid_0's binary_logloss: 0.24246\tvalid_0's auc: 0.837956\n",
      "[557]\tvalid_0's binary_logloss: 0.24246\tvalid_0's auc: 0.837958\n",
      "[558]\tvalid_0's binary_logloss: 0.242459\tvalid_0's auc: 0.837959\n",
      "[559]\tvalid_0's binary_logloss: 0.24246\tvalid_0's auc: 0.837958\n",
      "[560]\tvalid_0's binary_logloss: 0.242462\tvalid_0's auc: 0.837955\n",
      "[561]\tvalid_0's binary_logloss: 0.242463\tvalid_0's auc: 0.837953\n",
      "[562]\tvalid_0's binary_logloss: 0.242457\tvalid_0's auc: 0.837966\n",
      "[563]\tvalid_0's binary_logloss: 0.242456\tvalid_0's auc: 0.837968\n",
      "[564]\tvalid_0's binary_logloss: 0.242456\tvalid_0's auc: 0.837965\n",
      "[565]\tvalid_0's binary_logloss: 0.242456\tvalid_0's auc: 0.837966\n",
      "[566]\tvalid_0's binary_logloss: 0.242453\tvalid_0's auc: 0.837972\n",
      "[567]\tvalid_0's binary_logloss: 0.242454\tvalid_0's auc: 0.83797\n",
      "[568]\tvalid_0's binary_logloss: 0.242448\tvalid_0's auc: 0.837981\n",
      "[569]\tvalid_0's binary_logloss: 0.242448\tvalid_0's auc: 0.837981\n",
      "[570]\tvalid_0's binary_logloss: 0.242442\tvalid_0's auc: 0.837988\n",
      "[571]\tvalid_0's binary_logloss: 0.242441\tvalid_0's auc: 0.83799\n",
      "[572]\tvalid_0's binary_logloss: 0.242438\tvalid_0's auc: 0.837996\n",
      "[573]\tvalid_0's binary_logloss: 0.24244\tvalid_0's auc: 0.837993\n",
      "[574]\tvalid_0's binary_logloss: 0.242438\tvalid_0's auc: 0.837995\n",
      "[575]\tvalid_0's binary_logloss: 0.242436\tvalid_0's auc: 0.838\n",
      "[576]\tvalid_0's binary_logloss: 0.24243\tvalid_0's auc: 0.838011\n",
      "[577]\tvalid_0's binary_logloss: 0.242427\tvalid_0's auc: 0.838015\n",
      "[578]\tvalid_0's binary_logloss: 0.242422\tvalid_0's auc: 0.838026\n",
      "[579]\tvalid_0's binary_logloss: 0.242422\tvalid_0's auc: 0.838028\n",
      "[580]\tvalid_0's binary_logloss: 0.242418\tvalid_0's auc: 0.838031\n",
      "[581]\tvalid_0's binary_logloss: 0.242417\tvalid_0's auc: 0.838034\n",
      "[582]\tvalid_0's binary_logloss: 0.242416\tvalid_0's auc: 0.838036\n",
      "[583]\tvalid_0's binary_logloss: 0.242416\tvalid_0's auc: 0.838035\n",
      "[584]\tvalid_0's binary_logloss: 0.242414\tvalid_0's auc: 0.838037\n",
      "[585]\tvalid_0's binary_logloss: 0.242415\tvalid_0's auc: 0.838036\n",
      "[586]\tvalid_0's binary_logloss: 0.242416\tvalid_0's auc: 0.838034\n",
      "[587]\tvalid_0's binary_logloss: 0.242416\tvalid_0's auc: 0.838033\n",
      "[588]\tvalid_0's binary_logloss: 0.242417\tvalid_0's auc: 0.838031\n",
      "[589]\tvalid_0's binary_logloss: 0.242416\tvalid_0's auc: 0.838034\n",
      "[590]\tvalid_0's binary_logloss: 0.242413\tvalid_0's auc: 0.83804\n",
      "[591]\tvalid_0's binary_logloss: 0.242412\tvalid_0's auc: 0.838042\n",
      "[592]\tvalid_0's binary_logloss: 0.24241\tvalid_0's auc: 0.838044\n",
      "[593]\tvalid_0's binary_logloss: 0.242409\tvalid_0's auc: 0.838046\n",
      "[594]\tvalid_0's binary_logloss: 0.242401\tvalid_0's auc: 0.838062\n",
      "[595]\tvalid_0's binary_logloss: 0.2424\tvalid_0's auc: 0.838065\n",
      "[596]\tvalid_0's binary_logloss: 0.2424\tvalid_0's auc: 0.838066\n",
      "[597]\tvalid_0's binary_logloss: 0.242401\tvalid_0's auc: 0.838065\n",
      "[598]\tvalid_0's binary_logloss: 0.2424\tvalid_0's auc: 0.838067\n",
      "[599]\tvalid_0's binary_logloss: 0.242398\tvalid_0's auc: 0.838068\n",
      "[600]\tvalid_0's binary_logloss: 0.242395\tvalid_0's auc: 0.838069\n",
      "[601]\tvalid_0's binary_logloss: 0.242395\tvalid_0's auc: 0.83807\n",
      "[602]\tvalid_0's binary_logloss: 0.242393\tvalid_0's auc: 0.838073\n",
      "[603]\tvalid_0's binary_logloss: 0.24239\tvalid_0's auc: 0.838079\n",
      "[604]\tvalid_0's binary_logloss: 0.242389\tvalid_0's auc: 0.83808\n",
      "[605]\tvalid_0's binary_logloss: 0.24239\tvalid_0's auc: 0.838079\n",
      "[606]\tvalid_0's binary_logloss: 0.242388\tvalid_0's auc: 0.838085\n",
      "[607]\tvalid_0's binary_logloss: 0.242387\tvalid_0's auc: 0.838087\n",
      "[608]\tvalid_0's binary_logloss: 0.242388\tvalid_0's auc: 0.838086\n",
      "[609]\tvalid_0's binary_logloss: 0.242383\tvalid_0's auc: 0.838096\n",
      "[610]\tvalid_0's binary_logloss: 0.242383\tvalid_0's auc: 0.838095\n",
      "[611]\tvalid_0's binary_logloss: 0.242378\tvalid_0's auc: 0.838104\n",
      "[612]\tvalid_0's binary_logloss: 0.242373\tvalid_0's auc: 0.838111\n",
      "[613]\tvalid_0's binary_logloss: 0.242371\tvalid_0's auc: 0.838115\n",
      "[614]\tvalid_0's binary_logloss: 0.242369\tvalid_0's auc: 0.83812\n",
      "[615]\tvalid_0's binary_logloss: 0.242361\tvalid_0's auc: 0.838133\n",
      "[616]\tvalid_0's binary_logloss: 0.242359\tvalid_0's auc: 0.838136\n",
      "[617]\tvalid_0's binary_logloss: 0.242355\tvalid_0's auc: 0.838141\n",
      "[618]\tvalid_0's binary_logloss: 0.242355\tvalid_0's auc: 0.838141\n",
      "[619]\tvalid_0's binary_logloss: 0.242353\tvalid_0's auc: 0.838144\n",
      "[620]\tvalid_0's binary_logloss: 0.242351\tvalid_0's auc: 0.838149\n",
      "[621]\tvalid_0's binary_logloss: 0.242349\tvalid_0's auc: 0.838152\n",
      "[622]\tvalid_0's binary_logloss: 0.242343\tvalid_0's auc: 0.838161\n",
      "[623]\tvalid_0's binary_logloss: 0.242338\tvalid_0's auc: 0.838169\n",
      "[624]\tvalid_0's binary_logloss: 0.242332\tvalid_0's auc: 0.838177\n",
      "[625]\tvalid_0's binary_logloss: 0.242332\tvalid_0's auc: 0.838178\n",
      "[626]\tvalid_0's binary_logloss: 0.242334\tvalid_0's auc: 0.838176\n",
      "[627]\tvalid_0's binary_logloss: 0.242335\tvalid_0's auc: 0.838175\n",
      "[628]\tvalid_0's binary_logloss: 0.242336\tvalid_0's auc: 0.838174\n",
      "[629]\tvalid_0's binary_logloss: 0.242337\tvalid_0's auc: 0.838174\n",
      "[630]\tvalid_0's binary_logloss: 0.242337\tvalid_0's auc: 0.838173\n",
      "[631]\tvalid_0's binary_logloss: 0.242337\tvalid_0's auc: 0.83817\n",
      "[632]\tvalid_0's binary_logloss: 0.242336\tvalid_0's auc: 0.838171\n",
      "[633]\tvalid_0's binary_logloss: 0.242332\tvalid_0's auc: 0.838178\n",
      "[634]\tvalid_0's binary_logloss: 0.242328\tvalid_0's auc: 0.838184\n",
      "[635]\tvalid_0's binary_logloss: 0.242328\tvalid_0's auc: 0.838184\n",
      "[636]\tvalid_0's binary_logloss: 0.242328\tvalid_0's auc: 0.838185\n"
     ]
    },
    {
     "name": "stdout",
     "output_type": "stream",
     "text": [
      "[637]\tvalid_0's binary_logloss: 0.242328\tvalid_0's auc: 0.838184\n",
      "[638]\tvalid_0's binary_logloss: 0.242323\tvalid_0's auc: 0.838193\n",
      "[639]\tvalid_0's binary_logloss: 0.242324\tvalid_0's auc: 0.838191\n",
      "[640]\tvalid_0's binary_logloss: 0.242324\tvalid_0's auc: 0.838191\n",
      "[641]\tvalid_0's binary_logloss: 0.242325\tvalid_0's auc: 0.838189\n",
      "[642]\tvalid_0's binary_logloss: 0.242324\tvalid_0's auc: 0.838189\n",
      "[643]\tvalid_0's binary_logloss: 0.242325\tvalid_0's auc: 0.838187\n",
      "[644]\tvalid_0's binary_logloss: 0.242326\tvalid_0's auc: 0.838187\n",
      "[645]\tvalid_0's binary_logloss: 0.242326\tvalid_0's auc: 0.838187\n",
      "[646]\tvalid_0's binary_logloss: 0.242322\tvalid_0's auc: 0.838195\n",
      "[647]\tvalid_0's binary_logloss: 0.242319\tvalid_0's auc: 0.838201\n",
      "[648]\tvalid_0's binary_logloss: 0.242314\tvalid_0's auc: 0.83821\n",
      "[649]\tvalid_0's binary_logloss: 0.242313\tvalid_0's auc: 0.838212\n",
      "[650]\tvalid_0's binary_logloss: 0.242312\tvalid_0's auc: 0.838213\n",
      "[651]\tvalid_0's binary_logloss: 0.242314\tvalid_0's auc: 0.838208\n",
      "[652]\tvalid_0's binary_logloss: 0.242316\tvalid_0's auc: 0.838204\n",
      "[653]\tvalid_0's binary_logloss: 0.242315\tvalid_0's auc: 0.838208\n",
      "[654]\tvalid_0's binary_logloss: 0.242316\tvalid_0's auc: 0.838209\n",
      "[655]\tvalid_0's binary_logloss: 0.242317\tvalid_0's auc: 0.838208\n",
      "[656]\tvalid_0's binary_logloss: 0.242318\tvalid_0's auc: 0.838205\n",
      "[657]\tvalid_0's binary_logloss: 0.24232\tvalid_0's auc: 0.838203\n",
      "[658]\tvalid_0's binary_logloss: 0.24232\tvalid_0's auc: 0.838204\n",
      "[659]\tvalid_0's binary_logloss: 0.24232\tvalid_0's auc: 0.838202\n",
      "[660]\tvalid_0's binary_logloss: 0.242321\tvalid_0's auc: 0.838202\n",
      "[661]\tvalid_0's binary_logloss: 0.242322\tvalid_0's auc: 0.838202\n",
      "[662]\tvalid_0's binary_logloss: 0.242322\tvalid_0's auc: 0.838202\n",
      "[663]\tvalid_0's binary_logloss: 0.242322\tvalid_0's auc: 0.838202\n",
      "[664]\tvalid_0's binary_logloss: 0.242323\tvalid_0's auc: 0.838202\n",
      "[665]\tvalid_0's binary_logloss: 0.242325\tvalid_0's auc: 0.838199\n",
      "Early stopping, best iteration is:\n",
      "[650]\tvalid_0's binary_logloss: 0.242312\tvalid_0's auc: 0.838213\n"
     ]
    }
   ],
   "source": [
    "# Train a light GBM model \n",
    "lgb_model = lgb.train(params, lgb_train, valid_sets = lgb_eval, early_stopping_rounds=15)\n",
    "\n"
   ]
  },
  {
   "cell_type": "markdown",
   "metadata": {},
   "source": [
    "The model has trained with 650 itterations using binary_logloss auc loss functions. "
   ]
  },
  {
   "cell_type": "markdown",
   "metadata": {},
   "source": [
    "#### Evaluation\n",
    "let's make a prediction for the test set so that and evaluate the result. The prediction returns probability scores between 0 and 1. We'll use a threshold value to change it to binary. "
   ]
  },
  {
   "cell_type": "code",
   "execution_count": 200,
   "metadata": {},
   "outputs": [],
   "source": [
    "# Predict for evaluation set \n",
    "X_eval['pred'] = lgb_model.predict(X_eval[f_to_use], num_iterations = lgb_model.best_iteration)"
   ]
  },
  {
   "cell_type": "code",
   "execution_count": 202,
   "metadata": {},
   "outputs": [
    {
     "data": {
      "text/plain": [
       "8319756    0.092174\n",
       "1169791    0.018365\n",
       "3163396    0.036531\n",
       "3373214    0.000989\n",
       "8389207    0.269756\n",
       "Name: pred, dtype: float64"
      ]
     },
     "execution_count": 202,
     "metadata": {},
     "output_type": "execute_result"
    }
   ],
   "source": [
    "X_eval['pred'].head()"
   ]
  },
  {
   "cell_type": "code",
   "execution_count": 203,
   "metadata": {},
   "outputs": [],
   "source": [
    "# Change to binary for evaluation \n",
    "X_eval['pred'] = np.where(X_eval['pred'] >= 0.5, 1, X_eval['pred'].astype(int))"
   ]
  },
  {
   "cell_type": "code",
   "execution_count": 204,
   "metadata": {},
   "outputs": [
    {
     "name": "stdout",
     "output_type": "stream",
     "text": [
      "Confusion matrix\n",
      "[[1512876   16713]\n",
      " [ 134530   30814]]\n",
      "              precision    recall  f1-score   support\n",
      "\n",
      "           0       0.92      0.99      0.95   1529589\n",
      "           1       0.65      0.19      0.29    165344\n",
      "\n",
      "   micro avg       0.91      0.91      0.91   1694933\n",
      "   macro avg       0.78      0.59      0.62   1694933\n",
      "weighted avg       0.89      0.91      0.89   1694933\n",
      "\n"
     ]
    }
   ],
   "source": [
    "# Evaluating validation set \n",
    "#Confusion matrix for validation set \n",
    "print('Confusion matrix')\n",
    "print(confusion_matrix(y_eval, X_eval['pred']))\n",
    "\n",
    "# Classification report \n",
    "print(classification_report(y_eval, X_eval['pred']))\n"
   ]
  },
  {
   "cell_type": "code",
   "execution_count": 51,
   "metadata": {},
   "outputs": [
    {
     "name": "stdout",
     "output_type": "stream",
     "text": [
      "('Accuracy:', 0.87748955268438344)\n"
     ]
    }
   ],
   "source": [
    "#Accuracy\n",
    "from sklearn.metrics import accuracy_score\n",
    "accuracy=accuracy_score(X_eval['reordered'],y_eval)\n",
    "print('Accuracy:', accuracy)"
   ]
  },
  {
   "cell_type": "markdown",
   "metadata": {},
   "source": [
    "The confusion matrix and classification report do not seem promising although the accuracy score seems high. We will use this model as a benchmark and try to improve the score by first balancing the classes and also by using other models. "
   ]
  },
  {
   "cell_type": "markdown",
   "metadata": {},
   "source": [
    "## Adjust Class Imbalance \n",
    "\n"
   ]
  },
  {
   "cell_type": "markdown",
   "metadata": {},
   "source": [
    "The number of user product pairs not reordered outnumbers the reordered ones. Balancing the classes is likely to give us a better result. in addition it will also help us reduce the data to a size that most models can handle.  "
   ]
  },
  {
   "cell_type": "code",
   "execution_count": 137,
   "metadata": {},
   "outputs": [
    {
     "data": {
      "image/png": "[encoded data removed]",
      "text/plain": [
       "<Figure size 432x288 with 1 Axes>"
      ]
     },
     "metadata": {
      "needs_background": "light"
     },
     "output_type": "display_data"
    },
    {
     "name": "stdout",
     "output_type": "stream",
     "text": [
      "0    7645837\n",
      "1     828824\n",
      "Name: reordered, dtype: int64\n"
     ]
    }
   ],
   "source": [
    "sns.countplot(x='reordered', data=df_train, palette='hls')\n",
    "plt.title('Reorder proportions of user product pair')\n",
    "plt.show()\n",
    "print(df_train['reordered'].value_counts())"
   ]
  },
  {
   "cell_type": "code",
   "execution_count": 16,
   "metadata": {
    "scrolled": false
   },
   "outputs": [
    {
     "name": "stdout",
     "output_type": "stream",
     "text": [
      "1    828824\n",
      "0    828824\n",
      "Name: reordered, dtype: int64\n",
      "Balanced train class\n"
     ]
    },
    {
     "data": {
      "image/png": "[encoded data removed]",
      "text/plain": [
       "<Figure size 432x288 with 1 Axes>"
      ]
     },
     "metadata": {
      "needs_background": "light"
     },
     "output_type": "display_data"
    }
   ],
   "source": [
    "#Import module and resampling \n",
    "\n",
    "from sklearn.utils import resample\n",
    "\n",
    "# Separate majority and minority classes\n",
    "data_majority = df_train[df_train.reordered==0]\n",
    "data_minority = df_train[df_train.reordered==1]\n",
    " \n",
    "# Downsample majority overall class\n",
    "\n",
    "data_majority_downsampled = resample(data_majority, \n",
    "                                 replace=False,    # sample without replacement\n",
    "                                 n_samples=828824,     # new sample size\n",
    "                                 random_state=123) # reproducible results\n",
    " \n",
    "# Combine majority class with upsampled minority overall class\n",
    "df_train_resampled = pd.concat([data_minority, data_majority_downsampled])\n",
    " \n",
    "# Display new class counts\n",
    "print(df_train_resampled.reordered.value_counts())\n",
    "print('Balanced train class')\n",
    "\n",
    "sns.countplot(x='reordered', data=df_train_resampled, palette='hls')\n",
    "plt.title('Balanced class')\n",
    "plt.show()"
   ]
  },
  {
   "cell_type": "code",
   "execution_count": 140,
   "metadata": {
    "scrolled": false
   },
   "outputs": [
    {
     "data": {
      "text/plain": [
       "order_id                            0\n",
       "product_id                          0\n",
       "user_total_orders                   0\n",
       "user_total_items                    0\n",
       "total_distinct_items                0\n",
       "user_average_days_between_orders    0\n",
       "user_average_basket                 0\n",
       "order_hour_of_day                   0\n",
       "days_since_prior_order              0\n",
       "days_since_ratio                    0\n",
       "aisle_id                            0\n",
       "department_id                       0\n",
       "product_orders                      0\n",
       "product_reorders                    0\n",
       "product_reorder_rate                0\n",
       "UP_orders                           0\n",
       "UP_orders_ratio                     0\n",
       "UP_average_pos_in_cart              0\n",
       "UP_reorder_rate                     0\n",
       "UP_orders_since_last                0\n",
       "UP_delta_hour_vs_last               0\n",
       "reordered                           0\n",
       "dtype: int64"
      ]
     },
     "execution_count": 140,
     "metadata": {},
     "output_type": "execute_result"
    }
   ],
   "source": [
    "df_train_resampled.isnull().sum()"
   ]
  },
  {
   "cell_type": "code",
   "execution_count": 17,
   "metadata": {},
   "outputs": [],
   "source": [
    "# Replace missing values with the mean\n",
    "df_train_resampled = df_train_resampled.fillna(df_train_resampled.mean())"
   ]
  },
  {
   "cell_type": "code",
   "execution_count": 138,
   "metadata": {},
   "outputs": [],
   "source": [
    "# Define target variable \n",
    "X = df_train_resampled.drop('reordered', 1)\n",
    "Y = df_train_resampled['reordered']"
   ]
  },
  {
   "cell_type": "code",
   "execution_count": 143,
   "metadata": {},
   "outputs": [
    {
     "data": {
      "text/plain": [
       "(1326118, 21)"
      ]
     },
     "execution_count": 143,
     "metadata": {},
     "output_type": "execute_result"
    }
   ],
   "source": [
    "X_train_re.shape"
   ]
  },
  {
   "cell_type": "code",
   "execution_count": 142,
   "metadata": {},
   "outputs": [],
   "source": [
    "# split the resampled train data for evaluation \n",
    "X_train_re, X_eval_re, y_train_re, y_eval_re = train_test_split(\n",
    "    X, Y, test_size=0.2, random_state=2)"
   ]
  },
  {
   "cell_type": "markdown",
   "metadata": {},
   "source": [
    "#### Light GBM with resampled data"
   ]
  },
  {
   "cell_type": "code",
   "execution_count": 49,
   "metadata": {},
   "outputs": [],
   "source": [
    "#preparing resampled data for Light GBM\n",
    "lgb_train_re = lgb.Dataset(X_train_re, label=y_train_re)\n",
    "lgb_eval_re = lgb.Dataset(X_eval_re, y_eval_re, reference = lgb_train_re)"
   ]
  },
  {
   "cell_type": "code",
   "execution_count": 50,
   "metadata": {
    "scrolled": true
   },
   "outputs": [
    {
     "name": "stdout",
     "output_type": "stream",
     "text": [
      "[1]\tvalid_0's auc: 0.825272\tvalid_0's binary_logloss: 0.677495\n",
      "Training until validation scores don't improve for 15 rounds.\n",
      "[2]\tvalid_0's auc: 0.826225\tvalid_0's binary_logloss: 0.663491\n",
      "[3]\tvalid_0's auc: 0.826602\tvalid_0's binary_logloss: 0.65072\n",
      "[4]\tvalid_0's auc: 0.827047\tvalid_0's binary_logloss: 0.639028\n",
      "[5]\tvalid_0's auc: 0.826826\tvalid_0's binary_logloss: 0.630522\n",
      "[6]\tvalid_0's auc: 0.82724\tvalid_0's binary_logloss: 0.620611\n",
      "[7]\tvalid_0's auc: 0.82751\tvalid_0's binary_logloss: 0.611564\n",
      "[8]\tvalid_0's auc: 0.827652\tvalid_0's binary_logloss: 0.603292\n",
      "[9]\tvalid_0's auc: 0.827867\tvalid_0's binary_logloss: 0.595696\n",
      "[10]\tvalid_0's auc: 0.828\tvalid_0's binary_logloss: 0.588738\n",
      "[11]\tvalid_0's auc: 0.827864\tvalid_0's binary_logloss: 0.583609\n",
      "[12]\tvalid_0's auc: 0.827547\tvalid_0's binary_logloss: 0.578905\n",
      "[13]\tvalid_0's auc: 0.827843\tvalid_0's binary_logloss: 0.573275\n",
      "[14]\tvalid_0's auc: 0.827444\tvalid_0's binary_logloss: 0.569339\n",
      "[15]\tvalid_0's auc: 0.82782\tvalid_0's binary_logloss: 0.564524\n",
      "[16]\tvalid_0's auc: 0.827496\tvalid_0's binary_logloss: 0.561166\n",
      "[17]\tvalid_0's auc: 0.827804\tvalid_0's binary_logloss: 0.556941\n",
      "[18]\tvalid_0's auc: 0.827495\tvalid_0's binary_logloss: 0.554109\n",
      "[19]\tvalid_0's auc: 0.827809\tvalid_0's binary_logloss: 0.550424\n",
      "[20]\tvalid_0's auc: 0.828045\tvalid_0's binary_logloss: 0.547051\n",
      "[21]\tvalid_0's auc: 0.828311\tvalid_0's binary_logloss: 0.54394\n",
      "[22]\tvalid_0's auc: 0.828149\tvalid_0's binary_logloss: 0.54192\n",
      "[23]\tvalid_0's auc: 0.828369\tvalid_0's binary_logloss: 0.539171\n",
      "[24]\tvalid_0's auc: 0.828567\tvalid_0's binary_logloss: 0.536686\n",
      "[25]\tvalid_0's auc: 0.828469\tvalid_0's binary_logloss: 0.535032\n",
      "[26]\tvalid_0's auc: 0.828663\tvalid_0's binary_logloss: 0.532816\n",
      "[27]\tvalid_0's auc: 0.828575\tvalid_0's binary_logloss: 0.531414\n",
      "[28]\tvalid_0's auc: 0.828489\tvalid_0's binary_logloss: 0.530149\n",
      "[29]\tvalid_0's auc: 0.828695\tvalid_0's binary_logloss: 0.5283\n",
      "[30]\tvalid_0's auc: 0.82891\tvalid_0's binary_logloss: 0.52657\n",
      "[31]\tvalid_0's auc: 0.829079\tvalid_0's binary_logloss: 0.524982\n",
      "[32]\tvalid_0's auc: 0.829224\tvalid_0's binary_logloss: 0.523527\n",
      "[33]\tvalid_0's auc: 0.829357\tvalid_0's binary_logloss: 0.522178\n",
      "[34]\tvalid_0's auc: 0.829503\tvalid_0's binary_logloss: 0.520931\n",
      "[35]\tvalid_0's auc: 0.829647\tvalid_0's binary_logloss: 0.519779\n",
      "[36]\tvalid_0's auc: 0.829745\tvalid_0's binary_logloss: 0.518715\n",
      "[37]\tvalid_0's auc: 0.82992\tvalid_0's binary_logloss: 0.517743\n",
      "[38]\tvalid_0's auc: 0.829893\tvalid_0's binary_logloss: 0.517159\n",
      "[39]\tvalid_0's auc: 0.829963\tvalid_0's binary_logloss: 0.516306\n",
      "[40]\tvalid_0's auc: 0.830027\tvalid_0's binary_logloss: 0.515518\n",
      "[41]\tvalid_0's auc: 0.830169\tvalid_0's binary_logloss: 0.514725\n",
      "[42]\tvalid_0's auc: 0.830245\tvalid_0's binary_logloss: 0.514033\n",
      "[43]\tvalid_0's auc: 0.830273\tvalid_0's binary_logloss: 0.513604\n",
      "[44]\tvalid_0's auc: 0.830353\tvalid_0's binary_logloss: 0.512983\n",
      "[45]\tvalid_0's auc: 0.83045\tvalid_0's binary_logloss: 0.512399\n",
      "[46]\tvalid_0's auc: 0.830568\tvalid_0's binary_logloss: 0.511824\n",
      "[47]\tvalid_0's auc: 0.830648\tvalid_0's binary_logloss: 0.511324\n",
      "[48]\tvalid_0's auc: 0.830737\tvalid_0's binary_logloss: 0.510847\n",
      "[49]\tvalid_0's auc: 0.830811\tvalid_0's binary_logloss: 0.510409\n",
      "[50]\tvalid_0's auc: 0.830868\tvalid_0's binary_logloss: 0.51002\n",
      "[51]\tvalid_0's auc: 0.83096\tvalid_0's binary_logloss: 0.509619\n",
      "[52]\tvalid_0's auc: 0.830998\tvalid_0's binary_logloss: 0.509385\n",
      "[53]\tvalid_0's auc: 0.831105\tvalid_0's binary_logloss: 0.509013\n",
      "[54]\tvalid_0's auc: 0.831169\tvalid_0's binary_logloss: 0.508695\n",
      "[55]\tvalid_0's auc: 0.831227\tvalid_0's binary_logloss: 0.508403\n",
      "[56]\tvalid_0's auc: 0.831275\tvalid_0's binary_logloss: 0.508142\n",
      "[57]\tvalid_0's auc: 0.83133\tvalid_0's binary_logloss: 0.507885\n",
      "[58]\tvalid_0's auc: 0.831328\tvalid_0's binary_logloss: 0.507772\n",
      "[59]\tvalid_0's auc: 0.831386\tvalid_0's binary_logloss: 0.507536\n",
      "[60]\tvalid_0's auc: 0.831435\tvalid_0's binary_logloss: 0.507321\n",
      "[61]\tvalid_0's auc: 0.831482\tvalid_0's binary_logloss: 0.507125\n",
      "[62]\tvalid_0's auc: 0.831517\tvalid_0's binary_logloss: 0.506994\n",
      "[63]\tvalid_0's auc: 0.831546\tvalid_0's binary_logloss: 0.506876\n",
      "[64]\tvalid_0's auc: 0.831604\tvalid_0's binary_logloss: 0.506695\n",
      "[65]\tvalid_0's auc: 0.831661\tvalid_0's binary_logloss: 0.506518\n",
      "[66]\tvalid_0's auc: 0.831717\tvalid_0's binary_logloss: 0.506355\n",
      "[67]\tvalid_0's auc: 0.83177\tvalid_0's binary_logloss: 0.506204\n",
      "[68]\tvalid_0's auc: 0.831815\tvalid_0's binary_logloss: 0.506067\n",
      "[69]\tvalid_0's auc: 0.831843\tvalid_0's binary_logloss: 0.505981\n",
      "[70]\tvalid_0's auc: 0.831893\tvalid_0's binary_logloss: 0.505852\n",
      "[71]\tvalid_0's auc: 0.831942\tvalid_0's binary_logloss: 0.505719\n",
      "[72]\tvalid_0's auc: 0.831959\tvalid_0's binary_logloss: 0.505659\n",
      "[73]\tvalid_0's auc: 0.832027\tvalid_0's binary_logloss: 0.505516\n",
      "[74]\tvalid_0's auc: 0.832085\tvalid_0's binary_logloss: 0.505382\n",
      "[75]\tvalid_0's auc: 0.83214\tvalid_0's binary_logloss: 0.505285\n",
      "[76]\tvalid_0's auc: 0.832187\tvalid_0's binary_logloss: 0.505179\n",
      "[77]\tvalid_0's auc: 0.832228\tvalid_0's binary_logloss: 0.50508\n",
      "[78]\tvalid_0's auc: 0.832275\tvalid_0's binary_logloss: 0.504981\n",
      "[79]\tvalid_0's auc: 0.832319\tvalid_0's binary_logloss: 0.50489\n",
      "[80]\tvalid_0's auc: 0.832382\tvalid_0's binary_logloss: 0.504778\n",
      "[81]\tvalid_0's auc: 0.83244\tvalid_0's binary_logloss: 0.50467\n",
      "[82]\tvalid_0's auc: 0.832474\tvalid_0's binary_logloss: 0.504593\n",
      "[83]\tvalid_0's auc: 0.832509\tvalid_0's binary_logloss: 0.504523\n",
      "[84]\tvalid_0's auc: 0.832559\tvalid_0's binary_logloss: 0.504434\n",
      "[85]\tvalid_0's auc: 0.832588\tvalid_0's binary_logloss: 0.504381\n",
      "[86]\tvalid_0's auc: 0.832628\tvalid_0's binary_logloss: 0.504316\n",
      "[87]\tvalid_0's auc: 0.832668\tvalid_0's binary_logloss: 0.50425\n",
      "[88]\tvalid_0's auc: 0.832716\tvalid_0's binary_logloss: 0.50417\n",
      "[89]\tvalid_0's auc: 0.832748\tvalid_0's binary_logloss: 0.504104\n",
      "[90]\tvalid_0's auc: 0.832799\tvalid_0's binary_logloss: 0.504021\n",
      "[91]\tvalid_0's auc: 0.832841\tvalid_0's binary_logloss: 0.503948\n",
      "[92]\tvalid_0's auc: 0.832874\tvalid_0's binary_logloss: 0.50389\n",
      "[93]\tvalid_0's auc: 0.832902\tvalid_0's binary_logloss: 0.503846\n",
      "[94]\tvalid_0's auc: 0.832921\tvalid_0's binary_logloss: 0.503813\n",
      "[95]\tvalid_0's auc: 0.832953\tvalid_0's binary_logloss: 0.50376\n",
      "[96]\tvalid_0's auc: 0.83298\tvalid_0's binary_logloss: 0.503714\n",
      "[97]\tvalid_0's auc: 0.833014\tvalid_0's binary_logloss: 0.503658\n",
      "[98]\tvalid_0's auc: 0.833041\tvalid_0's binary_logloss: 0.503615\n",
      "[99]\tvalid_0's auc: 0.833066\tvalid_0's binary_logloss: 0.503572\n",
      "[100]\tvalid_0's auc: 0.833104\tvalid_0's binary_logloss: 0.503514\n",
      "[101]\tvalid_0's auc: 0.833149\tvalid_0's binary_logloss: 0.503453\n",
      "[102]\tvalid_0's auc: 0.833177\tvalid_0's binary_logloss: 0.503408\n",
      "[103]\tvalid_0's auc: 0.83324\tvalid_0's binary_logloss: 0.503324\n",
      "[104]\tvalid_0's auc: 0.833279\tvalid_0's binary_logloss: 0.503262\n",
      "[105]\tvalid_0's auc: 0.833323\tvalid_0's binary_logloss: 0.503201\n",
      "[106]\tvalid_0's auc: 0.833338\tvalid_0's binary_logloss: 0.503177\n",
      "[107]\tvalid_0's auc: 0.833366\tvalid_0's binary_logloss: 0.503132\n",
      "[108]\tvalid_0's auc: 0.83339\tvalid_0's binary_logloss: 0.503093\n",
      "[109]\tvalid_0's auc: 0.833406\tvalid_0's binary_logloss: 0.503065\n",
      "[110]\tvalid_0's auc: 0.833444\tvalid_0's binary_logloss: 0.503007\n",
      "[111]\tvalid_0's auc: 0.833481\tvalid_0's binary_logloss: 0.502957\n",
      "[112]\tvalid_0's auc: 0.833518\tvalid_0's binary_logloss: 0.502903\n",
      "[113]\tvalid_0's auc: 0.833539\tvalid_0's binary_logloss: 0.502867\n",
      "[114]\tvalid_0's auc: 0.833567\tvalid_0's binary_logloss: 0.502827\n",
      "[115]\tvalid_0's auc: 0.83359\tvalid_0's binary_logloss: 0.502795\n",
      "[116]\tvalid_0's auc: 0.833617\tvalid_0's binary_logloss: 0.502758\n",
      "[117]\tvalid_0's auc: 0.833666\tvalid_0's binary_logloss: 0.502692\n",
      "[118]\tvalid_0's auc: 0.833712\tvalid_0's binary_logloss: 0.502627\n",
      "[119]\tvalid_0's auc: 0.833723\tvalid_0's binary_logloss: 0.502609\n",
      "[120]\tvalid_0's auc: 0.833744\tvalid_0's binary_logloss: 0.502576\n",
      "[121]\tvalid_0's auc: 0.833773\tvalid_0's binary_logloss: 0.502538\n",
      "[122]\tvalid_0's auc: 0.833803\tvalid_0's binary_logloss: 0.502498\n",
      "[123]\tvalid_0's auc: 0.833816\tvalid_0's binary_logloss: 0.502479\n",
      "[124]\tvalid_0's auc: 0.833845\tvalid_0's binary_logloss: 0.50244\n",
      "[125]\tvalid_0's auc: 0.833874\tvalid_0's binary_logloss: 0.502399\n",
      "[126]\tvalid_0's auc: 0.833894\tvalid_0's binary_logloss: 0.502367\n",
      "[127]\tvalid_0's auc: 0.833913\tvalid_0's binary_logloss: 0.50234\n",
      "[128]\tvalid_0's auc: 0.833926\tvalid_0's binary_logloss: 0.502323\n"
     ]
    },
    {
     "name": "stdout",
     "output_type": "stream",
     "text": [
      "[129]\tvalid_0's auc: 0.833928\tvalid_0's binary_logloss: 0.502318\n",
      "[130]\tvalid_0's auc: 0.833943\tvalid_0's binary_logloss: 0.502294\n",
      "[131]\tvalid_0's auc: 0.833955\tvalid_0's binary_logloss: 0.50227\n",
      "[132]\tvalid_0's auc: 0.833992\tvalid_0's binary_logloss: 0.502217\n",
      "[133]\tvalid_0's auc: 0.834001\tvalid_0's binary_logloss: 0.502199\n",
      "[134]\tvalid_0's auc: 0.834031\tvalid_0's binary_logloss: 0.502156\n",
      "[135]\tvalid_0's auc: 0.834063\tvalid_0's binary_logloss: 0.50211\n",
      "[136]\tvalid_0's auc: 0.834085\tvalid_0's binary_logloss: 0.502081\n",
      "[137]\tvalid_0's auc: 0.834097\tvalid_0's binary_logloss: 0.502062\n",
      "[138]\tvalid_0's auc: 0.834116\tvalid_0's binary_logloss: 0.502032\n",
      "[139]\tvalid_0's auc: 0.834127\tvalid_0's binary_logloss: 0.502017\n",
      "[140]\tvalid_0's auc: 0.83414\tvalid_0's binary_logloss: 0.501999\n",
      "[141]\tvalid_0's auc: 0.834143\tvalid_0's binary_logloss: 0.501996\n",
      "[142]\tvalid_0's auc: 0.834153\tvalid_0's binary_logloss: 0.501982\n",
      "[143]\tvalid_0's auc: 0.834158\tvalid_0's binary_logloss: 0.501977\n",
      "[144]\tvalid_0's auc: 0.834175\tvalid_0's binary_logloss: 0.501952\n",
      "[145]\tvalid_0's auc: 0.834192\tvalid_0's binary_logloss: 0.501931\n",
      "[146]\tvalid_0's auc: 0.834197\tvalid_0's binary_logloss: 0.501925\n",
      "[147]\tvalid_0's auc: 0.834213\tvalid_0's binary_logloss: 0.501903\n",
      "[148]\tvalid_0's auc: 0.834228\tvalid_0's binary_logloss: 0.501883\n",
      "[149]\tvalid_0's auc: 0.834245\tvalid_0's binary_logloss: 0.501861\n",
      "[150]\tvalid_0's auc: 0.834263\tvalid_0's binary_logloss: 0.501838\n",
      "[151]\tvalid_0's auc: 0.834278\tvalid_0's binary_logloss: 0.501818\n",
      "[152]\tvalid_0's auc: 0.834295\tvalid_0's binary_logloss: 0.501796\n",
      "[153]\tvalid_0's auc: 0.834316\tvalid_0's binary_logloss: 0.501768\n",
      "[154]\tvalid_0's auc: 0.834319\tvalid_0's binary_logloss: 0.501766\n",
      "[155]\tvalid_0's auc: 0.834334\tvalid_0's binary_logloss: 0.501747\n",
      "[156]\tvalid_0's auc: 0.834355\tvalid_0's binary_logloss: 0.501717\n",
      "[157]\tvalid_0's auc: 0.834387\tvalid_0's binary_logloss: 0.501675\n",
      "[158]\tvalid_0's auc: 0.834406\tvalid_0's binary_logloss: 0.501647\n",
      "[159]\tvalid_0's auc: 0.83441\tvalid_0's binary_logloss: 0.501643\n",
      "[160]\tvalid_0's auc: 0.834429\tvalid_0's binary_logloss: 0.501617\n",
      "[161]\tvalid_0's auc: 0.834437\tvalid_0's binary_logloss: 0.501607\n",
      "[162]\tvalid_0's auc: 0.834442\tvalid_0's binary_logloss: 0.501599\n",
      "[163]\tvalid_0's auc: 0.834443\tvalid_0's binary_logloss: 0.501597\n",
      "[164]\tvalid_0's auc: 0.83445\tvalid_0's binary_logloss: 0.501589\n",
      "[165]\tvalid_0's auc: 0.83445\tvalid_0's binary_logloss: 0.50159\n",
      "[166]\tvalid_0's auc: 0.83446\tvalid_0's binary_logloss: 0.501576\n",
      "[167]\tvalid_0's auc: 0.834472\tvalid_0's binary_logloss: 0.501556\n",
      "[168]\tvalid_0's auc: 0.834474\tvalid_0's binary_logloss: 0.501554\n",
      "[169]\tvalid_0's auc: 0.834483\tvalid_0's binary_logloss: 0.501542\n",
      "[170]\tvalid_0's auc: 0.83449\tvalid_0's binary_logloss: 0.501531\n",
      "[171]\tvalid_0's auc: 0.834501\tvalid_0's binary_logloss: 0.501515\n",
      "[172]\tvalid_0's auc: 0.834515\tvalid_0's binary_logloss: 0.501497\n",
      "[173]\tvalid_0's auc: 0.83452\tvalid_0's binary_logloss: 0.50149\n",
      "[174]\tvalid_0's auc: 0.834529\tvalid_0's binary_logloss: 0.501478\n",
      "[175]\tvalid_0's auc: 0.834533\tvalid_0's binary_logloss: 0.501471\n",
      "[176]\tvalid_0's auc: 0.834534\tvalid_0's binary_logloss: 0.501471\n",
      "[177]\tvalid_0's auc: 0.834548\tvalid_0's binary_logloss: 0.501452\n",
      "[178]\tvalid_0's auc: 0.834551\tvalid_0's binary_logloss: 0.501446\n",
      "[179]\tvalid_0's auc: 0.834572\tvalid_0's binary_logloss: 0.501418\n",
      "[180]\tvalid_0's auc: 0.834574\tvalid_0's binary_logloss: 0.501415\n",
      "[181]\tvalid_0's auc: 0.834593\tvalid_0's binary_logloss: 0.501391\n",
      "[182]\tvalid_0's auc: 0.834592\tvalid_0's binary_logloss: 0.501392\n",
      "[183]\tvalid_0's auc: 0.834599\tvalid_0's binary_logloss: 0.501384\n",
      "[184]\tvalid_0's auc: 0.834615\tvalid_0's binary_logloss: 0.501364\n",
      "[185]\tvalid_0's auc: 0.834624\tvalid_0's binary_logloss: 0.501352\n",
      "[186]\tvalid_0's auc: 0.834622\tvalid_0's binary_logloss: 0.501355\n",
      "[187]\tvalid_0's auc: 0.834621\tvalid_0's binary_logloss: 0.501356\n",
      "[188]\tvalid_0's auc: 0.834626\tvalid_0's binary_logloss: 0.501349\n",
      "[189]\tvalid_0's auc: 0.834635\tvalid_0's binary_logloss: 0.501337\n",
      "[190]\tvalid_0's auc: 0.834657\tvalid_0's binary_logloss: 0.501311\n",
      "[191]\tvalid_0's auc: 0.834667\tvalid_0's binary_logloss: 0.5013\n",
      "[192]\tvalid_0's auc: 0.834677\tvalid_0's binary_logloss: 0.501286\n",
      "[193]\tvalid_0's auc: 0.83468\tvalid_0's binary_logloss: 0.501282\n",
      "[194]\tvalid_0's auc: 0.834698\tvalid_0's binary_logloss: 0.501262\n",
      "[195]\tvalid_0's auc: 0.834705\tvalid_0's binary_logloss: 0.501251\n",
      "[196]\tvalid_0's auc: 0.834707\tvalid_0's binary_logloss: 0.501248\n",
      "[197]\tvalid_0's auc: 0.834713\tvalid_0's binary_logloss: 0.501238\n",
      "[198]\tvalid_0's auc: 0.834729\tvalid_0's binary_logloss: 0.501218\n",
      "[199]\tvalid_0's auc: 0.834743\tvalid_0's binary_logloss: 0.501202\n",
      "[200]\tvalid_0's auc: 0.834768\tvalid_0's binary_logloss: 0.501168\n",
      "[201]\tvalid_0's auc: 0.83477\tvalid_0's binary_logloss: 0.501164\n",
      "[202]\tvalid_0's auc: 0.834784\tvalid_0's binary_logloss: 0.501145\n",
      "[203]\tvalid_0's auc: 0.834789\tvalid_0's binary_logloss: 0.501137\n",
      "[204]\tvalid_0's auc: 0.834785\tvalid_0's binary_logloss: 0.501144\n",
      "[205]\tvalid_0's auc: 0.834792\tvalid_0's binary_logloss: 0.501133\n",
      "[206]\tvalid_0's auc: 0.834794\tvalid_0's binary_logloss: 0.50113\n",
      "[207]\tvalid_0's auc: 0.834789\tvalid_0's binary_logloss: 0.501137\n",
      "[208]\tvalid_0's auc: 0.834793\tvalid_0's binary_logloss: 0.501129\n",
      "[209]\tvalid_0's auc: 0.834796\tvalid_0's binary_logloss: 0.501126\n",
      "[210]\tvalid_0's auc: 0.834809\tvalid_0's binary_logloss: 0.50111\n",
      "[211]\tvalid_0's auc: 0.834806\tvalid_0's binary_logloss: 0.501118\n",
      "[212]\tvalid_0's auc: 0.8348\tvalid_0's binary_logloss: 0.501126\n",
      "[213]\tvalid_0's auc: 0.834809\tvalid_0's binary_logloss: 0.501113\n",
      "[214]\tvalid_0's auc: 0.834817\tvalid_0's binary_logloss: 0.501102\n",
      "[215]\tvalid_0's auc: 0.834817\tvalid_0's binary_logloss: 0.501103\n",
      "[216]\tvalid_0's auc: 0.834818\tvalid_0's binary_logloss: 0.501102\n",
      "[217]\tvalid_0's auc: 0.834827\tvalid_0's binary_logloss: 0.501089\n",
      "[218]\tvalid_0's auc: 0.834836\tvalid_0's binary_logloss: 0.501079\n",
      "[219]\tvalid_0's auc: 0.834852\tvalid_0's binary_logloss: 0.501059\n",
      "[220]\tvalid_0's auc: 0.834859\tvalid_0's binary_logloss: 0.501049\n",
      "[221]\tvalid_0's auc: 0.834881\tvalid_0's binary_logloss: 0.501021\n",
      "[222]\tvalid_0's auc: 0.834882\tvalid_0's binary_logloss: 0.501019\n",
      "[223]\tvalid_0's auc: 0.834889\tvalid_0's binary_logloss: 0.501011\n",
      "[224]\tvalid_0's auc: 0.834896\tvalid_0's binary_logloss: 0.501003\n",
      "[225]\tvalid_0's auc: 0.834906\tvalid_0's binary_logloss: 0.50099\n",
      "[226]\tvalid_0's auc: 0.834911\tvalid_0's binary_logloss: 0.500984\n",
      "[227]\tvalid_0's auc: 0.834908\tvalid_0's binary_logloss: 0.500987\n",
      "[228]\tvalid_0's auc: 0.834913\tvalid_0's binary_logloss: 0.500982\n",
      "[229]\tvalid_0's auc: 0.834907\tvalid_0's binary_logloss: 0.50099\n",
      "[230]\tvalid_0's auc: 0.834922\tvalid_0's binary_logloss: 0.50097\n",
      "[231]\tvalid_0's auc: 0.834929\tvalid_0's binary_logloss: 0.500962\n",
      "[232]\tvalid_0's auc: 0.834938\tvalid_0's binary_logloss: 0.50095\n",
      "[233]\tvalid_0's auc: 0.834943\tvalid_0's binary_logloss: 0.500946\n",
      "[234]\tvalid_0's auc: 0.834955\tvalid_0's binary_logloss: 0.50093\n",
      "[235]\tvalid_0's auc: 0.834962\tvalid_0's binary_logloss: 0.50092\n",
      "[236]\tvalid_0's auc: 0.834975\tvalid_0's binary_logloss: 0.500903\n",
      "[237]\tvalid_0's auc: 0.834976\tvalid_0's binary_logloss: 0.500902\n",
      "[238]\tvalid_0's auc: 0.834986\tvalid_0's binary_logloss: 0.500889\n",
      "[239]\tvalid_0's auc: 0.834989\tvalid_0's binary_logloss: 0.500885\n",
      "[240]\tvalid_0's auc: 0.835\tvalid_0's binary_logloss: 0.500869\n",
      "[241]\tvalid_0's auc: 0.835002\tvalid_0's binary_logloss: 0.500864\n",
      "[242]\tvalid_0's auc: 0.835008\tvalid_0's binary_logloss: 0.500858\n",
      "[243]\tvalid_0's auc: 0.835016\tvalid_0's binary_logloss: 0.500848\n",
      "[244]\tvalid_0's auc: 0.835026\tvalid_0's binary_logloss: 0.500835\n",
      "[245]\tvalid_0's auc: 0.835032\tvalid_0's binary_logloss: 0.500828\n",
      "[246]\tvalid_0's auc: 0.835036\tvalid_0's binary_logloss: 0.500822\n",
      "[247]\tvalid_0's auc: 0.835035\tvalid_0's binary_logloss: 0.500822\n",
      "[248]\tvalid_0's auc: 0.835041\tvalid_0's binary_logloss: 0.500814\n",
      "[249]\tvalid_0's auc: 0.835039\tvalid_0's binary_logloss: 0.500818\n",
      "[250]\tvalid_0's auc: 0.835037\tvalid_0's binary_logloss: 0.500819\n",
      "[251]\tvalid_0's auc: 0.835033\tvalid_0's binary_logloss: 0.500825\n",
      "[252]\tvalid_0's auc: 0.83504\tvalid_0's binary_logloss: 0.500816\n",
      "[253]\tvalid_0's auc: 0.835048\tvalid_0's binary_logloss: 0.500806\n",
      "[254]\tvalid_0's auc: 0.835049\tvalid_0's binary_logloss: 0.500803\n",
      "[255]\tvalid_0's auc: 0.835061\tvalid_0's binary_logloss: 0.500787\n",
      "[256]\tvalid_0's auc: 0.835062\tvalid_0's binary_logloss: 0.500786\n"
     ]
    },
    {
     "name": "stdout",
     "output_type": "stream",
     "text": [
      "[257]\tvalid_0's auc: 0.835063\tvalid_0's binary_logloss: 0.500783\n",
      "[258]\tvalid_0's auc: 0.835066\tvalid_0's binary_logloss: 0.500781\n",
      "[259]\tvalid_0's auc: 0.83507\tvalid_0's binary_logloss: 0.500777\n",
      "[260]\tvalid_0's auc: 0.835067\tvalid_0's binary_logloss: 0.500783\n",
      "[261]\tvalid_0's auc: 0.835068\tvalid_0's binary_logloss: 0.500782\n",
      "[262]\tvalid_0's auc: 0.835077\tvalid_0's binary_logloss: 0.500771\n",
      "[263]\tvalid_0's auc: 0.835088\tvalid_0's binary_logloss: 0.500757\n",
      "[264]\tvalid_0's auc: 0.835107\tvalid_0's binary_logloss: 0.500731\n",
      "[265]\tvalid_0's auc: 0.835113\tvalid_0's binary_logloss: 0.500723\n",
      "[266]\tvalid_0's auc: 0.835114\tvalid_0's binary_logloss: 0.500721\n",
      "[267]\tvalid_0's auc: 0.835114\tvalid_0's binary_logloss: 0.50072\n",
      "[268]\tvalid_0's auc: 0.835113\tvalid_0's binary_logloss: 0.500722\n",
      "[269]\tvalid_0's auc: 0.835126\tvalid_0's binary_logloss: 0.500705\n",
      "[270]\tvalid_0's auc: 0.835134\tvalid_0's binary_logloss: 0.500695\n",
      "[271]\tvalid_0's auc: 0.835141\tvalid_0's binary_logloss: 0.500685\n",
      "[272]\tvalid_0's auc: 0.835154\tvalid_0's binary_logloss: 0.50067\n",
      "[273]\tvalid_0's auc: 0.835165\tvalid_0's binary_logloss: 0.500654\n",
      "[274]\tvalid_0's auc: 0.835163\tvalid_0's binary_logloss: 0.500657\n",
      "[275]\tvalid_0's auc: 0.835166\tvalid_0's binary_logloss: 0.500652\n",
      "[276]\tvalid_0's auc: 0.835162\tvalid_0's binary_logloss: 0.500658\n",
      "[277]\tvalid_0's auc: 0.835166\tvalid_0's binary_logloss: 0.500651\n",
      "[278]\tvalid_0's auc: 0.835166\tvalid_0's binary_logloss: 0.500651\n",
      "[279]\tvalid_0's auc: 0.835164\tvalid_0's binary_logloss: 0.500653\n",
      "[280]\tvalid_0's auc: 0.835162\tvalid_0's binary_logloss: 0.500659\n",
      "[281]\tvalid_0's auc: 0.83516\tvalid_0's binary_logloss: 0.500661\n",
      "[282]\tvalid_0's auc: 0.835167\tvalid_0's binary_logloss: 0.500652\n",
      "[283]\tvalid_0's auc: 0.835174\tvalid_0's binary_logloss: 0.500645\n",
      "[284]\tvalid_0's auc: 0.835174\tvalid_0's binary_logloss: 0.500645\n",
      "[285]\tvalid_0's auc: 0.835181\tvalid_0's binary_logloss: 0.500638\n",
      "[286]\tvalid_0's auc: 0.835186\tvalid_0's binary_logloss: 0.500632\n",
      "[287]\tvalid_0's auc: 0.835187\tvalid_0's binary_logloss: 0.500631\n",
      "[288]\tvalid_0's auc: 0.83519\tvalid_0's binary_logloss: 0.500629\n",
      "[289]\tvalid_0's auc: 0.835187\tvalid_0's binary_logloss: 0.500633\n",
      "[290]\tvalid_0's auc: 0.835182\tvalid_0's binary_logloss: 0.500639\n",
      "[291]\tvalid_0's auc: 0.835182\tvalid_0's binary_logloss: 0.500641\n",
      "[292]\tvalid_0's auc: 0.835181\tvalid_0's binary_logloss: 0.500643\n",
      "[293]\tvalid_0's auc: 0.835183\tvalid_0's binary_logloss: 0.500644\n",
      "[294]\tvalid_0's auc: 0.835184\tvalid_0's binary_logloss: 0.500642\n",
      "[295]\tvalid_0's auc: 0.835184\tvalid_0's binary_logloss: 0.500643\n",
      "[296]\tvalid_0's auc: 0.835192\tvalid_0's binary_logloss: 0.50063\n",
      "[297]\tvalid_0's auc: 0.83519\tvalid_0's binary_logloss: 0.500633\n",
      "[298]\tvalid_0's auc: 0.83519\tvalid_0's binary_logloss: 0.500632\n",
      "[299]\tvalid_0's auc: 0.835202\tvalid_0's binary_logloss: 0.500619\n",
      "[300]\tvalid_0's auc: 0.835199\tvalid_0's binary_logloss: 0.500623\n",
      "[301]\tvalid_0's auc: 0.83521\tvalid_0's binary_logloss: 0.500609\n",
      "[302]\tvalid_0's auc: 0.835214\tvalid_0's binary_logloss: 0.500603\n",
      "[303]\tvalid_0's auc: 0.835217\tvalid_0's binary_logloss: 0.500599\n",
      "[304]\tvalid_0's auc: 0.835218\tvalid_0's binary_logloss: 0.500597\n",
      "[305]\tvalid_0's auc: 0.835219\tvalid_0's binary_logloss: 0.500597\n",
      "[306]\tvalid_0's auc: 0.835228\tvalid_0's binary_logloss: 0.500585\n",
      "[307]\tvalid_0's auc: 0.835234\tvalid_0's binary_logloss: 0.50058\n",
      "[308]\tvalid_0's auc: 0.835243\tvalid_0's binary_logloss: 0.500567\n",
      "[309]\tvalid_0's auc: 0.835244\tvalid_0's binary_logloss: 0.500567\n",
      "[310]\tvalid_0's auc: 0.835251\tvalid_0's binary_logloss: 0.500558\n",
      "[311]\tvalid_0's auc: 0.835251\tvalid_0's binary_logloss: 0.500561\n",
      "[312]\tvalid_0's auc: 0.835264\tvalid_0's binary_logloss: 0.500543\n",
      "[313]\tvalid_0's auc: 0.835267\tvalid_0's binary_logloss: 0.500542\n",
      "[314]\tvalid_0's auc: 0.835265\tvalid_0's binary_logloss: 0.500546\n",
      "[315]\tvalid_0's auc: 0.835278\tvalid_0's binary_logloss: 0.500532\n",
      "[316]\tvalid_0's auc: 0.835278\tvalid_0's binary_logloss: 0.500532\n",
      "[317]\tvalid_0's auc: 0.835288\tvalid_0's binary_logloss: 0.500518\n",
      "[318]\tvalid_0's auc: 0.835295\tvalid_0's binary_logloss: 0.50051\n",
      "[319]\tvalid_0's auc: 0.835295\tvalid_0's binary_logloss: 0.500508\n",
      "[320]\tvalid_0's auc: 0.835288\tvalid_0's binary_logloss: 0.500517\n",
      "[321]\tvalid_0's auc: 0.835288\tvalid_0's binary_logloss: 0.500518\n",
      "[322]\tvalid_0's auc: 0.835281\tvalid_0's binary_logloss: 0.500526\n",
      "[323]\tvalid_0's auc: 0.835289\tvalid_0's binary_logloss: 0.500515\n",
      "[324]\tvalid_0's auc: 0.835293\tvalid_0's binary_logloss: 0.500511\n",
      "[325]\tvalid_0's auc: 0.83529\tvalid_0's binary_logloss: 0.500514\n",
      "[326]\tvalid_0's auc: 0.835301\tvalid_0's binary_logloss: 0.5005\n",
      "[327]\tvalid_0's auc: 0.835304\tvalid_0's binary_logloss: 0.500497\n",
      "[328]\tvalid_0's auc: 0.83531\tvalid_0's binary_logloss: 0.500489\n",
      "[329]\tvalid_0's auc: 0.835314\tvalid_0's binary_logloss: 0.500485\n",
      "[330]\tvalid_0's auc: 0.835315\tvalid_0's binary_logloss: 0.500484\n",
      "[331]\tvalid_0's auc: 0.835329\tvalid_0's binary_logloss: 0.500465\n",
      "[332]\tvalid_0's auc: 0.835325\tvalid_0's binary_logloss: 0.500469\n",
      "[333]\tvalid_0's auc: 0.835332\tvalid_0's binary_logloss: 0.500458\n",
      "[334]\tvalid_0's auc: 0.835342\tvalid_0's binary_logloss: 0.500447\n",
      "[335]\tvalid_0's auc: 0.835342\tvalid_0's binary_logloss: 0.500446\n",
      "[336]\tvalid_0's auc: 0.835348\tvalid_0's binary_logloss: 0.50044\n",
      "[337]\tvalid_0's auc: 0.835357\tvalid_0's binary_logloss: 0.500427\n",
      "[338]\tvalid_0's auc: 0.835368\tvalid_0's binary_logloss: 0.500411\n",
      "[339]\tvalid_0's auc: 0.835365\tvalid_0's binary_logloss: 0.500415\n",
      "[340]\tvalid_0's auc: 0.835374\tvalid_0's binary_logloss: 0.5004\n",
      "[341]\tvalid_0's auc: 0.835379\tvalid_0's binary_logloss: 0.500394\n",
      "[342]\tvalid_0's auc: 0.835383\tvalid_0's binary_logloss: 0.500391\n",
      "[343]\tvalid_0's auc: 0.83538\tvalid_0's binary_logloss: 0.500394\n",
      "[344]\tvalid_0's auc: 0.835383\tvalid_0's binary_logloss: 0.500391\n",
      "[345]\tvalid_0's auc: 0.835387\tvalid_0's binary_logloss: 0.500386\n",
      "[346]\tvalid_0's auc: 0.835383\tvalid_0's binary_logloss: 0.50039\n",
      "[347]\tvalid_0's auc: 0.835389\tvalid_0's binary_logloss: 0.500382\n",
      "[348]\tvalid_0's auc: 0.835392\tvalid_0's binary_logloss: 0.50038\n",
      "[349]\tvalid_0's auc: 0.835394\tvalid_0's binary_logloss: 0.500378\n",
      "[350]\tvalid_0's auc: 0.835403\tvalid_0's binary_logloss: 0.500369\n",
      "[351]\tvalid_0's auc: 0.835413\tvalid_0's binary_logloss: 0.500354\n",
      "[352]\tvalid_0's auc: 0.835422\tvalid_0's binary_logloss: 0.500342\n",
      "[353]\tvalid_0's auc: 0.835424\tvalid_0's binary_logloss: 0.50034\n",
      "[354]\tvalid_0's auc: 0.835422\tvalid_0's binary_logloss: 0.500345\n",
      "[355]\tvalid_0's auc: 0.835424\tvalid_0's binary_logloss: 0.500342\n",
      "[356]\tvalid_0's auc: 0.835427\tvalid_0's binary_logloss: 0.500338\n",
      "[357]\tvalid_0's auc: 0.835425\tvalid_0's binary_logloss: 0.500342\n",
      "[358]\tvalid_0's auc: 0.835424\tvalid_0's binary_logloss: 0.500344\n",
      "[359]\tvalid_0's auc: 0.835425\tvalid_0's binary_logloss: 0.500343\n",
      "[360]\tvalid_0's auc: 0.835425\tvalid_0's binary_logloss: 0.500343\n",
      "[361]\tvalid_0's auc: 0.835423\tvalid_0's binary_logloss: 0.500347\n",
      "[362]\tvalid_0's auc: 0.835423\tvalid_0's binary_logloss: 0.500345\n",
      "[363]\tvalid_0's auc: 0.835423\tvalid_0's binary_logloss: 0.500346\n",
      "[364]\tvalid_0's auc: 0.835427\tvalid_0's binary_logloss: 0.500341\n",
      "[365]\tvalid_0's auc: 0.835445\tvalid_0's binary_logloss: 0.500315\n",
      "[366]\tvalid_0's auc: 0.835449\tvalid_0's binary_logloss: 0.500313\n",
      "[367]\tvalid_0's auc: 0.835453\tvalid_0's binary_logloss: 0.50031\n",
      "[368]\tvalid_0's auc: 0.83545\tvalid_0's binary_logloss: 0.500312\n",
      "[369]\tvalid_0's auc: 0.835444\tvalid_0's binary_logloss: 0.50032\n",
      "[370]\tvalid_0's auc: 0.835445\tvalid_0's binary_logloss: 0.500318\n",
      "[371]\tvalid_0's auc: 0.83544\tvalid_0's binary_logloss: 0.500325\n",
      "[372]\tvalid_0's auc: 0.83544\tvalid_0's binary_logloss: 0.500326\n",
      "[373]\tvalid_0's auc: 0.835443\tvalid_0's binary_logloss: 0.500322\n",
      "[374]\tvalid_0's auc: 0.835442\tvalid_0's binary_logloss: 0.500331\n",
      "[375]\tvalid_0's auc: 0.835444\tvalid_0's binary_logloss: 0.500326\n",
      "[376]\tvalid_0's auc: 0.835458\tvalid_0's binary_logloss: 0.500308\n",
      "[377]\tvalid_0's auc: 0.835466\tvalid_0's binary_logloss: 0.500297\n",
      "[378]\tvalid_0's auc: 0.835468\tvalid_0's binary_logloss: 0.500296\n",
      "[379]\tvalid_0's auc: 0.835474\tvalid_0's binary_logloss: 0.500288\n",
      "[380]\tvalid_0's auc: 0.835479\tvalid_0's binary_logloss: 0.500282\n",
      "[381]\tvalid_0's auc: 0.83548\tvalid_0's binary_logloss: 0.500281\n",
      "[382]\tvalid_0's auc: 0.835483\tvalid_0's binary_logloss: 0.500279\n",
      "[383]\tvalid_0's auc: 0.835483\tvalid_0's binary_logloss: 0.500278\n",
      "[384]\tvalid_0's auc: 0.835479\tvalid_0's binary_logloss: 0.500285\n"
     ]
    },
    {
     "name": "stdout",
     "output_type": "stream",
     "text": [
      "[385]\tvalid_0's auc: 0.835475\tvalid_0's binary_logloss: 0.500291\n",
      "[386]\tvalid_0's auc: 0.835479\tvalid_0's binary_logloss: 0.500283\n",
      "[387]\tvalid_0's auc: 0.835478\tvalid_0's binary_logloss: 0.500285\n",
      "[388]\tvalid_0's auc: 0.835476\tvalid_0's binary_logloss: 0.500288\n",
      "[389]\tvalid_0's auc: 0.835482\tvalid_0's binary_logloss: 0.50028\n",
      "[390]\tvalid_0's auc: 0.835479\tvalid_0's binary_logloss: 0.500282\n",
      "[391]\tvalid_0's auc: 0.835481\tvalid_0's binary_logloss: 0.50028\n",
      "[392]\tvalid_0's auc: 0.835484\tvalid_0's binary_logloss: 0.500277\n",
      "[393]\tvalid_0's auc: 0.835478\tvalid_0's binary_logloss: 0.500285\n",
      "[394]\tvalid_0's auc: 0.835481\tvalid_0's binary_logloss: 0.500282\n",
      "[395]\tvalid_0's auc: 0.835476\tvalid_0's binary_logloss: 0.500287\n",
      "[396]\tvalid_0's auc: 0.835483\tvalid_0's binary_logloss: 0.500281\n",
      "[397]\tvalid_0's auc: 0.835485\tvalid_0's binary_logloss: 0.500279\n",
      "[398]\tvalid_0's auc: 0.835479\tvalid_0's binary_logloss: 0.500287\n",
      "[399]\tvalid_0's auc: 0.835481\tvalid_0's binary_logloss: 0.500285\n",
      "[400]\tvalid_0's auc: 0.835489\tvalid_0's binary_logloss: 0.500275\n",
      "[401]\tvalid_0's auc: 0.835486\tvalid_0's binary_logloss: 0.500278\n",
      "[402]\tvalid_0's auc: 0.835487\tvalid_0's binary_logloss: 0.500279\n",
      "[403]\tvalid_0's auc: 0.835495\tvalid_0's binary_logloss: 0.50027\n",
      "[404]\tvalid_0's auc: 0.835502\tvalid_0's binary_logloss: 0.500259\n",
      "[405]\tvalid_0's auc: 0.8355\tvalid_0's binary_logloss: 0.500263\n",
      "[406]\tvalid_0's auc: 0.835513\tvalid_0's binary_logloss: 0.500246\n",
      "[407]\tvalid_0's auc: 0.835514\tvalid_0's binary_logloss: 0.500243\n",
      "[408]\tvalid_0's auc: 0.835511\tvalid_0's binary_logloss: 0.500246\n",
      "[409]\tvalid_0's auc: 0.835519\tvalid_0's binary_logloss: 0.500238\n",
      "[410]\tvalid_0's auc: 0.835524\tvalid_0's binary_logloss: 0.500233\n",
      "[411]\tvalid_0's auc: 0.835523\tvalid_0's binary_logloss: 0.500236\n",
      "[412]\tvalid_0's auc: 0.835516\tvalid_0's binary_logloss: 0.500245\n",
      "[413]\tvalid_0's auc: 0.835516\tvalid_0's binary_logloss: 0.500249\n",
      "[414]\tvalid_0's auc: 0.835516\tvalid_0's binary_logloss: 0.500246\n",
      "[415]\tvalid_0's auc: 0.835516\tvalid_0's binary_logloss: 0.500248\n",
      "[416]\tvalid_0's auc: 0.83551\tvalid_0's binary_logloss: 0.500258\n",
      "[417]\tvalid_0's auc: 0.835506\tvalid_0's binary_logloss: 0.500264\n",
      "[418]\tvalid_0's auc: 0.835516\tvalid_0's binary_logloss: 0.50025\n",
      "[419]\tvalid_0's auc: 0.835526\tvalid_0's binary_logloss: 0.500236\n",
      "[420]\tvalid_0's auc: 0.83553\tvalid_0's binary_logloss: 0.500232\n",
      "[421]\tvalid_0's auc: 0.835529\tvalid_0's binary_logloss: 0.500233\n",
      "[422]\tvalid_0's auc: 0.835528\tvalid_0's binary_logloss: 0.500238\n",
      "[423]\tvalid_0's auc: 0.835522\tvalid_0's binary_logloss: 0.500246\n",
      "[424]\tvalid_0's auc: 0.83552\tvalid_0's binary_logloss: 0.50025\n",
      "[425]\tvalid_0's auc: 0.83552\tvalid_0's binary_logloss: 0.500251\n",
      "[426]\tvalid_0's auc: 0.835531\tvalid_0's binary_logloss: 0.500235\n",
      "[427]\tvalid_0's auc: 0.835539\tvalid_0's binary_logloss: 0.500224\n",
      "[428]\tvalid_0's auc: 0.835543\tvalid_0's binary_logloss: 0.500218\n",
      "[429]\tvalid_0's auc: 0.835544\tvalid_0's binary_logloss: 0.500217\n",
      "[430]\tvalid_0's auc: 0.835545\tvalid_0's binary_logloss: 0.500215\n",
      "[431]\tvalid_0's auc: 0.835541\tvalid_0's binary_logloss: 0.500222\n",
      "[432]\tvalid_0's auc: 0.835542\tvalid_0's binary_logloss: 0.500223\n",
      "[433]\tvalid_0's auc: 0.835551\tvalid_0's binary_logloss: 0.500211\n",
      "[434]\tvalid_0's auc: 0.835549\tvalid_0's binary_logloss: 0.500213\n",
      "[435]\tvalid_0's auc: 0.835559\tvalid_0's binary_logloss: 0.500198\n",
      "[436]\tvalid_0's auc: 0.835557\tvalid_0's binary_logloss: 0.500202\n",
      "[437]\tvalid_0's auc: 0.835558\tvalid_0's binary_logloss: 0.5002\n",
      "[438]\tvalid_0's auc: 0.835557\tvalid_0's binary_logloss: 0.500201\n",
      "[439]\tvalid_0's auc: 0.835562\tvalid_0's binary_logloss: 0.500196\n",
      "[440]\tvalid_0's auc: 0.835562\tvalid_0's binary_logloss: 0.500196\n",
      "[441]\tvalid_0's auc: 0.835555\tvalid_0's binary_logloss: 0.500206\n",
      "[442]\tvalid_0's auc: 0.835558\tvalid_0's binary_logloss: 0.500202\n",
      "[443]\tvalid_0's auc: 0.835568\tvalid_0's binary_logloss: 0.500186\n",
      "[444]\tvalid_0's auc: 0.835564\tvalid_0's binary_logloss: 0.500193\n",
      "[445]\tvalid_0's auc: 0.835556\tvalid_0's binary_logloss: 0.500205\n",
      "[446]\tvalid_0's auc: 0.835556\tvalid_0's binary_logloss: 0.500204\n",
      "[447]\tvalid_0's auc: 0.835549\tvalid_0's binary_logloss: 0.500213\n",
      "[448]\tvalid_0's auc: 0.835545\tvalid_0's binary_logloss: 0.500216\n",
      "[449]\tvalid_0's auc: 0.835538\tvalid_0's binary_logloss: 0.500225\n",
      "[450]\tvalid_0's auc: 0.835534\tvalid_0's binary_logloss: 0.50023\n",
      "[451]\tvalid_0's auc: 0.835533\tvalid_0's binary_logloss: 0.500231\n",
      "[452]\tvalid_0's auc: 0.835539\tvalid_0's binary_logloss: 0.500221\n",
      "[453]\tvalid_0's auc: 0.835546\tvalid_0's binary_logloss: 0.500211\n",
      "[454]\tvalid_0's auc: 0.83555\tvalid_0's binary_logloss: 0.500207\n",
      "[455]\tvalid_0's auc: 0.835554\tvalid_0's binary_logloss: 0.500204\n",
      "[456]\tvalid_0's auc: 0.835553\tvalid_0's binary_logloss: 0.500205\n",
      "[457]\tvalid_0's auc: 0.835556\tvalid_0's binary_logloss: 0.5002\n",
      "[458]\tvalid_0's auc: 0.835552\tvalid_0's binary_logloss: 0.500206\n",
      "Early stopping, best iteration is:\n",
      "[443]\tvalid_0's auc: 0.835568\tvalid_0's binary_logloss: 0.500186\n"
     ]
    }
   ],
   "source": [
    "# define and train the model with the resampled data and similar parameters\n",
    "lgb_model_re = lgb.train(params, lgb_train_re, valid_sets = lgb_eval_re, early_stopping_rounds=15)"
   ]
  },
  {
   "cell_type": "markdown",
   "metadata": {},
   "source": [
    "The model takes fewr iteration to train that the previous. "
   ]
  },
  {
   "cell_type": "code",
   "execution_count": 51,
   "metadata": {},
   "outputs": [],
   "source": [
    "# Predict for evaluation set \n",
    "X_eval_re['reordered'] = lgb_model_re.predict(X_eval_re, num_iterations = lgb_model_re.best_iteration)"
   ]
  },
  {
   "cell_type": "code",
   "execution_count": 52,
   "metadata": {},
   "outputs": [],
   "source": [
    "# Change to binary for evaluation using lower threshold \n",
    "X_eval_re['reordered']=np.where(X_eval_re['reordered'] > 0.22, 1, X_eval_re['reordered'].astype(int))"
   ]
  },
  {
   "cell_type": "code",
   "execution_count": 56,
   "metadata": {},
   "outputs": [
    {
     "name": "stdout",
     "output_type": "stream",
     "text": [
      "Confusion matrix\n",
      "[[ 69277  96530]\n",
      " [  9485 156238]]\n",
      "             precision    recall  f1-score   support\n",
      "\n",
      "          0       0.88      0.42      0.57    165807\n",
      "          1       0.62      0.94      0.75    165723\n",
      "\n",
      "avg / total       0.75      0.68      0.66    331530\n",
      "\n"
     ]
    }
   ],
   "source": [
    "#Confusion matrix for resampled validation set \n",
    "print('Confusion matrix')\n",
    "print(confusion_matrix(y_eval_re, X_eval_re['reordered']))\n",
    "\n",
    "# Classification report \n",
    "print(classification_report(y_eval_re, X_eval_re['reordered']))"
   ]
  },
  {
   "cell_type": "code",
   "execution_count": 59,
   "metadata": {},
   "outputs": [
    {
     "name": "stdout",
     "output_type": "stream",
     "text": [
      "('Accuracy:', 0.68022501734383012)\n"
     ]
    }
   ],
   "source": [
    "#Accuracy for resampled model\n",
    "from sklearn.metrics import accuracy_score\n",
    "accuracy_re=accuracy_score(X_eval_re['reordered'],y_eval_re)\n",
    "print('Accuracy:', accuracy_re)"
   ]
  },
  {
   "cell_type": "markdown",
   "metadata": {},
   "source": [
    "The classification report and confusion matrix result has improved but not good enough to get a useful prediction. "
   ]
  },
  {
   "cell_type": "markdown",
   "metadata": {},
   "source": [
    "## Random Forest"
   ]
  },
  {
   "cell_type": "code",
   "execution_count": null,
   "metadata": {},
   "outputs": [],
   "source": [
    "Dont run the cell below!  "
   ]
  },
  {
   "cell_type": "code",
   "execution_count": null,
   "metadata": {},
   "outputs": [],
   "source": [
    "# Too slow. kernel interupted after 30hrs \n",
    "# Random forest with GridsearchCV\n",
    "start_time = time.clock()\n",
    "forest_para = {'criterion':['gini','entropy'],'n_estimators':[10,20,50,70,100,250,400],'max_depth':[4,5,6,7,8,9,10,11,12,15,20,30,40,50]}\n",
    "forest = GridSearchCV(ensemble.RandomForestClassifier(), forest_para, cv=5)\n",
    "grid_fit_forest = forest.fit(X_train_re, y_train_re)\n",
    "\n",
    "best_forest = grid_fit_forest.best_estimator_\n",
    "y_forest = best_forest.predict(X_eval_re)\n",
    "\n",
    "#Print best parameters\n",
    "print('forest_para:', forest.best_params_)\n",
    "\n",
    "# Evaluations\n",
    "score_forest = cross_val_score(best_forest, df_train_re.drop('reordered', 1), df_train_re['reordered'], cv=5)\n",
    "print(score_forest)\n",
    "\n",
    "#Confusion matrix for random forest\n",
    "print('Confusion matrix')\n",
    "print(confusion_matrix(y_eval_re, y_forest))\n",
    "\n",
    "# Classification report \n",
    "print(classification_report(y_eval_re, y_forest))\n",
    "\n",
    "# AUC for random forest classifier\n",
    "y_forest_proba = forest.predict_proba(X_eval_re)[::,1]\n",
    "fpr_forest, tpr_forest, _ = metrics.roc_curve(y_eval_re,  y_forest)\n",
    "auc_forest = metrics.roc_auc_score(y_eval_re, y_forest_proba)\n",
    "plt.plot(fpr_forest,tpr_forest,label='auc_forest='+str(auc_forest))\n",
    "plt.legend(loc=4)\n",
    "plt.show()\n",
    "print('\\nRuntime: {} seconds'.format(round((time.clock()-start_time),2)))\n"
   ]
  },
  {
   "cell_type": "markdown",
   "metadata": {},
   "source": [
    "### KNN Classifier"
   ]
  },
  {
   "cell_type": "code",
   "execution_count": 81,
   "metadata": {},
   "outputs": [
    {
     "name": "stdout",
     "output_type": "stream",
     "text": [
      "[ 0.65342712  0.65396402  0.64978946  0.64834164  0.65228276  0.64998432\n",
      "  0.65437007  0.65003861  0.65321783  0.65266282]\n",
      "('Training set score:', 1.0)\n",
      "('\\nTest set score:', 0.65045697221970866)\n",
      "             precision    recall  f1-score   support\n",
      "\n",
      "          0       0.66      0.62      0.64    165807\n",
      "          1       0.64      0.68      0.66    165723\n",
      "\n",
      "avg / total       0.65      0.65      0.65    331530\n",
      "\n",
      "Confusion matrix\n",
      "[[102978  62829]\n",
      " [ 53055 112668]]\n"
     ]
    },
    {
     "data": {
      "image/png": "[encoded data removed]",
      "text/plain": [
       "<Figure size 432x288 with 1 Axes>"
      ]
     },
     "metadata": {
      "needs_background": "light"
     },
     "output_type": "display_data"
    },
    {
     "name": "stdout",
     "output_type": "stream",
     "text": [
      "\n",
      "Runtime: 609.44 seconds\n"
     ]
    }
   ],
   "source": [
    "# Fit the data to knn model \n",
    "start_time = time.clock()\n",
    "neigh = KNeighborsClassifier(n_neighbors=25, weights='distance')\n",
    "neigh.fit(X_train_re, y_train_re)\n",
    "y_knn = neigh.predict(X_eval_re)\n",
    "\n",
    "# score\n",
    "score_neigh = cross_val_score(neigh, X, Y, cv=10)\n",
    "print(score_neigh)\n",
    "print('Training set score:', neigh.score(X_train_re, y_train_re))\n",
    "print('\\nTest set score:', neigh.score(X_eval_re, y_eval_re))\n",
    "\n",
    "# Classification report \n",
    "print(classification_report(y_eval_re, y_knn))\n",
    "\n",
    "#Confusion matrix \n",
    "print('Confusion matrix')\n",
    "print(confusion_matrix(y_eval_re, y_knn))\n",
    "\n",
    "# AUC \n",
    "y_pred_proba = neigh.predict_proba(X_eval_re)[::,1]\n",
    "fpr, tpr, _ = metrics.roc_curve(y_eval_re,  y_pred_proba)\n",
    "auc = metrics.roc_auc_score(y_eval_re, y_pred_proba)\n",
    "plt.plot(fpr,tpr,label='auc='+str(auc))\n",
    "plt.legend(loc=4)\n",
    "plt.show()\n",
    "print('\\nRuntime: {} seconds'.format(round((time.clock()-start_time),2)))"
   ]
  },
  {
   "cell_type": "markdown",
   "metadata": {},
   "source": [
    "KNN classifier has a better precision and recall scores. The training set score is 100% which is a sign of overfitting. Let's now use Logistic Regression model with L1 regularization parameter which is likely to address overfitting.  "
   ]
  },
  {
   "cell_type": "markdown",
   "metadata": {},
   "source": [
    "### Logistic Regression with L1 regularization parameter and GridSearchCV"
   ]
  },
  {
   "cell_type": "code",
   "execution_count": 57,
   "metadata": {},
   "outputs": [],
   "source": [
    "# Logistics regression with GridSearchCV\n",
    "start_time = time.clock()\n",
    "grid_para = C = {'C': [0.001, 0.01, 0.1, 1, 10]}#Inverse of regularization strength; smaller values specify stronger regularization.\n",
    "logreg = GridSearchCV(LogisticRegression(penalty='l1'), grid_para, cv=5)\n",
    "grid_fit_logreg = logreg.fit(X_train_re, y_train_re)\n",
    "best_logreg = grid_fit_logreg.best_estimator_\n",
    "\n",
    "\n",
    "# Predict using the test set\n",
    "y_logreg = best_logreg.predict(X_eval_re)"
   ]
  },
  {
   "cell_type": "code",
   "execution_count": 58,
   "metadata": {},
   "outputs": [
    {
     "name": "stdout",
     "output_type": "stream",
     "text": [
      "Training set score: 0.7418555513159463\n",
      "\n",
      "Test set score: 0.7400989352396465\n",
      "Confusion matrix\n",
      "[[121955  43852]\n",
      " [ 42313 123410]]\n",
      "              precision    recall  f1-score   support\n",
      "\n",
      "           0       0.74      0.74      0.74    165807\n",
      "           1       0.74      0.74      0.74    165723\n",
      "\n",
      "   micro avg       0.74      0.74      0.74    331530\n",
      "   macro avg       0.74      0.74      0.74    331530\n",
      "weighted avg       0.74      0.74      0.74    331530\n",
      "\n"
     ]
    },
    {
     "data": {
      "image/png": "[encoded data removed]",
      "text/plain": [
       "<Figure size 432x288 with 1 Axes>"
      ]
     },
     "metadata": {
      "needs_background": "light"
     },
     "output_type": "display_data"
    },
    {
     "name": "stdout",
     "output_type": "stream",
     "text": [
      "\n",
      "Runtime: 1493.62 seconds\n"
     ]
    }
   ],
   "source": [
    "# Compare scores for train and test sets\n",
    "print('Training set score:', best_logreg.score(X_train_re, y_train_re))\n",
    "print('\\nTest set score:', best_logreg.score(X_eval_re, y_eval_re))\n",
    "\n",
    "# Ten fold cross validation score to evaluate the model *** Took too long \n",
    "#score_logreg = cross_val_score(logreg, X, Y, cv=5)\n",
    "#print(score_logreg)\n",
    "\n",
    "#Confusion matrix for logistics regression classifier\n",
    "print('Confusion matrix')\n",
    "print(confusion_matrix(y_eval_re, y_logreg))\n",
    "\n",
    "# Classification report \n",
    "print(classification_report(y_eval_re, y_logreg))\n",
    "\n",
    "# AUC classifier\n",
    "y_logreg_proba = logreg.predict_proba(X_eval_re)[::,1]\n",
    "fpr_logreg, tpr_logreg, _ = metrics.roc_curve(y_eval_re,  y_logreg)\n",
    "auc_logreg = metrics.roc_auc_score(y_eval_re, y_logreg_proba)\n",
    "plt.plot(fpr_logreg,tpr_logreg,label='auc_logreg='+str(auc_logreg))\n",
    "plt.legend(loc=4)\n",
    "plt.show()\n",
    "print('\\nRuntime: {} seconds'.format(round((time.clock()-start_time),2)))"
   ]
  },
  {
   "cell_type": "markdown",
   "metadata": {},
   "source": [
    "The difference between the training and evaluation sets is very small suggesting that the regularization parameter has helped with overfitting. The overall score has also improved. "
   ]
  },
  {
   "cell_type": "markdown",
   "metadata": {},
   "source": [
    "## Dimentionality reduction \n",
    "### Principal Component Analysis (PCA)\n",
    "Now let's apply PCA to our data and see if we can improve the models we tried above. "
   ]
  },
  {
   "cell_type": "code",
   "execution_count": 34,
   "metadata": {},
   "outputs": [
    {
     "data": {
      "text/plain": [
       "(1657648, 19)"
      ]
     },
     "execution_count": 34,
     "metadata": {},
     "output_type": "execute_result"
    }
   ],
   "source": [
    "# original shape of the data set \n",
    "X.shape"
   ]
  },
  {
   "cell_type": "code",
   "execution_count": 19,
   "metadata": {},
   "outputs": [],
   "source": [
    "# transform  \n",
    "X_tra = StandardScaler().fit_transform(X)"
   ]
  },
  {
   "cell_type": "code",
   "execution_count": 20,
   "metadata": {},
   "outputs": [],
   "source": [
    "# Initiate pca (92% of the varience )\n",
    "pca =PCA(n_components=11)"
   ]
  },
  {
   "cell_type": "code",
   "execution_count": 21,
   "metadata": {},
   "outputs": [
    {
     "name": "stdout",
     "output_type": "stream",
     "text": [
      "Varience expained by principal components: [0.20630604 0.3481364  0.44021306 0.52315676 0.5922888  0.64140317\n",
      " 0.68942608 0.73706285 0.783641   0.82951539 0.87043788]\n"
     ]
    }
   ],
   "source": [
    "# Fit with selected features\n",
    "X_pca = pca.fit_transform(X_tra)\n",
    "\n",
    "# Varience in pca\n",
    "varience = pca.explained_variance_ratio_.cumsum()\n",
    "print('Varience expained by principal components:', varience)"
   ]
  },
  {
   "cell_type": "code",
   "execution_count": 22,
   "metadata": {},
   "outputs": [],
   "source": [
    "# Train test split for PCA components\n",
    "X_train_pca, X_eval_pca, y_train_pca, y_eval_pca = train_test_split(X_pca, Y, test_size = 0.2, random_state = 2)"
   ]
  },
  {
   "cell_type": "markdown",
   "metadata": {},
   "source": [
    "### KNN with PCA components "
   ]
  },
  {
   "cell_type": "code",
   "execution_count": 60,
   "metadata": {},
   "outputs": [
    {
     "name": "stdout",
     "output_type": "stream",
     "text": [
      "[ 0.72075094  0.72283822  0.71914627  0.71882654  0.72179725  0.72039164\n",
      "  0.72135084  0.717689    0.72029512  0.72023479]\n",
      "('Training set score:', 1.0)\n",
      "('\\nTest set score:', 0.72496305010104667)\n",
      "             precision    recall  f1-score   support\n",
      "\n",
      "          0       0.72      0.73      0.73    165807\n",
      "          1       0.73      0.72      0.72    165723\n",
      "\n",
      "avg / total       0.72      0.72      0.72    331530\n",
      "\n",
      "Confusion matrix\n",
      "[[120677  45130]\n",
      " [ 46053 119670]]\n"
     ]
    },
    {
     "data": {
      "image/png": "[encoded data removed]",
      "text/plain": [
       "<Figure size 432x288 with 1 Axes>"
      ]
     },
     "metadata": {
      "needs_background": "light"
     },
     "output_type": "display_data"
    },
    {
     "name": "stdout",
     "output_type": "stream",
     "text": [
      "\n",
      "Runtime: 7503.38 seconds\n"
     ]
    }
   ],
   "source": [
    "# Fit the data to knn model \n",
    "start_time = time.clock()\n",
    "neigh_pca = KNeighborsClassifier(n_neighbors=25, weights='distance')\n",
    "neigh_pca.fit(X_train_pca, y_train_pca)\n",
    "y_knn_pca = neigh_pca.predict(X_eval_pca)\n",
    "\n",
    "# score\n",
    "score_neigh_pca = cross_val_score(neigh_pca, X_pca, Y, cv=10)\n",
    "print(score_neigh_pca)\n",
    "print('Training set score:', neigh_pca.score(X_train_pca, y_train_pca))\n",
    "print('\\nTest set score:', neigh_pca.score(X_eval_pca, y_eval_pca))\n",
    "\n",
    "# Classification report \n",
    "print(classification_report(y_eval_pca, y_knn_pca))\n",
    "\n",
    "#Confusion matrix \n",
    "print('Confusion matrix')\n",
    "print(confusion_matrix(y_eval_pca, y_knn_pca))\n",
    "\n",
    "# AUC \n",
    "y_pred_proba = neigh_pca.predict_proba(X_eval_pca)[::,1]\n",
    "fpr, tpr, _ = metrics.roc_curve(y_eval_pca,  y_pred_proba)\n",
    "auc = metrics.roc_auc_score(y_eval_pca, y_pred_proba)\n",
    "plt.plot(fpr,tpr,label='auc='+str(auc))\n",
    "plt.legend(loc=4)\n",
    "plt.show()\n",
    "print('\\nRuntime: {} seconds'.format(round((time.clock()-start_time),2)))"
   ]
  },
  {
   "cell_type": "markdown",
   "metadata": {},
   "source": [
    "PCA has improved the KNN classifier but the issue with overfitting is still present. "
   ]
  },
  {
   "cell_type": "markdown",
   "metadata": {},
   "source": [
    "### Logistics Regression with L1 regularization parameter (and PCA)"
   ]
  },
  {
   "cell_type": "code",
   "execution_count": 61,
   "metadata": {},
   "outputs": [],
   "source": [
    "# Logistic regression with GridSearchCV\n",
    "start_time = time.clock()\n",
    "grid_para = C = {'C': [0.001, 0.01, 0.1, 1, 10]}\n",
    "logreg = GridSearchCV(LogisticRegression(penalty='l1'), grid_para, cv=5)\n",
    "grid_fit_logreg = logreg.fit(X_train_pca, y_train_pca)\n",
    "best_logreg_pca = grid_fit_logreg.best_estimator_\n",
    "\n",
    "\n",
    "# Predict using the test set\n",
    "y_logreg = best_logreg_pca.predict(X_eval_pca)"
   ]
  },
  {
   "cell_type": "code",
   "execution_count": 62,
   "metadata": {
    "scrolled": false
   },
   "outputs": [
    {
     "name": "stdout",
     "output_type": "stream",
     "text": [
      "('Training set score:', 0.73039578680026962)\n",
      "('\\nTest set score:', 0.72984043676288723)\n",
      "Confusion matrix\n",
      "[[124976  40831]\n",
      " [ 48735 116988]]\n",
      "             precision    recall  f1-score   support\n",
      "\n",
      "          0       0.72      0.75      0.74    165807\n",
      "          1       0.74      0.71      0.72    165723\n",
      "\n",
      "avg / total       0.73      0.73      0.73    331530\n",
      "\n"
     ]
    },
    {
     "data": {
      "image/png": "[encoded data removed]",
      "text/plain": [
       "<Figure size 432x288 with 1 Axes>"
      ]
     },
     "metadata": {
      "needs_background": "light"
     },
     "output_type": "display_data"
    },
    {
     "name": "stdout",
     "output_type": "stream",
     "text": [
      "\n",
      "Runtime: 46.36 seconds\n"
     ]
    }
   ],
   "source": [
    "# Compare scores for train and test sets\n",
    "print('Training set score:', logreg.score(X_train_pca, y_train_pca))\n",
    "print('\\nTest set score:', logreg.score(X_eval_pca, y_eval_pca))\n",
    "\n",
    "# Ten fold cross validation score to evaluate the model *** Took too long \n",
    "#score_logreg = cross_val_score(logreg, X_pca, Y, cv=5)\n",
    "#print(score_logreg)\n",
    "\n",
    "#Confusion matrix for logistics regression classifier\n",
    "print('Confusion matrix')\n",
    "print(confusion_matrix(y_eval_pca, y_logreg))\n",
    "\n",
    "# Classification report \n",
    "print(classification_report(y_eval_pca, y_logreg))\n",
    "\n",
    "# AUC classifier\n",
    "y_logreg_proba = best_logreg_pca.predict_proba(X_eval_pca)[::,1]\n",
    "fpr_logreg, tpr_logreg, _ = metrics.roc_curve(y_eval_pca,  y_logreg)\n",
    "auc_logreg = metrics.roc_auc_score(y_eval_pca, y_logreg_proba)\n",
    "plt.plot(fpr_logreg,tpr_logreg,label='auc_logreg='+str(auc_logreg))\n",
    "plt.legend(loc=4)\n",
    "plt.show()\n",
    "print('\\nRuntime: {} seconds'.format(round((time.clock()-start_time),2)))"
   ]
  },
  {
   "cell_type": "markdown",
   "metadata": {},
   "source": [
    "This model is not improved as a result of PCA  "
   ]
  },
  {
   "cell_type": "markdown",
   "metadata": {},
   "source": [
    "### Light GBM with PCA components "
   ]
  },
  {
   "cell_type": "code",
   "execution_count": 63,
   "metadata": {},
   "outputs": [],
   "source": [
    "#preparing resampled data for Light GBM\n",
    "lgb_train_pca = lgb.Dataset(X_train_pca, label=y_train_pca)\n",
    "lgb_eval_pca = lgb.Dataset(X_eval_pca, y_eval_pca, reference = lgb_train_pca)"
   ]
  },
  {
   "cell_type": "code",
   "execution_count": 64,
   "metadata": {},
   "outputs": [
    {
     "name": "stdout",
     "output_type": "stream",
     "text": [
      "[1]\tvalid_0's auc: 0.787826\tvalid_0's binary_logloss: 0.68077\n",
      "Training until validation scores don't improve for 15 rounds.\n",
      "[2]\tvalid_0's auc: 0.793238\tvalid_0's binary_logloss: 0.671904\n",
      "[3]\tvalid_0's auc: 0.804215\tvalid_0's binary_logloss: 0.660054\n",
      "[4]\tvalid_0's auc: 0.807024\tvalid_0's binary_logloss: 0.6493\n",
      "[5]\tvalid_0's auc: 0.808646\tvalid_0's binary_logloss: 0.639969\n",
      "[6]\tvalid_0's auc: 0.809409\tvalid_0's binary_logloss: 0.630953\n",
      "[7]\tvalid_0's auc: 0.809111\tvalid_0's binary_logloss: 0.624569\n",
      "[8]\tvalid_0's auc: 0.809646\tvalid_0's binary_logloss: 0.617368\n",
      "[9]\tvalid_0's auc: 0.809196\tvalid_0's binary_logloss: 0.61212\n",
      "[10]\tvalid_0's auc: 0.809824\tvalid_0's binary_logloss: 0.605431\n",
      "[11]\tvalid_0's auc: 0.810272\tvalid_0's binary_logloss: 0.599292\n",
      "[12]\tvalid_0's auc: 0.810618\tvalid_0's binary_logloss: 0.59365\n",
      "[13]\tvalid_0's auc: 0.810741\tvalid_0's binary_logloss: 0.588792\n",
      "[14]\tvalid_0's auc: 0.810679\tvalid_0's binary_logloss: 0.585395\n",
      "[15]\tvalid_0's auc: 0.810884\tvalid_0's binary_logloss: 0.580895\n",
      "[16]\tvalid_0's auc: 0.811153\tvalid_0's binary_logloss: 0.576706\n",
      "[17]\tvalid_0's auc: 0.811546\tvalid_0's binary_logloss: 0.573269\n",
      "[18]\tvalid_0's auc: 0.811627\tvalid_0's binary_logloss: 0.569911\n",
      "[19]\tvalid_0's auc: 0.811722\tvalid_0's binary_logloss: 0.566991\n",
      "[20]\tvalid_0's auc: 0.811884\tvalid_0's binary_logloss: 0.564049\n",
      "[21]\tvalid_0's auc: 0.812081\tvalid_0's binary_logloss: 0.561137\n",
      "[22]\tvalid_0's auc: 0.812187\tvalid_0's binary_logloss: 0.558488\n",
      "[23]\tvalid_0's auc: 0.812334\tvalid_0's binary_logloss: 0.556008\n",
      "[24]\tvalid_0's auc: 0.812559\tvalid_0's binary_logloss: 0.553934\n",
      "[25]\tvalid_0's auc: 0.812602\tvalid_0's binary_logloss: 0.552433\n",
      "[26]\tvalid_0's auc: 0.81269\tvalid_0's binary_logloss: 0.550431\n",
      "[27]\tvalid_0's auc: 0.812739\tvalid_0's binary_logloss: 0.549181\n",
      "[28]\tvalid_0's auc: 0.812801\tvalid_0's binary_logloss: 0.547794\n",
      "[29]\tvalid_0's auc: 0.812826\tvalid_0's binary_logloss: 0.546965\n",
      "[30]\tvalid_0's auc: 0.812833\tvalid_0's binary_logloss: 0.545843\n",
      "[31]\tvalid_0's auc: 0.812843\tvalid_0's binary_logloss: 0.544884\n",
      "[32]\tvalid_0's auc: 0.812959\tvalid_0's binary_logloss: 0.543426\n",
      "[33]\tvalid_0's auc: 0.813004\tvalid_0's binary_logloss: 0.542207\n",
      "[34]\tvalid_0's auc: 0.812998\tvalid_0's binary_logloss: 0.541688\n",
      "[35]\tvalid_0's auc: 0.813084\tvalid_0's binary_logloss: 0.540557\n",
      "[36]\tvalid_0's auc: 0.813082\tvalid_0's binary_logloss: 0.540154\n",
      "[37]\tvalid_0's auc: 0.813065\tvalid_0's binary_logloss: 0.539525\n",
      "[38]\tvalid_0's auc: 0.813108\tvalid_0's binary_logloss: 0.538752\n",
      "[39]\tvalid_0's auc: 0.813102\tvalid_0's binary_logloss: 0.538201\n",
      "[40]\tvalid_0's auc: 0.813107\tvalid_0's binary_logloss: 0.537607\n",
      "[41]\tvalid_0's auc: 0.813183\tvalid_0's binary_logloss: 0.536781\n",
      "[42]\tvalid_0's auc: 0.813221\tvalid_0's binary_logloss: 0.536435\n",
      "[43]\tvalid_0's auc: 0.81328\tvalid_0's binary_logloss: 0.535826\n",
      "[44]\tvalid_0's auc: 0.813426\tvalid_0's binary_logloss: 0.5352\n",
      "[45]\tvalid_0's auc: 0.813462\tvalid_0's binary_logloss: 0.53476\n",
      "[46]\tvalid_0's auc: 0.813471\tvalid_0's binary_logloss: 0.534328\n",
      "[47]\tvalid_0's auc: 0.813541\tvalid_0's binary_logloss: 0.533855\n",
      "[48]\tvalid_0's auc: 0.813655\tvalid_0's binary_logloss: 0.533187\n",
      "[49]\tvalid_0's auc: 0.813708\tvalid_0's binary_logloss: 0.532657\n",
      "[50]\tvalid_0's auc: 0.813773\tvalid_0's binary_logloss: 0.532148\n",
      "[51]\tvalid_0's auc: 0.813898\tvalid_0's binary_logloss: 0.531639\n",
      "[52]\tvalid_0's auc: 0.813933\tvalid_0's binary_logloss: 0.531297\n",
      "[53]\tvalid_0's auc: 0.814025\tvalid_0's binary_logloss: 0.530815\n",
      "[54]\tvalid_0's auc: 0.814125\tvalid_0's binary_logloss: 0.530469\n",
      "[55]\tvalid_0's auc: 0.814187\tvalid_0's binary_logloss: 0.530125\n",
      "[56]\tvalid_0's auc: 0.814261\tvalid_0's binary_logloss: 0.52973\n",
      "[57]\tvalid_0's auc: 0.814327\tvalid_0's binary_logloss: 0.529412\n",
      "[58]\tvalid_0's auc: 0.814361\tvalid_0's binary_logloss: 0.52912\n",
      "[59]\tvalid_0's auc: 0.814392\tvalid_0's binary_logloss: 0.528908\n",
      "[60]\tvalid_0's auc: 0.814435\tvalid_0's binary_logloss: 0.528772\n",
      "[61]\tvalid_0's auc: 0.814474\tvalid_0's binary_logloss: 0.528608\n",
      "[62]\tvalid_0's auc: 0.814496\tvalid_0's binary_logloss: 0.528462\n",
      "[63]\tvalid_0's auc: 0.814528\tvalid_0's binary_logloss: 0.528232\n",
      "[64]\tvalid_0's auc: 0.814576\tvalid_0's binary_logloss: 0.527998\n",
      "[65]\tvalid_0's auc: 0.814613\tvalid_0's binary_logloss: 0.527862\n",
      "[66]\tvalid_0's auc: 0.814654\tvalid_0's binary_logloss: 0.527654\n",
      "[67]\tvalid_0's auc: 0.814729\tvalid_0's binary_logloss: 0.527428\n",
      "[68]\tvalid_0's auc: 0.81479\tvalid_0's binary_logloss: 0.527206\n",
      "[69]\tvalid_0's auc: 0.814853\tvalid_0's binary_logloss: 0.527048\n",
      "[70]\tvalid_0's auc: 0.814919\tvalid_0's binary_logloss: 0.526845\n",
      "[71]\tvalid_0's auc: 0.814936\tvalid_0's binary_logloss: 0.526752\n",
      "[72]\tvalid_0's auc: 0.814961\tvalid_0's binary_logloss: 0.526624\n",
      "[73]\tvalid_0's auc: 0.815008\tvalid_0's binary_logloss: 0.526459\n",
      "[74]\tvalid_0's auc: 0.815035\tvalid_0's binary_logloss: 0.526363\n",
      "[75]\tvalid_0's auc: 0.815082\tvalid_0's binary_logloss: 0.526215\n",
      "[76]\tvalid_0's auc: 0.815135\tvalid_0's binary_logloss: 0.526071\n",
      "[77]\tvalid_0's auc: 0.815157\tvalid_0's binary_logloss: 0.525972\n",
      "[78]\tvalid_0's auc: 0.815204\tvalid_0's binary_logloss: 0.525856\n",
      "[79]\tvalid_0's auc: 0.815248\tvalid_0's binary_logloss: 0.525739\n",
      "[80]\tvalid_0's auc: 0.815301\tvalid_0's binary_logloss: 0.525616\n",
      "[81]\tvalid_0's auc: 0.815339\tvalid_0's binary_logloss: 0.525512\n",
      "[82]\tvalid_0's auc: 0.815373\tvalid_0's binary_logloss: 0.525443\n",
      "[83]\tvalid_0's auc: 0.815414\tvalid_0's binary_logloss: 0.525348\n",
      "[84]\tvalid_0's auc: 0.815429\tvalid_0's binary_logloss: 0.525289\n",
      "[85]\tvalid_0's auc: 0.815466\tvalid_0's binary_logloss: 0.525204\n",
      "[86]\tvalid_0's auc: 0.815499\tvalid_0's binary_logloss: 0.525154\n",
      "[87]\tvalid_0's auc: 0.815517\tvalid_0's binary_logloss: 0.525121\n",
      "[88]\tvalid_0's auc: 0.815554\tvalid_0's binary_logloss: 0.525063\n",
      "[89]\tvalid_0's auc: 0.815588\tvalid_0's binary_logloss: 0.525011\n",
      "[90]\tvalid_0's auc: 0.815612\tvalid_0's binary_logloss: 0.524948\n",
      "[91]\tvalid_0's auc: 0.815642\tvalid_0's binary_logloss: 0.524875\n",
      "[92]\tvalid_0's auc: 0.815654\tvalid_0's binary_logloss: 0.524847\n",
      "[93]\tvalid_0's auc: 0.815681\tvalid_0's binary_logloss: 0.524786\n",
      "[94]\tvalid_0's auc: 0.815719\tvalid_0's binary_logloss: 0.524714\n",
      "[95]\tvalid_0's auc: 0.815768\tvalid_0's binary_logloss: 0.52463\n",
      "[96]\tvalid_0's auc: 0.815801\tvalid_0's binary_logloss: 0.524584\n",
      "[97]\tvalid_0's auc: 0.815835\tvalid_0's binary_logloss: 0.524538\n",
      "[98]\tvalid_0's auc: 0.815856\tvalid_0's binary_logloss: 0.5245\n",
      "[99]\tvalid_0's auc: 0.815879\tvalid_0's binary_logloss: 0.524464\n",
      "[100]\tvalid_0's auc: 0.815908\tvalid_0's binary_logloss: 0.524416\n",
      "[101]\tvalid_0's auc: 0.815924\tvalid_0's binary_logloss: 0.524376\n",
      "[102]\tvalid_0's auc: 0.815956\tvalid_0's binary_logloss: 0.524327\n",
      "[103]\tvalid_0's auc: 0.815976\tvalid_0's binary_logloss: 0.524297\n",
      "[104]\tvalid_0's auc: 0.815987\tvalid_0's binary_logloss: 0.524267\n",
      "[105]\tvalid_0's auc: 0.81602\tvalid_0's binary_logloss: 0.524211\n",
      "[106]\tvalid_0's auc: 0.816026\tvalid_0's binary_logloss: 0.524194\n",
      "[107]\tvalid_0's auc: 0.816045\tvalid_0's binary_logloss: 0.524161\n",
      "[108]\tvalid_0's auc: 0.816064\tvalid_0's binary_logloss: 0.524128\n",
      "[109]\tvalid_0's auc: 0.816097\tvalid_0's binary_logloss: 0.524077\n",
      "[110]\tvalid_0's auc: 0.816112\tvalid_0's binary_logloss: 0.524047\n",
      "[111]\tvalid_0's auc: 0.816125\tvalid_0's binary_logloss: 0.52403\n",
      "[112]\tvalid_0's auc: 0.816148\tvalid_0's binary_logloss: 0.523993\n",
      "[113]\tvalid_0's auc: 0.816173\tvalid_0's binary_logloss: 0.523955\n",
      "[114]\tvalid_0's auc: 0.816191\tvalid_0's binary_logloss: 0.523928\n",
      "[115]\tvalid_0's auc: 0.816226\tvalid_0's binary_logloss: 0.523876\n",
      "[116]\tvalid_0's auc: 0.816243\tvalid_0's binary_logloss: 0.523847\n",
      "[117]\tvalid_0's auc: 0.816252\tvalid_0's binary_logloss: 0.523829\n",
      "[118]\tvalid_0's auc: 0.816265\tvalid_0's binary_logloss: 0.523806\n",
      "[119]\tvalid_0's auc: 0.816277\tvalid_0's binary_logloss: 0.523787\n",
      "[120]\tvalid_0's auc: 0.816293\tvalid_0's binary_logloss: 0.523768\n",
      "[121]\tvalid_0's auc: 0.816307\tvalid_0's binary_logloss: 0.523745\n",
      "[122]\tvalid_0's auc: 0.816325\tvalid_0's binary_logloss: 0.523721\n",
      "[123]\tvalid_0's auc: 0.816333\tvalid_0's binary_logloss: 0.523705\n",
      "[124]\tvalid_0's auc: 0.816351\tvalid_0's binary_logloss: 0.523684\n",
      "[125]\tvalid_0's auc: 0.816371\tvalid_0's binary_logloss: 0.523657\n",
      "[126]\tvalid_0's auc: 0.816383\tvalid_0's binary_logloss: 0.523637\n",
      "[127]\tvalid_0's auc: 0.816403\tvalid_0's binary_logloss: 0.523614\n",
      "[128]\tvalid_0's auc: 0.816418\tvalid_0's binary_logloss: 0.523593\n",
      "[129]\tvalid_0's auc: 0.816426\tvalid_0's binary_logloss: 0.523578\n"
     ]
    },
    {
     "name": "stdout",
     "output_type": "stream",
     "text": [
      "[130]\tvalid_0's auc: 0.816438\tvalid_0's binary_logloss: 0.523559\n",
      "[131]\tvalid_0's auc: 0.816443\tvalid_0's binary_logloss: 0.523552\n",
      "[132]\tvalid_0's auc: 0.816451\tvalid_0's binary_logloss: 0.523538\n",
      "[133]\tvalid_0's auc: 0.816466\tvalid_0's binary_logloss: 0.52352\n",
      "[134]\tvalid_0's auc: 0.81648\tvalid_0's binary_logloss: 0.5235\n",
      "[135]\tvalid_0's auc: 0.8165\tvalid_0's binary_logloss: 0.523477\n",
      "[136]\tvalid_0's auc: 0.816511\tvalid_0's binary_logloss: 0.523461\n",
      "[137]\tvalid_0's auc: 0.816515\tvalid_0's binary_logloss: 0.523454\n",
      "[138]\tvalid_0's auc: 0.816527\tvalid_0's binary_logloss: 0.523437\n",
      "[139]\tvalid_0's auc: 0.816553\tvalid_0's binary_logloss: 0.523403\n",
      "[140]\tvalid_0's auc: 0.816563\tvalid_0's binary_logloss: 0.523389\n",
      "[141]\tvalid_0's auc: 0.816584\tvalid_0's binary_logloss: 0.523366\n",
      "[142]\tvalid_0's auc: 0.816594\tvalid_0's binary_logloss: 0.523355\n",
      "[143]\tvalid_0's auc: 0.816615\tvalid_0's binary_logloss: 0.52333\n",
      "[144]\tvalid_0's auc: 0.816618\tvalid_0's binary_logloss: 0.523325\n",
      "[145]\tvalid_0's auc: 0.816632\tvalid_0's binary_logloss: 0.52331\n",
      "[146]\tvalid_0's auc: 0.816659\tvalid_0's binary_logloss: 0.523279\n",
      "[147]\tvalid_0's auc: 0.816661\tvalid_0's binary_logloss: 0.523276\n",
      "[148]\tvalid_0's auc: 0.816675\tvalid_0's binary_logloss: 0.523259\n",
      "[149]\tvalid_0's auc: 0.816679\tvalid_0's binary_logloss: 0.523253\n",
      "[150]\tvalid_0's auc: 0.816702\tvalid_0's binary_logloss: 0.523228\n",
      "[151]\tvalid_0's auc: 0.816711\tvalid_0's binary_logloss: 0.523218\n",
      "[152]\tvalid_0's auc: 0.816714\tvalid_0's binary_logloss: 0.523213\n",
      "[153]\tvalid_0's auc: 0.816729\tvalid_0's binary_logloss: 0.523197\n",
      "[154]\tvalid_0's auc: 0.816742\tvalid_0's binary_logloss: 0.523182\n",
      "[155]\tvalid_0's auc: 0.816739\tvalid_0's binary_logloss: 0.523184\n",
      "[156]\tvalid_0's auc: 0.816767\tvalid_0's binary_logloss: 0.523148\n",
      "[157]\tvalid_0's auc: 0.816765\tvalid_0's binary_logloss: 0.523151\n",
      "[158]\tvalid_0's auc: 0.816775\tvalid_0's binary_logloss: 0.523138\n",
      "[159]\tvalid_0's auc: 0.816784\tvalid_0's binary_logloss: 0.523129\n",
      "[160]\tvalid_0's auc: 0.81679\tvalid_0's binary_logloss: 0.523123\n",
      "[161]\tvalid_0's auc: 0.81679\tvalid_0's binary_logloss: 0.523121\n",
      "[162]\tvalid_0's auc: 0.816796\tvalid_0's binary_logloss: 0.52311\n",
      "[163]\tvalid_0's auc: 0.816801\tvalid_0's binary_logloss: 0.523104\n",
      "[164]\tvalid_0's auc: 0.816804\tvalid_0's binary_logloss: 0.523099\n",
      "[165]\tvalid_0's auc: 0.81682\tvalid_0's binary_logloss: 0.523079\n",
      "[166]\tvalid_0's auc: 0.816829\tvalid_0's binary_logloss: 0.523067\n",
      "[167]\tvalid_0's auc: 0.816831\tvalid_0's binary_logloss: 0.523064\n",
      "[168]\tvalid_0's auc: 0.81683\tvalid_0's binary_logloss: 0.523065\n",
      "[169]\tvalid_0's auc: 0.81683\tvalid_0's binary_logloss: 0.523065\n",
      "[170]\tvalid_0's auc: 0.816841\tvalid_0's binary_logloss: 0.523053\n",
      "[171]\tvalid_0's auc: 0.816844\tvalid_0's binary_logloss: 0.523049\n",
      "[172]\tvalid_0's auc: 0.816845\tvalid_0's binary_logloss: 0.52305\n",
      "[173]\tvalid_0's auc: 0.81685\tvalid_0's binary_logloss: 0.523043\n",
      "[174]\tvalid_0's auc: 0.816847\tvalid_0's binary_logloss: 0.523045\n",
      "[175]\tvalid_0's auc: 0.816849\tvalid_0's binary_logloss: 0.52304\n",
      "[176]\tvalid_0's auc: 0.816855\tvalid_0's binary_logloss: 0.523034\n",
      "[177]\tvalid_0's auc: 0.816856\tvalid_0's binary_logloss: 0.523033\n",
      "[178]\tvalid_0's auc: 0.81686\tvalid_0's binary_logloss: 0.523026\n",
      "[179]\tvalid_0's auc: 0.81686\tvalid_0's binary_logloss: 0.523025\n",
      "[180]\tvalid_0's auc: 0.816869\tvalid_0's binary_logloss: 0.523018\n",
      "[181]\tvalid_0's auc: 0.816878\tvalid_0's binary_logloss: 0.523007\n",
      "[182]\tvalid_0's auc: 0.816885\tvalid_0's binary_logloss: 0.522996\n",
      "[183]\tvalid_0's auc: 0.816899\tvalid_0's binary_logloss: 0.522981\n",
      "[184]\tvalid_0's auc: 0.816907\tvalid_0's binary_logloss: 0.52297\n",
      "[185]\tvalid_0's auc: 0.816909\tvalid_0's binary_logloss: 0.522967\n",
      "[186]\tvalid_0's auc: 0.816928\tvalid_0's binary_logloss: 0.522948\n",
      "[187]\tvalid_0's auc: 0.81693\tvalid_0's binary_logloss: 0.522945\n",
      "[188]\tvalid_0's auc: 0.816925\tvalid_0's binary_logloss: 0.522948\n",
      "[189]\tvalid_0's auc: 0.816922\tvalid_0's binary_logloss: 0.522952\n",
      "[190]\tvalid_0's auc: 0.816924\tvalid_0's binary_logloss: 0.522952\n",
      "[191]\tvalid_0's auc: 0.816933\tvalid_0's binary_logloss: 0.522942\n",
      "[192]\tvalid_0's auc: 0.816935\tvalid_0's binary_logloss: 0.522941\n",
      "[193]\tvalid_0's auc: 0.816935\tvalid_0's binary_logloss: 0.522946\n",
      "[194]\tvalid_0's auc: 0.816941\tvalid_0's binary_logloss: 0.522939\n",
      "[195]\tvalid_0's auc: 0.816951\tvalid_0's binary_logloss: 0.522928\n",
      "[196]\tvalid_0's auc: 0.816955\tvalid_0's binary_logloss: 0.522925\n",
      "[197]\tvalid_0's auc: 0.81695\tvalid_0's binary_logloss: 0.522932\n",
      "[198]\tvalid_0's auc: 0.816946\tvalid_0's binary_logloss: 0.52294\n",
      "[199]\tvalid_0's auc: 0.816949\tvalid_0's binary_logloss: 0.522937\n",
      "[200]\tvalid_0's auc: 0.816954\tvalid_0's binary_logloss: 0.522933\n",
      "[201]\tvalid_0's auc: 0.816951\tvalid_0's binary_logloss: 0.522937\n",
      "[202]\tvalid_0's auc: 0.816957\tvalid_0's binary_logloss: 0.522928\n",
      "[203]\tvalid_0's auc: 0.816966\tvalid_0's binary_logloss: 0.522918\n",
      "[204]\tvalid_0's auc: 0.816973\tvalid_0's binary_logloss: 0.522908\n",
      "[205]\tvalid_0's auc: 0.816981\tvalid_0's binary_logloss: 0.522899\n",
      "[206]\tvalid_0's auc: 0.816977\tvalid_0's binary_logloss: 0.522904\n",
      "[207]\tvalid_0's auc: 0.81698\tvalid_0's binary_logloss: 0.522897\n",
      "[208]\tvalid_0's auc: 0.816985\tvalid_0's binary_logloss: 0.522892\n",
      "[209]\tvalid_0's auc: 0.816995\tvalid_0's binary_logloss: 0.522882\n",
      "[210]\tvalid_0's auc: 0.816993\tvalid_0's binary_logloss: 0.522886\n",
      "[211]\tvalid_0's auc: 0.816991\tvalid_0's binary_logloss: 0.52289\n",
      "[212]\tvalid_0's auc: 0.816999\tvalid_0's binary_logloss: 0.522881\n",
      "[213]\tvalid_0's auc: 0.817\tvalid_0's binary_logloss: 0.522882\n",
      "[214]\tvalid_0's auc: 0.817003\tvalid_0's binary_logloss: 0.52288\n",
      "[215]\tvalid_0's auc: 0.817007\tvalid_0's binary_logloss: 0.522875\n",
      "[216]\tvalid_0's auc: 0.817009\tvalid_0's binary_logloss: 0.522873\n",
      "[217]\tvalid_0's auc: 0.817014\tvalid_0's binary_logloss: 0.522867\n",
      "[218]\tvalid_0's auc: 0.817009\tvalid_0's binary_logloss: 0.522875\n",
      "[219]\tvalid_0's auc: 0.817007\tvalid_0's binary_logloss: 0.522878\n",
      "[220]\tvalid_0's auc: 0.817008\tvalid_0's binary_logloss: 0.522875\n",
      "[221]\tvalid_0's auc: 0.817007\tvalid_0's binary_logloss: 0.522877\n",
      "[222]\tvalid_0's auc: 0.817007\tvalid_0's binary_logloss: 0.522878\n",
      "[223]\tvalid_0's auc: 0.817017\tvalid_0's binary_logloss: 0.522863\n",
      "[224]\tvalid_0's auc: 0.817015\tvalid_0's binary_logloss: 0.522866\n",
      "[225]\tvalid_0's auc: 0.817012\tvalid_0's binary_logloss: 0.522872\n",
      "[226]\tvalid_0's auc: 0.81702\tvalid_0's binary_logloss: 0.522865\n",
      "[227]\tvalid_0's auc: 0.817024\tvalid_0's binary_logloss: 0.522861\n",
      "[228]\tvalid_0's auc: 0.817021\tvalid_0's binary_logloss: 0.522864\n",
      "[229]\tvalid_0's auc: 0.817021\tvalid_0's binary_logloss: 0.522865\n",
      "[230]\tvalid_0's auc: 0.817029\tvalid_0's binary_logloss: 0.522856\n",
      "[231]\tvalid_0's auc: 0.817036\tvalid_0's binary_logloss: 0.522847\n",
      "[232]\tvalid_0's auc: 0.81703\tvalid_0's binary_logloss: 0.522855\n",
      "[233]\tvalid_0's auc: 0.817029\tvalid_0's binary_logloss: 0.522858\n",
      "[234]\tvalid_0's auc: 0.817029\tvalid_0's binary_logloss: 0.522858\n",
      "[235]\tvalid_0's auc: 0.817027\tvalid_0's binary_logloss: 0.522866\n",
      "[236]\tvalid_0's auc: 0.817025\tvalid_0's binary_logloss: 0.52287\n",
      "[237]\tvalid_0's auc: 0.817029\tvalid_0's binary_logloss: 0.522866\n",
      "[238]\tvalid_0's auc: 0.817026\tvalid_0's binary_logloss: 0.52287\n",
      "[239]\tvalid_0's auc: 0.817032\tvalid_0's binary_logloss: 0.522866\n",
      "[240]\tvalid_0's auc: 0.817024\tvalid_0's binary_logloss: 0.522877\n",
      "[241]\tvalid_0's auc: 0.817029\tvalid_0's binary_logloss: 0.522871\n",
      "[242]\tvalid_0's auc: 0.817032\tvalid_0's binary_logloss: 0.522868\n",
      "[243]\tvalid_0's auc: 0.817031\tvalid_0's binary_logloss: 0.52287\n",
      "[244]\tvalid_0's auc: 0.817031\tvalid_0's binary_logloss: 0.522869\n",
      "[245]\tvalid_0's auc: 0.81703\tvalid_0's binary_logloss: 0.522872\n",
      "[246]\tvalid_0's auc: 0.817031\tvalid_0's binary_logloss: 0.522873\n",
      "Early stopping, best iteration is:\n",
      "[231]\tvalid_0's auc: 0.817036\tvalid_0's binary_logloss: 0.522847\n"
     ]
    }
   ],
   "source": [
    "# define and train the model with PCA components.\n",
    "lgb_model_pca = lgb.train(params, lgb_train_pca, valid_sets = lgb_eval_pca, early_stopping_rounds=15)"
   ]
  },
  {
   "cell_type": "code",
   "execution_count": 76,
   "metadata": {},
   "outputs": [],
   "source": [
    "# Convert X_eval_pca to dataframe \n",
    "X_eval_pca = pd.DataFrame(X_eval_pca)"
   ]
  },
  {
   "cell_type": "code",
   "execution_count": 77,
   "metadata": {},
   "outputs": [],
   "source": [
    "# Predict for evaluation set \n",
    "X_eval_pca['reordered'] = lgb_model_pca.predict(X_eval_pca, num_iterations = lgb_model_pca.best_iteration)"
   ]
  },
  {
   "cell_type": "code",
   "execution_count": 74,
   "metadata": {},
   "outputs": [],
   "source": [
    "df22 = pd.DataFrame(X_eval_pca)"
   ]
  },
  {
   "cell_type": "code",
   "execution_count": 79,
   "metadata": {},
   "outputs": [
    {
     "data": {
      "text/html": [
       "<div>\n",
       "<style scoped>\n",
       "    .dataframe tbody tr th:only-of-type {\n",
       "        vertical-align: middle;\n",
       "    }\n",
       "\n",
       "    .dataframe tbody tr th {\n",
       "        vertical-align: top;\n",
       "    }\n",
       "\n",
       "    .dataframe thead th {\n",
       "        text-align: right;\n",
       "    }\n",
       "</style>\n",
       "<table border=\"1\" class=\"dataframe\">\n",
       "  <thead>\n",
       "    <tr style=\"text-align: right;\">\n",
       "      <th></th>\n",
       "      <th>0</th>\n",
       "      <th>1</th>\n",
       "      <th>2</th>\n",
       "      <th>3</th>\n",
       "      <th>4</th>\n",
       "      <th>5</th>\n",
       "      <th>6</th>\n",
       "      <th>7</th>\n",
       "      <th>8</th>\n",
       "      <th>9</th>\n",
       "      <th>10</th>\n",
       "      <th>reordered</th>\n",
       "    </tr>\n",
       "  </thead>\n",
       "  <tbody>\n",
       "    <tr>\n",
       "      <th>0</th>\n",
       "      <td>-0.275181</td>\n",
       "      <td>-1.852440</td>\n",
       "      <td>-0.140705</td>\n",
       "      <td>0.488728</td>\n",
       "      <td>-0.566406</td>\n",
       "      <td>1.664559</td>\n",
       "      <td>0.712279</td>\n",
       "      <td>1.109652</td>\n",
       "      <td>0.175572</td>\n",
       "      <td>0.093192</td>\n",
       "      <td>1.584934</td>\n",
       "      <td>0.178203</td>\n",
       "    </tr>\n",
       "    <tr>\n",
       "      <th>1</th>\n",
       "      <td>-3.522444</td>\n",
       "      <td>-0.847865</td>\n",
       "      <td>-0.140998</td>\n",
       "      <td>-0.207417</td>\n",
       "      <td>-0.803712</td>\n",
       "      <td>0.116090</td>\n",
       "      <td>-0.713167</td>\n",
       "      <td>-0.186744</td>\n",
       "      <td>-0.479721</td>\n",
       "      <td>1.516163</td>\n",
       "      <td>0.615559</td>\n",
       "      <td>0.039083</td>\n",
       "    </tr>\n",
       "    <tr>\n",
       "      <th>2</th>\n",
       "      <td>-0.132344</td>\n",
       "      <td>1.744714</td>\n",
       "      <td>1.356244</td>\n",
       "      <td>1.194705</td>\n",
       "      <td>1.993706</td>\n",
       "      <td>-0.281744</td>\n",
       "      <td>-1.305478</td>\n",
       "      <td>-0.717233</td>\n",
       "      <td>1.251316</td>\n",
       "      <td>-0.836309</td>\n",
       "      <td>0.347810</td>\n",
       "      <td>0.864667</td>\n",
       "    </tr>\n",
       "    <tr>\n",
       "      <th>3</th>\n",
       "      <td>3.564326</td>\n",
       "      <td>0.109336</td>\n",
       "      <td>0.123660</td>\n",
       "      <td>-0.269001</td>\n",
       "      <td>0.397243</td>\n",
       "      <td>-0.288725</td>\n",
       "      <td>-1.644279</td>\n",
       "      <td>0.742242</td>\n",
       "      <td>0.455863</td>\n",
       "      <td>1.161751</td>\n",
       "      <td>0.306671</td>\n",
       "      <td>0.768371</td>\n",
       "    </tr>\n",
       "    <tr>\n",
       "      <th>4</th>\n",
       "      <td>1.222661</td>\n",
       "      <td>-0.549666</td>\n",
       "      <td>-0.822013</td>\n",
       "      <td>-0.955754</td>\n",
       "      <td>1.869648</td>\n",
       "      <td>0.211733</td>\n",
       "      <td>-0.508959</td>\n",
       "      <td>-1.235421</td>\n",
       "      <td>0.568475</td>\n",
       "      <td>-0.757177</td>\n",
       "      <td>-0.144759</td>\n",
       "      <td>0.530461</td>\n",
       "    </tr>\n",
       "  </tbody>\n",
       "</table>\n",
       "</div>"
      ],
      "text/plain": [
       "          0         1         2         3         4         5         6  \\\n",
       "0 -0.275181 -1.852440 -0.140705  0.488728 -0.566406  1.664559  0.712279   \n",
       "1 -3.522444 -0.847865 -0.140998 -0.207417 -0.803712  0.116090 -0.713167   \n",
       "2 -0.132344  1.744714  1.356244  1.194705  1.993706 -0.281744 -1.305478   \n",
       "3  3.564326  0.109336  0.123660 -0.269001  0.397243 -0.288725 -1.644279   \n",
       "4  1.222661 -0.549666 -0.822013 -0.955754  1.869648  0.211733 -0.508959   \n",
       "\n",
       "          7         8         9        10  reordered  \n",
       "0  1.109652  0.175572  0.093192  1.584934   0.178203  \n",
       "1 -0.186744 -0.479721  1.516163  0.615559   0.039083  \n",
       "2 -0.717233  1.251316 -0.836309  0.347810   0.864667  \n",
       "3  0.742242  0.455863  1.161751  0.306671   0.768371  \n",
       "4 -1.235421  0.568475 -0.757177 -0.144759   0.530461  "
      ]
     },
     "execution_count": 79,
     "metadata": {},
     "output_type": "execute_result"
    }
   ],
   "source": [
    "X_eval_pca.head()"
   ]
  },
  {
   "cell_type": "code",
   "execution_count": 80,
   "metadata": {},
   "outputs": [],
   "source": [
    "# Change to binary for evaluation \n",
    "X_eval_pca['reordered']=np.where(X_eval_pca['reordered'] > 0.22, 1, X_eval_pca['reordered'].astype(int))"
   ]
  },
  {
   "cell_type": "code",
   "execution_count": 82,
   "metadata": {},
   "outputs": [
    {
     "name": "stdout",
     "output_type": "stream",
     "text": [
      "Confusion matrix\n",
      "[[ 62051 103756]\n",
      " [  8820 156903]]\n",
      "             precision    recall  f1-score   support\n",
      "\n",
      "          0       0.88      0.37      0.52    165807\n",
      "          1       0.60      0.95      0.74    165723\n",
      "\n",
      "avg / total       0.74      0.66      0.63    331530\n",
      "\n"
     ]
    }
   ],
   "source": [
    "#Confusion matrix for resampled validation set \n",
    "print('Confusion matrix')\n",
    "print(confusion_matrix(y_eval_pca, X_eval_pca['reordered']))\n",
    "\n",
    "# Classification report \n",
    "print(classification_report(y_eval_pca, X_eval_pca['reordered']))"
   ]
  },
  {
   "cell_type": "code",
   "execution_count": 85,
   "metadata": {},
   "outputs": [
    {
     "name": "stdout",
     "output_type": "stream",
     "text": [
      "('Accuracy:', 0.66043495309625067)\n"
     ]
    }
   ],
   "source": [
    "#Accuracy for resampled model\n",
    "from sklearn.metrics import accuracy_score\n",
    "accuracy_pca=accuracy_score(X_eval_pca['reordered'],y_eval_pca)\n",
    "print('Accuracy:', accuracy_pca)"
   ]
  },
  {
   "cell_type": "markdown",
   "metadata": {},
   "source": [
    "The results have improved but overall Light GBM is not performing as well logistics regression and KNN classifier. "
   ]
  },
  {
   "cell_type": "markdown",
   "metadata": {},
   "source": [
    "## Dimentionality Reduction with Select K Best"
   ]
  },
  {
   "cell_type": "code",
   "execution_count": 247,
   "metadata": {},
   "outputs": [
    {
     "data": {
      "text/plain": [
       "(1657648, 19)"
      ]
     },
     "execution_count": 247,
     "metadata": {},
     "output_type": "execute_result"
    }
   ],
   "source": [
    "# original shape \n",
    "X.shape"
   ]
  },
  {
   "cell_type": "code",
   "execution_count": 254,
   "metadata": {},
   "outputs": [],
   "source": [
    "# Select only two third of the features based on f_classif.\n",
    "from sklearn.feature_selection import f_classif\n",
    "selection = SelectKBest(score_func=f_classif, k=13)\n",
    "X_kbest = selection.fit(X, Y).transform(X)"
   ]
  },
  {
   "cell_type": "code",
   "execution_count": 259,
   "metadata": {},
   "outputs": [],
   "source": [
    "# Split training and testing data \n",
    "X_train_k, X_eval_k, y_train_k, y_eval_k = train_test_split(X_kbest, Y, test_size = 0.2, random_state = 2)"
   ]
  },
  {
   "cell_type": "markdown",
   "metadata": {},
   "source": [
    "### Logistic Regression With GridSearchCV and Kbest features "
   ]
  },
  {
   "cell_type": "code",
   "execution_count": 260,
   "metadata": {},
   "outputs": [
    {
     "name": "stdout",
     "output_type": "stream",
     "text": [
      "Training set score: 0.7409551789508928\n",
      "\n",
      "Test set score: 0.7397942870931741\n",
      "Confusion matrix\n",
      "[[122019  43788]\n",
      " [ 42478 123245]]\n",
      "              precision    recall  f1-score   support\n",
      "\n",
      "           0       0.74      0.74      0.74    165807\n",
      "           1       0.74      0.74      0.74    165723\n",
      "\n",
      "   micro avg       0.74      0.74      0.74    331530\n",
      "   macro avg       0.74      0.74      0.74    331530\n",
      "weighted avg       0.74      0.74      0.74    331530\n",
      "\n"
     ]
    },
    {
     "data": {
      "image/png": "[encoded data removed]",
      "text/plain": [
       "<Figure size 432x288 with 1 Axes>"
      ]
     },
     "metadata": {},
     "output_type": "display_data"
    },
    {
     "name": "stdout",
     "output_type": "stream",
     "text": [
      "\n",
      "Runtime: 964.43 seconds\n"
     ]
    }
   ],
   "source": [
    "# Logistic regression with GridSearchCV\n",
    "start_time = time.clock()\n",
    "grid_para = C = {'C': [0.001, 0.01, 0.1, 1, 10]}\n",
    "logreg_k = GridSearchCV(LogisticRegression(penalty='l1'), grid_para, cv=5)\n",
    "grid_fit_logreg_k = logreg_k.fit(X_train_k, y_train_k)\n",
    "best_logreg_k = grid_fit_logreg_k.best_estimator_\n",
    "\n",
    "\n",
    "# Predict using the test set\n",
    "y_logreg_k = best_logreg_k.predict(X_eval_k)\n",
    "\n",
    "# Compare scores for train and test sets\n",
    "print('Training set score:', best_logreg_k.score(X_train_k, y_train_k))\n",
    "print('\\nTest set score:', best_logreg_k.score(X_eval_k, y_eval_k))\n",
    "\n",
    "# Ten fold cross validation score to evaluate the model *** Took too long \n",
    "#score_logreg = cross_val_score(best_logreg_k, X_kbest, Y, cv=5)\n",
    "#print(score_logreg)\n",
    "\n",
    "#Confusion matrix for logistics regression classifier\n",
    "print('Confusion matrix')\n",
    "print(confusion_matrix(y_eval_k, y_logreg_k))\n",
    "\n",
    "# Classification report \n",
    "print(classification_report(y_eval_k, y_logreg_k))\n",
    "\n",
    "# AUC classifier\n",
    "y_logreg_proba = best_logreg_k.predict_proba(X_eval_k)[::,1]\n",
    "fpr_logreg, tpr_logreg, _ = metrics.roc_curve(y_eval_k,  y_logreg_k)\n",
    "auc_logreg = metrics.roc_auc_score(y_eval_k, y_logreg_proba)\n",
    "plt.plot(fpr_logreg,tpr_logreg,label='auc_logreg='+str(auc_logreg))\n",
    "plt.legend(loc=4)\n",
    "plt.show()\n",
    "print('\\nRuntime: {} seconds'.format(round((time.clock()-start_time),2)))"
   ]
  },
  {
   "cell_type": "markdown",
   "metadata": {},
   "source": [
    "A slight improvement in the score using selectkbest "
   ]
  },
  {
   "cell_type": "markdown",
   "metadata": {},
   "source": [
    "### Predicting with Kmeans Clusters. \n",
    "\n",
    "We will train a kmeans clustering algorithm and see if it can accurately predict our target variable. The data was too huge for other clustering methods so we will only use kmeans which is relatively easy to train using lower computational power.  "
   ]
  },
  {
   "cell_type": "markdown",
   "metadata": {},
   "source": [
    "**Use original features to make it possible for analysis of the cluster solutions** "
   ]
  },
  {
   "cell_type": "code",
   "execution_count": 23,
   "metadata": {},
   "outputs": [],
   "source": [
    "X_train, X_eval, y_train, y_eval = train_test_split(X, Y, test_size = 0.2, random_state = 2)"
   ]
  },
  {
   "cell_type": "markdown",
   "metadata": {},
   "source": [
    "### K Means"
   ]
  },
  {
   "cell_type": "code",
   "execution_count": 34,
   "metadata": {},
   "outputs": [
    {
     "data": {
      "image/png": "[encoded data removed]",
      "text/plain": [
       "<Figure size 1080x360 with 2 Axes>"
      ]
     },
     "metadata": {
      "needs_background": "light"
     },
     "output_type": "display_data"
    },
    {
     "name": "stdout",
     "output_type": "stream",
     "text": [
      "Train set ARI 0.044796719096824596\n",
      "Eval set ARI 0.0429305003392912\n"
     ]
    }
   ],
   "source": [
    "# initialize the algorithm\n",
    "from sklearn.cluster import KMeans\n",
    "\n",
    "km = KMeans(n_clusters = 2, random_state=2) \n",
    "\n",
    "# Calculate predicted values\n",
    "y_pred_km = km.fit_predict(X_train_pca)\n",
    "# predict eval set clusters \n",
    "y_pred_km_eval = km.predict(X_eval_pca)\n",
    "\n",
    "# Plot the solution using the first 2 pca components \n",
    "plt.figure(figsize=(15,5))\n",
    "\n",
    "plt.subplot(121)\n",
    "plt.scatter(X_train_pca[:, 0], X_train_pca[:, 1], c=y_pred_km)\n",
    "centers = km.cluster_centers_\n",
    "plt.scatter(centers[:, 0], centers[:, 1], c='green', s=200, alpha=0.5)# Green dots show cluster centers. \n",
    "plt.title('Eight cluster KMeans Clustering for The Training Set.')\n",
    "\n",
    "plt.subplot(122)\n",
    "plt.scatter(X_eval_pca[:, 0], X_eval_pca[:, 1], c=y_pred_km_eval)\n",
    "plt.title('Eight cluster KMeans Clustering for The eval Set.')\n",
    "plt.show()\n",
    "\n",
    "# adjusted rand index\n",
    "print('Train set ARI', metrics.adjusted_rand_score(y_train_pca, y_pred_km))\n",
    "print('Eval set ARI', metrics.adjusted_rand_score(y_eval_pca, y_pred_km_eval))"
   ]
  },
  {
   "cell_type": "markdown",
   "metadata": {},
   "source": [
    "The Adjusted Rand index score shows that this clustering is close random. A perfect cluster has a value of 1 and a random assignment has a value of 0.5. This is not a good cluster and we'll make a couple of graphical comparisions to see the difference with the ground truth. "
   ]
  },
  {
   "cell_type": "code",
   "execution_count": 35,
   "metadata": {},
   "outputs": [],
   "source": [
    "# Column for assigned cluster in the train and eval sets \n",
    "X_train['cluster'] = y_pred_km\n",
    "X_eval['cluster'] = y_pred_km_eval"
   ]
  },
  {
   "cell_type": "code",
   "execution_count": 57,
   "metadata": {},
   "outputs": [],
   "source": [
    "# add the ground truth for comparision\n",
    "X_train['reorder'] = y_train"
   ]
  },
  {
   "cell_type": "code",
   "execution_count": 58,
   "metadata": {
    "scrolled": true
   },
   "outputs": [
    {
     "data": {
      "text/html": [
       "<div>\n",
       "<style scoped>\n",
       "    .dataframe tbody tr th:only-of-type {\n",
       "        vertical-align: middle;\n",
       "    }\n",
       "\n",
       "    .dataframe tbody tr th {\n",
       "        vertical-align: top;\n",
       "    }\n",
       "\n",
       "    .dataframe thead th {\n",
       "        text-align: right;\n",
       "    }\n",
       "</style>\n",
       "<table border=\"1\" class=\"dataframe\">\n",
       "  <thead>\n",
       "    <tr style=\"text-align: right;\">\n",
       "      <th></th>\n",
       "      <th>order_id</th>\n",
       "      <th>product_id</th>\n",
       "      <th>user_total_orders</th>\n",
       "      <th>user_total_items</th>\n",
       "      <th>total_distinct_items</th>\n",
       "      <th>user_average_days_between_orders</th>\n",
       "      <th>user_average_basket</th>\n",
       "      <th>order_hour_of_day</th>\n",
       "      <th>days_since_prior_order</th>\n",
       "      <th>days_since_ratio</th>\n",
       "      <th>aisle_id</th>\n",
       "      <th>department_id</th>\n",
       "      <th>product_orders</th>\n",
       "      <th>product_reorders</th>\n",
       "      <th>product_reorder_rate</th>\n",
       "      <th>UP_orders</th>\n",
       "      <th>UP_orders_ratio</th>\n",
       "      <th>UP_average_pos_in_cart</th>\n",
       "      <th>UP_reorder_rate</th>\n",
       "      <th>UP_orders_since_last</th>\n",
       "      <th>UP_delta_hour_vs_last</th>\n",
       "      <th>cluster</th>\n",
       "      <th>reorder</th>\n",
       "    </tr>\n",
       "  </thead>\n",
       "  <tbody>\n",
       "    <tr>\n",
       "      <th>6757694</th>\n",
       "      <td>2457391</td>\n",
       "      <td>329</td>\n",
       "      <td>7</td>\n",
       "      <td>91</td>\n",
       "      <td>47</td>\n",
       "      <td>14.833333</td>\n",
       "      <td>13.000000</td>\n",
       "      <td>22</td>\n",
       "      <td>9.0</td>\n",
       "      <td>0.606742</td>\n",
       "      <td>84</td>\n",
       "      <td>16</td>\n",
       "      <td>15459</td>\n",
       "      <td>12345.0</td>\n",
       "      <td>0.798564</td>\n",
       "      <td>4</td>\n",
       "      <td>0.571429</td>\n",
       "      <td>5.500000</td>\n",
       "      <td>0.571429</td>\n",
       "      <td>1</td>\n",
       "      <td>10</td>\n",
       "      <td>1</td>\n",
       "      <td>0</td>\n",
       "    </tr>\n",
       "    <tr>\n",
       "      <th>17994</th>\n",
       "      <td>2769206</td>\n",
       "      <td>11463</td>\n",
       "      <td>55</td>\n",
       "      <td>658</td>\n",
       "      <td>157</td>\n",
       "      <td>6.407407</td>\n",
       "      <td>11.963636</td>\n",
       "      <td>14</td>\n",
       "      <td>7.0</td>\n",
       "      <td>1.092486</td>\n",
       "      <td>96</td>\n",
       "      <td>20</td>\n",
       "      <td>1504</td>\n",
       "      <td>875.0</td>\n",
       "      <td>0.581782</td>\n",
       "      <td>23</td>\n",
       "      <td>0.418182</td>\n",
       "      <td>4.739130</td>\n",
       "      <td>0.418182</td>\n",
       "      <td>1</td>\n",
       "      <td>2</td>\n",
       "      <td>0</td>\n",
       "      <td>1</td>\n",
       "    </tr>\n",
       "    <tr>\n",
       "      <th>1140889</th>\n",
       "      <td>2343881</td>\n",
       "      <td>24808</td>\n",
       "      <td>10</td>\n",
       "      <td>109</td>\n",
       "      <td>82</td>\n",
       "      <td>15.333333</td>\n",
       "      <td>10.900000</td>\n",
       "      <td>12</td>\n",
       "      <td>30.0</td>\n",
       "      <td>1.956522</td>\n",
       "      <td>5</td>\n",
       "      <td>13</td>\n",
       "      <td>197</td>\n",
       "      <td>60.0</td>\n",
       "      <td>0.304569</td>\n",
       "      <td>1</td>\n",
       "      <td>0.100000</td>\n",
       "      <td>10.000000</td>\n",
       "      <td>0.100000</td>\n",
       "      <td>2</td>\n",
       "      <td>4</td>\n",
       "      <td>1</td>\n",
       "      <td>0</td>\n",
       "    </tr>\n",
       "    <tr>\n",
       "      <th>1479612</th>\n",
       "      <td>601501</td>\n",
       "      <td>19660</td>\n",
       "      <td>16</td>\n",
       "      <td>66</td>\n",
       "      <td>31</td>\n",
       "      <td>14.266666</td>\n",
       "      <td>4.125000</td>\n",
       "      <td>20</td>\n",
       "      <td>6.0</td>\n",
       "      <td>0.420561</td>\n",
       "      <td>115</td>\n",
       "      <td>7</td>\n",
       "      <td>56087</td>\n",
       "      <td>45558.0</td>\n",
       "      <td>0.812274</td>\n",
       "      <td>7</td>\n",
       "      <td>0.437500</td>\n",
       "      <td>2.285714</td>\n",
       "      <td>0.437500</td>\n",
       "      <td>1</td>\n",
       "      <td>2</td>\n",
       "      <td>1</td>\n",
       "      <td>1</td>\n",
       "    </tr>\n",
       "    <tr>\n",
       "      <th>8420835</th>\n",
       "      <td>1994934</td>\n",
       "      <td>41842</td>\n",
       "      <td>84</td>\n",
       "      <td>534</td>\n",
       "      <td>139</td>\n",
       "      <td>4.373494</td>\n",
       "      <td>6.357143</td>\n",
       "      <td>13</td>\n",
       "      <td>3.0</td>\n",
       "      <td>0.685950</td>\n",
       "      <td>52</td>\n",
       "      <td>1</td>\n",
       "      <td>3314</td>\n",
       "      <td>2264.0</td>\n",
       "      <td>0.683162</td>\n",
       "      <td>20</td>\n",
       "      <td>0.238095</td>\n",
       "      <td>2.950000</td>\n",
       "      <td>0.238095</td>\n",
       "      <td>1</td>\n",
       "      <td>7</td>\n",
       "      <td>0</td>\n",
       "      <td>1</td>\n",
       "    </tr>\n",
       "  </tbody>\n",
       "</table>\n",
       "</div>"
      ],
      "text/plain": [
       "         order_id  product_id  user_total_orders  user_total_items  \\\n",
       "6757694   2457391         329                  7                91   \n",
       "17994     2769206       11463                 55               658   \n",
       "1140889   2343881       24808                 10               109   \n",
       "1479612    601501       19660                 16                66   \n",
       "8420835   1994934       41842                 84               534   \n",
       "\n",
       "         total_distinct_items  user_average_days_between_orders  \\\n",
       "6757694                    47                         14.833333   \n",
       "17994                     157                          6.407407   \n",
       "1140889                    82                         15.333333   \n",
       "1479612                    31                         14.266666   \n",
       "8420835                   139                          4.373494   \n",
       "\n",
       "         user_average_basket  order_hour_of_day  days_since_prior_order  \\\n",
       "6757694            13.000000                 22                     9.0   \n",
       "17994              11.963636                 14                     7.0   \n",
       "1140889            10.900000                 12                    30.0   \n",
       "1479612             4.125000                 20                     6.0   \n",
       "8420835             6.357143                 13                     3.0   \n",
       "\n",
       "         days_since_ratio  aisle_id  department_id  product_orders  \\\n",
       "6757694          0.606742        84             16           15459   \n",
       "17994            1.092486        96             20            1504   \n",
       "1140889          1.956522         5             13             197   \n",
       "1479612          0.420561       115              7           56087   \n",
       "8420835          0.685950        52              1            3314   \n",
       "\n",
       "         product_reorders  product_reorder_rate  UP_orders  UP_orders_ratio  \\\n",
       "6757694           12345.0              0.798564          4         0.571429   \n",
       "17994               875.0              0.581782         23         0.418182   \n",
       "1140889              60.0              0.304569          1         0.100000   \n",
       "1479612           45558.0              0.812274          7         0.437500   \n",
       "8420835            2264.0              0.683162         20         0.238095   \n",
       "\n",
       "         UP_average_pos_in_cart  UP_reorder_rate  UP_orders_since_last  \\\n",
       "6757694                5.500000         0.571429                     1   \n",
       "17994                  4.739130         0.418182                     1   \n",
       "1140889               10.000000         0.100000                     2   \n",
       "1479612                2.285714         0.437500                     1   \n",
       "8420835                2.950000         0.238095                     1   \n",
       "\n",
       "         UP_delta_hour_vs_last  cluster  reorder  \n",
       "6757694                     10        1        0  \n",
       "17994                        2        0        1  \n",
       "1140889                      4        1        0  \n",
       "1479612                      2        1        1  \n",
       "8420835                      7        0        1  "
      ]
     },
     "execution_count": 58,
     "metadata": {},
     "output_type": "execute_result"
    }
   ],
   "source": [
    "# inspect changes\n",
    "X_train.head()"
   ]
  },
  {
   "cell_type": "markdown",
   "metadata": {},
   "source": [
    "The count plot below shows that the cluster solution is very different from the ground truth. "
   ]
  },
  {
   "cell_type": "code",
   "execution_count": 64,
   "metadata": {},
   "outputs": [
    {
     "data": {
      "image/png": "[encoded data removed]",
      "text/plain": [
       "<Figure size 720x360 with 2 Axes>"
      ]
     },
     "metadata": {
      "needs_background": "light"
     },
     "output_type": "display_data"
    }
   ],
   "source": [
    "# Count plot of each classes for cluster solution and ground truth \n",
    "plt.figure(figsize=(10,5))\n",
    "plt.subplot(121)\n",
    "sns.countplot(x='cluster', data=X_train, palette='hls')\n",
    "plt.title('Class Count plot by Cluster')\n",
    "\n",
    "plt.subplot(122)\n",
    "sns.countplot(x='reorder', data=X_train, palette='hls')\n",
    "plt.title('Class count for ground truth')\n",
    "\n",
    "plt.show()"
   ]
  },
  {
   "cell_type": "markdown",
   "metadata": {},
   "source": [
    "The following is an example of differenced between ground truth and clustering solution. "
   ]
  },
  {
   "cell_type": "code",
   "execution_count": 59,
   "metadata": {},
   "outputs": [
    {
     "data": {
      "image/png": "[encoded data removed]",
      "text/plain": [
       "<Figure size 1440x432 with 1 Axes>"
      ]
     },
     "metadata": {
      "needs_background": "light"
     },
     "output_type": "display_data"
    }
   ],
   "source": [
    "# Department id in ground truth \n",
    "plt.figure(figsize=(20, 6))\n",
    "sns.countplot('department_id', data=X_train, hue = 'reorder')\n",
    "plt.title('Department id ground truth')\n",
    "\n",
    "plt.show()"
   ]
  },
  {
   "cell_type": "code",
   "execution_count": 60,
   "metadata": {
    "scrolled": true
   },
   "outputs": [
    {
     "data": {
      "image/png": "[encoded data removed]",
      "text/plain": [
       "<Figure size 1440x432 with 1 Axes>"
      ]
     },
     "metadata": {
      "needs_background": "light"
     },
     "output_type": "display_data"
    }
   ],
   "source": [
    "# Department id in cluster solution \n",
    "plt.figure(figsize=(20, 6))\n",
    "sns.countplot('department_id', data=X_train, hue = 'cluster')\n",
    "plt.title('Department id KMeans solution')\n",
    "\n",
    "plt.show()"
   ]
  },
  {
   "cell_type": "markdown",
   "metadata": {},
   "source": [
    "### Generate more clusters as a feature for supervised learning\n",
    "\n",
    "Now we will try to use kmeans clustering to create additional feature to the data set which then can be used to try and improve the supervised model algorithms above. We will only apply this approach on the best performing model so far. We will use the elbow method to select optimal K value by plotting the sum of square errors verses different K values. In our graph, the optimal K value is 5. "
   ]
  },
  {
   "cell_type": "code",
   "execution_count": 262,
   "metadata": {},
   "outputs": [
    {
     "data": {
      "image/png": "[encoded data removed]",
      "text/plain": [
       "<Figure size 432x288 with 1 Axes>"
      ]
     },
     "metadata": {},
     "output_type": "display_data"
    }
   ],
   "source": [
    "# Elbow graph to select optimal K \n",
    "from sklearn.cluster import KMeans\n",
    "X_km = X\n",
    "Sum_of_squared_distances = []\n",
    "K = range(2,20)\n",
    "for k in K:\n",
    "    km = KMeans(n_clusters=k)\n",
    "    km = km.fit(X)\n",
    "    Sum_of_squared_distances.append(km.inertia_)\n",
    "    \n",
    "plt.plot(K, Sum_of_squared_distances, 'bx-')\n",
    "plt.xlabel('k')\n",
    "plt.ylabel('Sum_of_squared_distances')\n",
    "plt.title('Elbow Method For Optimal k')\n",
    "plt.show()"
   ]
  },
  {
   "cell_type": "markdown",
   "metadata": {},
   "source": [
    "We now create a cluster based using five clusters "
   ]
  },
  {
   "cell_type": "code",
   "execution_count": 68,
   "metadata": {},
   "outputs": [
    {
     "data": {
      "image/png": "[encoded data removed]",
      "text/plain": [
       "<Figure size 1440x576 with 1 Axes>"
      ]
     },
     "metadata": {
      "needs_background": "light"
     },
     "output_type": "display_data"
    },
    {
     "name": "stdout",
     "output_type": "stream",
     "text": [
      "0.0377897047794093\n",
      "\n",
      "Runtime: 153.71 seconds\n"
     ]
    }
   ],
   "source": [
    "# Create a cluster to be added to PCA component before train test split\n",
    "start_time = time.clock()\n",
    "# initialize the algorithm\n",
    "km_pca = KMeans(n_clusters = 5, random_state=42) \n",
    "\n",
    "# Calculate predicted values\n",
    "y_pred_km_pca = km_pca.fit_predict(X_pca)\n",
    "\n",
    "# Plot the solution using the first 2 lsa components \n",
    "plt.figure(figsize=(20,8))\n",
    "\n",
    "plt.subplot(121)\n",
    "plt.scatter(X_pca[:, 0], X_pca[:, 1], c=y_pred_km_pca)\n",
    "plt.title('Eight cluster KMeans Clustering for PCA component.')\n",
    "\n",
    "plt.show()\n",
    "print(metrics.adjusted_rand_score(Y, y_pred_km_pca))\n",
    "print('\\nRuntime: {} seconds'.format(round((time.clock()-start_time),2)))"
   ]
  },
  {
   "cell_type": "code",
   "execution_count": 69,
   "metadata": {},
   "outputs": [],
   "source": [
    "# Create a dataframe for the cluster and join with X_pca as a feature\n",
    "cluster = pd.DataFrame(y_pred_km_pca)\n",
    "cluster.columns = ['cluster']"
   ]
  },
  {
   "cell_type": "code",
   "execution_count": 70,
   "metadata": {},
   "outputs": [],
   "source": [
    "# Convert to dataframe for merging \n",
    "X_pca_df = pd.DataFrame(X_pca)"
   ]
  },
  {
   "cell_type": "code",
   "execution_count": 71,
   "metadata": {},
   "outputs": [],
   "source": [
    "# Add the outcome back onto X_pca\n",
    "X_pca_clu = X_pca_df.join(cluster, how='inner')"
   ]
  },
  {
   "cell_type": "code",
   "execution_count": 72,
   "metadata": {},
   "outputs": [
    {
     "data": {
      "text/html": [
       "<div>\n",
       "<style scoped>\n",
       "    .dataframe tbody tr th:only-of-type {\n",
       "        vertical-align: middle;\n",
       "    }\n",
       "\n",
       "    .dataframe tbody tr th {\n",
       "        vertical-align: top;\n",
       "    }\n",
       "\n",
       "    .dataframe thead th {\n",
       "        text-align: right;\n",
       "    }\n",
       "</style>\n",
       "<table border=\"1\" class=\"dataframe\">\n",
       "  <thead>\n",
       "    <tr style=\"text-align: right;\">\n",
       "      <th></th>\n",
       "      <th>0</th>\n",
       "      <th>1</th>\n",
       "      <th>2</th>\n",
       "      <th>3</th>\n",
       "      <th>4</th>\n",
       "      <th>5</th>\n",
       "      <th>6</th>\n",
       "      <th>7</th>\n",
       "      <th>8</th>\n",
       "      <th>9</th>\n",
       "      <th>10</th>\n",
       "      <th>cluster</th>\n",
       "    </tr>\n",
       "  </thead>\n",
       "  <tbody>\n",
       "    <tr>\n",
       "      <th>0</th>\n",
       "      <td>4.093754</td>\n",
       "      <td>2.419948</td>\n",
       "      <td>1.612214</td>\n",
       "      <td>2.449643</td>\n",
       "      <td>0.220566</td>\n",
       "      <td>-1.754786</td>\n",
       "      <td>1.217187</td>\n",
       "      <td>-0.456984</td>\n",
       "      <td>-0.986526</td>\n",
       "      <td>-0.006799</td>\n",
       "      <td>0.796598</td>\n",
       "      <td>2</td>\n",
       "    </tr>\n",
       "    <tr>\n",
       "      <th>1</th>\n",
       "      <td>1.073342</td>\n",
       "      <td>-1.631694</td>\n",
       "      <td>-0.361266</td>\n",
       "      <td>1.218247</td>\n",
       "      <td>-0.338245</td>\n",
       "      <td>-1.676418</td>\n",
       "      <td>0.249808</td>\n",
       "      <td>-0.489787</td>\n",
       "      <td>0.614002</td>\n",
       "      <td>0.560038</td>\n",
       "      <td>-0.617189</td>\n",
       "      <td>1</td>\n",
       "    </tr>\n",
       "    <tr>\n",
       "      <th>2</th>\n",
       "      <td>2.044402</td>\n",
       "      <td>-0.207644</td>\n",
       "      <td>-0.559771</td>\n",
       "      <td>1.166873</td>\n",
       "      <td>-0.340406</td>\n",
       "      <td>-1.541312</td>\n",
       "      <td>-1.845329</td>\n",
       "      <td>-0.647202</td>\n",
       "      <td>0.049696</td>\n",
       "      <td>0.168737</td>\n",
       "      <td>-0.006742</td>\n",
       "      <td>1</td>\n",
       "    </tr>\n",
       "    <tr>\n",
       "      <th>3</th>\n",
       "      <td>1.707332</td>\n",
       "      <td>-0.879830</td>\n",
       "      <td>0.210653</td>\n",
       "      <td>1.395580</td>\n",
       "      <td>-0.330824</td>\n",
       "      <td>-1.719433</td>\n",
       "      <td>-0.000648</td>\n",
       "      <td>-0.494427</td>\n",
       "      <td>-1.548726</td>\n",
       "      <td>-0.125547</td>\n",
       "      <td>-0.656029</td>\n",
       "      <td>1</td>\n",
       "    </tr>\n",
       "    <tr>\n",
       "      <th>4</th>\n",
       "      <td>1.126661</td>\n",
       "      <td>-1.404114</td>\n",
       "      <td>-0.565142</td>\n",
       "      <td>1.172606</td>\n",
       "      <td>-0.295956</td>\n",
       "      <td>-1.769758</td>\n",
       "      <td>0.600601</td>\n",
       "      <td>-0.474020</td>\n",
       "      <td>1.114872</td>\n",
       "      <td>0.686688</td>\n",
       "      <td>-0.964346</td>\n",
       "      <td>1</td>\n",
       "    </tr>\n",
       "  </tbody>\n",
       "</table>\n",
       "</div>"
      ],
      "text/plain": [
       "          0         1         2         3         4         5         6  \\\n",
       "0  4.093754  2.419948  1.612214  2.449643  0.220566 -1.754786  1.217187   \n",
       "1  1.073342 -1.631694 -0.361266  1.218247 -0.338245 -1.676418  0.249808   \n",
       "2  2.044402 -0.207644 -0.559771  1.166873 -0.340406 -1.541312 -1.845329   \n",
       "3  1.707332 -0.879830  0.210653  1.395580 -0.330824 -1.719433 -0.000648   \n",
       "4  1.126661 -1.404114 -0.565142  1.172606 -0.295956 -1.769758  0.600601   \n",
       "\n",
       "          7         8         9        10  cluster  \n",
       "0 -0.456984 -0.986526 -0.006799  0.796598        2  \n",
       "1 -0.489787  0.614002  0.560038 -0.617189        1  \n",
       "2 -0.647202  0.049696  0.168737 -0.006742        1  \n",
       "3 -0.494427 -1.548726 -0.125547 -0.656029        1  \n",
       "4 -0.474020  1.114872  0.686688 -0.964346        1  "
      ]
     },
     "execution_count": 72,
     "metadata": {},
     "output_type": "execute_result"
    }
   ],
   "source": [
    "# inspect changes\n",
    "X_pca_clu.head()"
   ]
  },
  {
   "cell_type": "markdown",
   "metadata": {},
   "source": [
    "We have a new feature and now we will train the logistic regression model which gave us a better result previously and see if we can improve the model.  "
   ]
  },
  {
   "cell_type": "code",
   "execution_count": 73,
   "metadata": {},
   "outputs": [],
   "source": [
    "# Train test split \n",
    "X_train_clu, X_eval_clu, y_train_clu, y_eval_clu = train_test_split(X_pca_clu, Y, test_size = 0.2, random_state = 2)"
   ]
  },
  {
   "cell_type": "markdown",
   "metadata": {},
   "source": [
    "### Logistic Regression with KMeans Cluster Feature"
   ]
  },
  {
   "cell_type": "code",
   "execution_count": 74,
   "metadata": {},
   "outputs": [],
   "source": [
    "# Logistic regression with GridSearchCV\n",
    "start_time = time.clock()\n",
    "grid_para = C = {'C': [0.001, 0.01, 0.1, 1, 10]}\n",
    "logreg = GridSearchCV(LogisticRegression(penalty='l1'), grid_para, cv=5)\n",
    "grid_fit_logreg = logreg.fit(X_train_clu, y_train_clu)\n",
    "best_logreg_clu = grid_fit_logreg.best_estimator_\n",
    "\n",
    "\n",
    "# Predict using the test set\n",
    "y_logreg = best_logreg_clu.predict(X_eval_clu)"
   ]
  },
  {
   "cell_type": "code",
   "execution_count": 75,
   "metadata": {
    "scrolled": false
   },
   "outputs": [
    {
     "name": "stdout",
     "output_type": "stream",
     "text": [
      "Training set score: 0.7189413008495473\n",
      "\n",
      "Test set score: 0.71697282297228\n",
      "Confusion matrix\n",
      "[[129427  36380]\n",
      " [ 57452 108271]]\n",
      "              precision    recall  f1-score   support\n",
      "\n",
      "           0       0.69      0.78      0.73    165807\n",
      "           1       0.75      0.65      0.70    165723\n",
      "\n",
      "   micro avg       0.72      0.72      0.72    331530\n",
      "   macro avg       0.72      0.72      0.72    331530\n",
      "weighted avg       0.72      0.72      0.72    331530\n",
      "\n"
     ]
    },
    {
     "data": {
      "image/png": "[encoded data removed]",
      "text/plain": [
       "<Figure size 432x288 with 1 Axes>"
      ]
     },
     "metadata": {
      "needs_background": "light"
     },
     "output_type": "display_data"
    },
    {
     "name": "stdout",
     "output_type": "stream",
     "text": [
      "\n",
      "Runtime: 108.99 seconds\n"
     ]
    }
   ],
   "source": [
    "# Compare scores for train and test sets\n",
    "print('Training set score:', best_logreg_clu.score(X_train_clu, y_train_clu))\n",
    "print('\\nTest set score:', best_logreg_clu.score(X_eval_clu, y_eval_clu))\n",
    "\n",
    "# Ten fold cross validation score to evaluate the model *** Took too long \n",
    "#score_logreg = cross_val_score(logreg, X_pca_clu, Y, cv=5)\n",
    "#print(score_logreg)\n",
    "\n",
    "#Confusion matrix for logistics regression classifier\n",
    "print('Confusion matrix')\n",
    "print(confusion_matrix(y_eval_clu, y_logreg))\n",
    "\n",
    "# Classification report \n",
    "print(classification_report(y_eval_clu, y_logreg))\n",
    "\n",
    "# AUC classifier\n",
    "y_logreg_proba = best_logreg_clu.predict_proba(X_eval_clu)[::,1]\n",
    "fpr_logreg, tpr_logreg, _ = metrics.roc_curve(y_eval_clu,  y_logreg)\n",
    "auc_logreg = metrics.roc_auc_score(y_eval_clu, y_logreg_proba)\n",
    "plt.plot(fpr_logreg,tpr_logreg,label='auc_logreg='+str(auc_logreg))\n",
    "plt.legend(loc=4)\n",
    "plt.show()\n",
    "print('\\nRuntime: {} seconds'.format(round((time.clock()-start_time),2)))"
   ]
  },
  {
   "cell_type": "markdown",
   "metadata": {},
   "source": [
    "As the adjusted rand index indicated, the cluster is close to random and as shown in the model above, it does not improve the results. \n",
    "\n",
    "The reson why kmeans is not performing well here could be that kmeans assumes that the true clusters are uniform in all directions (isotropic) and that all clusters have similar variances."
   ]
  },
  {
   "cell_type": "markdown",
   "metadata": {},
   "source": [
    "## Neural Network Models\n",
    "Finally we will use Neural Network models for prediction. We will apply Multi Layer Perceptron Model(MLP) and Convolutional Neural Net (CNN)\n",
    "\n",
    "### Multi Layer Perceptrons (MLP)"
   ]
  },
  {
   "cell_type": "code",
   "execution_count": 150,
   "metadata": {},
   "outputs": [
    {
     "name": "stderr",
     "output_type": "stream",
     "text": [
      "Using TensorFlow backend.\n"
     ]
    }
   ],
   "source": [
    "# Import componenets\n",
    "import keras\n",
    "from keras.models import Sequential\n",
    "from keras.layers import Dense, Dropout, Flatten, MaxPooling2D, MaxPooling1D, BatchNormalization, Activation, Conv1D\n",
    "from keras.layers import LSTM, Input, TimeDistributed\n",
    "from keras.models import Model\n",
    "from keras.optimizers import RMSprop\n",
    "from keras.wrappers.scikit_learn import KerasClassifier\n",
    "from sklearn.neural_network import MLPClassifier\n",
    "\n",
    "\n",
    "# Import the backend\n",
    "from keras import backend as K"
   ]
  },
  {
   "cell_type": "markdown",
   "metadata": {},
   "source": [
    "We will use the data without applying PCA for neural nets. "
   ]
  },
  {
   "cell_type": "code",
   "execution_count": 146,
   "metadata": {},
   "outputs": [],
   "source": [
    "# split the resampled train data for evaluation \n",
    "# work with resampled data with out pca \n",
    "X_train_nn, X_eval_nn, y_train_nn, y_eval_nn = train_test_split(\n",
    "    X, Y, test_size=0.2, random_state=2)"
   ]
  },
  {
   "cell_type": "code",
   "execution_count": 151,
   "metadata": {
    "scrolled": false
   },
   "outputs": [
    {
     "name": "stdout",
     "output_type": "stream",
     "text": [
      "Iteration 1, loss = 0.58662437\n",
      "Validation score: 0.752059\n",
      "Iteration 2, loss = 0.51262826\n",
      "Validation score: 0.752624\n",
      "Iteration 3, loss = 0.50998084\n",
      "Validation score: 0.753378\n",
      "Iteration 4, loss = 0.50855049\n",
      "Validation score: 0.753823\n",
      "Iteration 5, loss = 0.50762143\n",
      "Validation score: 0.753612\n",
      "Iteration 6, loss = 0.50686548\n",
      "Validation score: 0.754849\n",
      "Iteration 7, loss = 0.50641088\n",
      "Validation score: 0.754223\n",
      "Iteration 8, loss = 0.50599111\n",
      "Validation score: 0.754886\n",
      "Iteration 9, loss = 0.50564001\n",
      "Validation score: 0.754766\n",
      "Iteration 10, loss = 0.50552233\n",
      "Validation score: 0.753273\n",
      "Iteration 11, loss = 0.50530138\n",
      "Validation score: 0.754072\n",
      "Iteration 12, loss = 0.50513550\n",
      "Validation score: 0.755369\n",
      "Iteration 13, loss = 0.50494430\n",
      "Validation score: 0.754381\n",
      "Iteration 14, loss = 0.50486225\n",
      "Validation score: 0.754645\n",
      "Iteration 15, loss = 0.50468515\n",
      "Validation score: 0.754479\n",
      "Iteration 16, loss = 0.50460948\n",
      "Validation score: 0.754939\n",
      "Iteration 17, loss = 0.50449180\n",
      "Validation score: 0.753997\n",
      "Iteration 18, loss = 0.50444218\n",
      "Validation score: 0.754736\n",
      "Iteration 19, loss = 0.50432476\n",
      "Validation score: 0.755037\n",
      "Iteration 20, loss = 0.50421922\n",
      "Validation score: 0.754615\n",
      "Iteration 21, loss = 0.50412060\n",
      "Validation score: 0.754313\n",
      "Iteration 22, loss = 0.50409920\n",
      "Validation score: 0.755324\n",
      "Iteration 23, loss = 0.50403491\n",
      "Validation score: 0.755226\n",
      "Validation score did not improve more than tol=0.000100 for 10 consecutive epochs. Stopping.\n",
      "\n",
      "Runtime: 219.58 seconds\n"
     ]
    }
   ],
   "source": [
    "start_time = time.clock()\n",
    "# Now apply the transformations to the data:\n",
    "X_train_nn = StandardScaler().fit_transform(X_train_nn)\n",
    "X_eval_nn = StandardScaler().fit_transform(X_eval_nn)\n",
    "mlp = MLPClassifier(hidden_layer_sizes=(40, 40, 20, 2), random_state=42, verbose=True, early_stopping=True)\n",
    "mlp.fit(X_train_nn, y_train_nn)\n",
    "print('\\nRuntime: {} seconds'.format(round((time.clock()-start_time),2)))"
   ]
  },
  {
   "cell_type": "code",
   "execution_count": 152,
   "metadata": {},
   "outputs": [],
   "source": [
    "# Predict for eval_set\n",
    "predictions = mlp.predict(X_eval_nn)"
   ]
  },
  {
   "cell_type": "code",
   "execution_count": 155,
   "metadata": {},
   "outputs": [
    {
     "name": "stdout",
     "output_type": "stream",
     "text": [
      "Train set score 0.753383937176028\n",
      "Eval set score 0.7518384459928211\n"
     ]
    }
   ],
   "source": [
    "# Scores\n",
    "print('Train set score', mlp.score(X_train_nn, y_train_nn, sample_weight=None))\n",
    "print('Eval set score', mlp.score(X_eval_nn, y_eval_nn, sample_weight=None))"
   ]
  },
  {
   "cell_type": "code",
   "execution_count": 95,
   "metadata": {},
   "outputs": [
    {
     "name": "stdout",
     "output_type": "stream",
     "text": [
      "[[126486  39321]\n",
      " [ 42869 122854]]\n"
     ]
    }
   ],
   "source": [
    "print(confusion_matrix(y_eval_nn, predictions))"
   ]
  },
  {
   "cell_type": "code",
   "execution_count": 96,
   "metadata": {},
   "outputs": [
    {
     "name": "stdout",
     "output_type": "stream",
     "text": [
      "              precision    recall  f1-score   support\n",
      "\n",
      "           0       0.75      0.76      0.75    165807\n",
      "           1       0.76      0.74      0.75    165723\n",
      "\n",
      "   micro avg       0.75      0.75      0.75    331530\n",
      "   macro avg       0.75      0.75      0.75    331530\n",
      "weighted avg       0.75      0.75      0.75    331530\n",
      "\n"
     ]
    }
   ],
   "source": [
    "print(classification_report(y_eval_nn, predictions))"
   ]
  },
  {
   "cell_type": "markdown",
   "metadata": {},
   "source": [
    "The Multi Layer Perceptron model gives us predictions with evaluation scores slightly better thatn Logistics regression. Let's see if CNN model can improve the score.  "
   ]
  },
  {
   "cell_type": "markdown",
   "metadata": {},
   "source": [
    "## Convolutional Neural Networks (CNN)\n",
    "CNNs were designed to map image data to an output variable.CNNs work well with data that has a spatial relationship. The CNN input is traditionally two-dimensional, a field or matrix, but can also be changed to be one-dimensional, allowing it to develop an internal representation of a one-dimensional sequence.This allows the CNN to be used more generally on other types of data that has a spatial relationship. For example, there is an order relationship between words in a document of text. There is an ordered relationship in the time steps of a time series.\n",
    "https://machinelearningmastery.com/when-to-use-mlp-cnn-and-rnn-neural-networks/\n",
    "\n",
    "There is no sequential or spatial relationship between the data points in our dataset and I expect CNNs not to perform as well as MLPs. "
   ]
  },
  {
   "cell_type": "code",
   "execution_count": 63,
   "metadata": {},
   "outputs": [],
   "source": [
    "# split the resampled train data for evaluation \n",
    "# work with resampled data with out pca \n",
    "X_train_cnn, X_eval_cnn, y_train_cnn, y_eval_cnn = train_test_split(\n",
    "    X, Y, test_size=0.2, random_state=2)"
   ]
  },
  {
   "cell_type": "code",
   "execution_count": 64,
   "metadata": {},
   "outputs": [],
   "source": [
    "# reshape the data\n",
    "X_train_cnn = np.expand_dims(X_train_cnn, axis=2)\n",
    "X_eval_cnn = np.expand_dims(X_eval_cnn, axis=2)"
   ]
  },
  {
   "cell_type": "code",
   "execution_count": 65,
   "metadata": {},
   "outputs": [
    {
     "data": {
      "text/plain": [
       "(1326118, 21, 1)"
      ]
     },
     "execution_count": 65,
     "metadata": {},
     "output_type": "execute_result"
    }
   ],
   "source": [
    "# Check shape \n",
    "X_train_cnn.shape"
   ]
  },
  {
   "cell_type": "code",
   "execution_count": 66,
   "metadata": {},
   "outputs": [
    {
     "data": {
      "text/plain": [
       "(331530, 21, 1)"
      ]
     },
     "execution_count": 66,
     "metadata": {},
     "output_type": "execute_result"
    }
   ],
   "source": [
    "# check shape\n",
    "X_eval_cnn.shape"
   ]
  },
  {
   "cell_type": "code",
   "execution_count": 67,
   "metadata": {
    "scrolled": false
   },
   "outputs": [
    {
     "name": "stdout",
     "output_type": "stream",
     "text": [
      "X_train_cnn shape: (1326118, 21, 1)\n",
      "1326118 train samples\n",
      "331530 eval samples\n",
      "Train on 1326118 samples, validate on 331530 samples\n",
      "Epoch 1/10\n",
      "1326118/1326118 [==============================] - 63s 48us/step - loss: 8.0157 - acc: 0.5000 - val_loss: 8.0131 - val_acc: 0.5001\n",
      "Epoch 2/10\n",
      "1326118/1326118 [==============================] - 65s 49us/step - loss: 8.0156 - acc: 0.5000 - val_loss: 8.0131 - val_acc: 0.5001\n",
      "Epoch 3/10\n",
      "1326118/1326118 [==============================] - 65s 49us/step - loss: 8.0156 - acc: 0.5000 - val_loss: 8.0131 - val_acc: 0.5001\n",
      "Epoch 4/10\n",
      "1326118/1326118 [==============================] - 65s 49us/step - loss: 8.0156 - acc: 0.5000 - val_loss: 8.0131 - val_acc: 0.5001\n",
      "Epoch 5/10\n",
      "1326118/1326118 [==============================] - 65s 49us/step - loss: 8.0156 - acc: 0.5000 - val_loss: 8.0131 - val_acc: 0.5001\n",
      "Epoch 6/10\n",
      "1326118/1326118 [==============================] - 66s 50us/step - loss: 8.0156 - acc: 0.5000 - val_loss: 8.0131 - val_acc: 0.5001\n",
      "Epoch 7/10\n",
      "1326118/1326118 [==============================] - 65s 49us/step - loss: 8.0156 - acc: 0.5000 - val_loss: 8.0131 - val_acc: 0.5001\n",
      "Epoch 8/10\n",
      "1326118/1326118 [==============================] - 65s 49us/step - loss: 8.0156 - acc: 0.5000 - val_loss: 8.0131 - val_acc: 0.5001\n",
      "Epoch 9/10\n",
      "1326118/1326118 [==============================] - 65s 49us/step - loss: 8.0156 - acc: 0.5000 - val_loss: 8.0131 - val_acc: 0.5001\n",
      "Epoch 10/10\n",
      "1326118/1326118 [==============================] - 65s 49us/step - loss: 8.0156 - acc: 0.5000 - val_loss: 8.0131 - val_acc: 0.5001\n",
      "Test loss: 8.013088909494417\n",
      "Test accuracy: 0.5001266853681996\n",
      "\n",
      "Runtime: 657.94 seconds\n"
     ]
    }
   ],
   "source": [
    "# Build CNN model\n",
    "start_time = time.clock()\n",
    "num_classes = 2\n",
    "X_train_cnn = X_train_cnn.astype('float32')\n",
    "X_test = X_eval_cnn.astype('float32')\n",
    "\n",
    "print('X_train_cnn shape:', X_train_cnn.shape)\n",
    "print(X_train_cnn.shape[0], 'train samples')\n",
    "print(X_eval_cnn.shape[0], 'eval samples')\n",
    "\n",
    "# reshape input data\n",
    "#X_train_cnn = X_train_cnn.reshape(X_train_cnn.shape[0], X_train_cnn.shape[1], 1)\n",
    "\n",
    "# convert class vectors to binary class matrices\n",
    "y_train_cnn = keras.utils.to_categorical(y_train_cnn, num_classes)\n",
    "y_eval_cnn = keras.utils.to_categorical(y_eval_cnn, num_classes)\n",
    "\n",
    "# Building the Model\n",
    "model = Sequential()\n",
    "# First convolutional layer, note the specification of shape\n",
    "model.add(Conv1D(filters=32, kernel_size=3, activation='relu', input_shape = (21, 1)))\n",
    "model.add(Conv1D(filters=32, kernel_size=3, activation='relu'))\n",
    "model.add(Dropout(0.25))\n",
    "model.add(MaxPooling1D(pool_size=2))\n",
    "model.add(Flatten())\n",
    "\n",
    "model.add(Dense(16, activation='relu'))\n",
    "model.add(Dense(num_classes, activation='softmax'))\n",
    "model.compile(loss=keras.losses.binary_crossentropy,\n",
    "              optimizer=keras.optimizers.Adam(epsilon=1e-08),\n",
    "              metrics=['accuracy'])\n",
    "\n",
    "model.fit(X_train_cnn, y_train_cnn,\n",
    "          batch_size=128,\n",
    "          epochs=10,\n",
    "          verbose=1,\n",
    "          validation_data=(X_eval_cnn, y_eval_cnn))\n",
    "score = model.evaluate(X_eval_cnn, y_eval_cnn, verbose=0)\n",
    "print('Test loss:', score[0])\n",
    "print('Test accuracy:', score[1])\n",
    "print('\\nRuntime: {} seconds'.format(round((time.clock()-start_time),2)))"
   ]
  },
  {
   "cell_type": "markdown",
   "metadata": {},
   "source": [
    "Sure enough the results are similar to a random guess. "
   ]
  },
  {
   "cell_type": "code",
   "execution_count": null,
   "metadata": {},
   "outputs": [],
   "source": []
  },
  {
   "cell_type": "code",
   "execution_count": null,
   "metadata": {},
   "outputs": [],
   "source": []
  },
  {
   "cell_type": "markdown",
   "metadata": {},
   "source": [
    "## Predict for the test set using the best model\n",
    "\n",
    "The best model so far is MLP and we will use it to make a prediction for the final test set which is similar to applying it to production. "
   ]
  },
  {
   "cell_type": "code",
   "execution_count": 206,
   "metadata": {},
   "outputs": [
    {
     "name": "stdout",
     "output_type": "stream",
     "text": [
      "build candidate list\n"
     ]
    }
   ],
   "source": [
    "# define test set the same way we did train set \n",
    "df_test, _ = features(test_orders)"
   ]
  },
  {
   "cell_type": "code",
   "execution_count": 207,
   "metadata": {},
   "outputs": [
    {
     "data": {
      "text/html": [
       "<div>\n",
       "<style scoped>\n",
       "    .dataframe tbody tr th:only-of-type {\n",
       "        vertical-align: middle;\n",
       "    }\n",
       "\n",
       "    .dataframe tbody tr th {\n",
       "        vertical-align: top;\n",
       "    }\n",
       "\n",
       "    .dataframe thead th {\n",
       "        text-align: right;\n",
       "    }\n",
       "</style>\n",
       "<table border=\"1\" class=\"dataframe\">\n",
       "  <thead>\n",
       "    <tr style=\"text-align: right;\">\n",
       "      <th></th>\n",
       "      <th>order_id</th>\n",
       "      <th>product_id</th>\n",
       "      <th>user_total_orders</th>\n",
       "      <th>user_total_items</th>\n",
       "      <th>total_distinct_items</th>\n",
       "      <th>user_average_days_between_orders</th>\n",
       "      <th>user_average_basket</th>\n",
       "      <th>order_hour_of_day</th>\n",
       "      <th>days_since_prior_order</th>\n",
       "      <th>days_since_ratio</th>\n",
       "      <th>aisle_id</th>\n",
       "      <th>department_id</th>\n",
       "      <th>product_orders</th>\n",
       "      <th>product_reorders</th>\n",
       "      <th>product_reorder_rate</th>\n",
       "      <th>UP_orders</th>\n",
       "      <th>UP_orders_ratio</th>\n",
       "      <th>UP_average_pos_in_cart</th>\n",
       "      <th>UP_reorder_rate</th>\n",
       "      <th>UP_orders_since_last</th>\n",
       "      <th>UP_delta_hour_vs_last</th>\n",
       "    </tr>\n",
       "  </thead>\n",
       "  <tbody>\n",
       "    <tr>\n",
       "      <th>0</th>\n",
       "      <td>2774568</td>\n",
       "      <td>17668</td>\n",
       "      <td>13</td>\n",
       "      <td>88</td>\n",
       "      <td>33</td>\n",
       "      <td>12.0</td>\n",
       "      <td>6.769231</td>\n",
       "      <td>15</td>\n",
       "      <td>11.0</td>\n",
       "      <td>0.916667</td>\n",
       "      <td>91</td>\n",
       "      <td>16</td>\n",
       "      <td>2110</td>\n",
       "      <td>1220.0</td>\n",
       "      <td>0.578199</td>\n",
       "      <td>5</td>\n",
       "      <td>0.384615</td>\n",
       "      <td>3.60</td>\n",
       "      <td>0.384615</td>\n",
       "      <td>2</td>\n",
       "      <td>3</td>\n",
       "    </tr>\n",
       "    <tr>\n",
       "      <th>1</th>\n",
       "      <td>2774568</td>\n",
       "      <td>44683</td>\n",
       "      <td>13</td>\n",
       "      <td>88</td>\n",
       "      <td>33</td>\n",
       "      <td>12.0</td>\n",
       "      <td>6.769231</td>\n",
       "      <td>15</td>\n",
       "      <td>11.0</td>\n",
       "      <td>0.916667</td>\n",
       "      <td>83</td>\n",
       "      <td>4</td>\n",
       "      <td>22275</td>\n",
       "      <td>11981.0</td>\n",
       "      <td>0.537868</td>\n",
       "      <td>2</td>\n",
       "      <td>0.153846</td>\n",
       "      <td>9.50</td>\n",
       "      <td>0.153846</td>\n",
       "      <td>7</td>\n",
       "      <td>1</td>\n",
       "    </tr>\n",
       "    <tr>\n",
       "      <th>2</th>\n",
       "      <td>2774568</td>\n",
       "      <td>48523</td>\n",
       "      <td>13</td>\n",
       "      <td>88</td>\n",
       "      <td>33</td>\n",
       "      <td>12.0</td>\n",
       "      <td>6.769231</td>\n",
       "      <td>15</td>\n",
       "      <td>11.0</td>\n",
       "      <td>0.916667</td>\n",
       "      <td>37</td>\n",
       "      <td>1</td>\n",
       "      <td>5129</td>\n",
       "      <td>2376.0</td>\n",
       "      <td>0.463248</td>\n",
       "      <td>2</td>\n",
       "      <td>0.153846</td>\n",
       "      <td>6.50</td>\n",
       "      <td>0.153846</td>\n",
       "      <td>4</td>\n",
       "      <td>1</td>\n",
       "    </tr>\n",
       "    <tr>\n",
       "      <th>3</th>\n",
       "      <td>2774568</td>\n",
       "      <td>21903</td>\n",
       "      <td>13</td>\n",
       "      <td>88</td>\n",
       "      <td>33</td>\n",
       "      <td>12.0</td>\n",
       "      <td>6.769231</td>\n",
       "      <td>15</td>\n",
       "      <td>11.0</td>\n",
       "      <td>0.916667</td>\n",
       "      <td>123</td>\n",
       "      <td>4</td>\n",
       "      <td>241921</td>\n",
       "      <td>186884.0</td>\n",
       "      <td>0.772500</td>\n",
       "      <td>8</td>\n",
       "      <td>0.615385</td>\n",
       "      <td>4.25</td>\n",
       "      <td>0.615385</td>\n",
       "      <td>1</td>\n",
       "      <td>0</td>\n",
       "    </tr>\n",
       "    <tr>\n",
       "      <th>4</th>\n",
       "      <td>2774568</td>\n",
       "      <td>14992</td>\n",
       "      <td>13</td>\n",
       "      <td>88</td>\n",
       "      <td>33</td>\n",
       "      <td>12.0</td>\n",
       "      <td>6.769231</td>\n",
       "      <td>15</td>\n",
       "      <td>11.0</td>\n",
       "      <td>0.916667</td>\n",
       "      <td>83</td>\n",
       "      <td>4</td>\n",
       "      <td>29069</td>\n",
       "      <td>16942.0</td>\n",
       "      <td>0.582820</td>\n",
       "      <td>2</td>\n",
       "      <td>0.153846</td>\n",
       "      <td>7.00</td>\n",
       "      <td>0.153846</td>\n",
       "      <td>6</td>\n",
       "      <td>0</td>\n",
       "    </tr>\n",
       "  </tbody>\n",
       "</table>\n",
       "</div>"
      ],
      "text/plain": [
       "   order_id  product_id  user_total_orders  user_total_items  \\\n",
       "0   2774568       17668                 13                88   \n",
       "1   2774568       44683                 13                88   \n",
       "2   2774568       48523                 13                88   \n",
       "3   2774568       21903                 13                88   \n",
       "4   2774568       14992                 13                88   \n",
       "\n",
       "   total_distinct_items  user_average_days_between_orders  \\\n",
       "0                    33                              12.0   \n",
       "1                    33                              12.0   \n",
       "2                    33                              12.0   \n",
       "3                    33                              12.0   \n",
       "4                    33                              12.0   \n",
       "\n",
       "   user_average_basket  order_hour_of_day  days_since_prior_order  \\\n",
       "0             6.769231                 15                    11.0   \n",
       "1             6.769231                 15                    11.0   \n",
       "2             6.769231                 15                    11.0   \n",
       "3             6.769231                 15                    11.0   \n",
       "4             6.769231                 15                    11.0   \n",
       "\n",
       "   days_since_ratio  aisle_id  department_id  product_orders  \\\n",
       "0          0.916667        91             16            2110   \n",
       "1          0.916667        83              4           22275   \n",
       "2          0.916667        37              1            5129   \n",
       "3          0.916667       123              4          241921   \n",
       "4          0.916667        83              4           29069   \n",
       "\n",
       "   product_reorders  product_reorder_rate  UP_orders  UP_orders_ratio  \\\n",
       "0            1220.0              0.578199          5         0.384615   \n",
       "1           11981.0              0.537868          2         0.153846   \n",
       "2            2376.0              0.463248          2         0.153846   \n",
       "3          186884.0              0.772500          8         0.615385   \n",
       "4           16942.0              0.582820          2         0.153846   \n",
       "\n",
       "   UP_average_pos_in_cart  UP_reorder_rate  UP_orders_since_last  \\\n",
       "0                    3.60         0.384615                     2   \n",
       "1                    9.50         0.153846                     7   \n",
       "2                    6.50         0.153846                     4   \n",
       "3                    4.25         0.615385                     1   \n",
       "4                    7.00         0.153846                     6   \n",
       "\n",
       "   UP_delta_hour_vs_last  \n",
       "0                      3  \n",
       "1                      1  \n",
       "2                      1  \n",
       "3                      0  \n",
       "4                      0  "
      ]
     },
     "execution_count": 207,
     "metadata": {},
     "output_type": "execute_result"
    }
   ],
   "source": [
    "#\n",
    "df_test.head()"
   ]
  },
  {
   "cell_type": "code",
   "execution_count": 229,
   "metadata": {},
   "outputs": [],
   "source": [
    "# predict for test set using a lower threshold  \n",
    "df_test['reorder'] = (mlp.predict_proba(df_test[f_to_use])[:,1] >= 0.21).astype(int)"
   ]
  },
  {
   "cell_type": "code",
   "execution_count": 234,
   "metadata": {},
   "outputs": [
    {
     "data": {
      "text/html": [
       "<div>\n",
       "<style scoped>\n",
       "    .dataframe tbody tr th:only-of-type {\n",
       "        vertical-align: middle;\n",
       "    }\n",
       "\n",
       "    .dataframe tbody tr th {\n",
       "        vertical-align: top;\n",
       "    }\n",
       "\n",
       "    .dataframe thead th {\n",
       "        text-align: right;\n",
       "    }\n",
       "</style>\n",
       "<table border=\"1\" class=\"dataframe\">\n",
       "  <thead>\n",
       "    <tr style=\"text-align: right;\">\n",
       "      <th></th>\n",
       "      <th>order_id</th>\n",
       "      <th>product_id</th>\n",
       "      <th>user_total_orders</th>\n",
       "      <th>user_total_items</th>\n",
       "      <th>total_distinct_items</th>\n",
       "      <th>user_average_days_between_orders</th>\n",
       "      <th>user_average_basket</th>\n",
       "      <th>order_hour_of_day</th>\n",
       "      <th>days_since_prior_order</th>\n",
       "      <th>days_since_ratio</th>\n",
       "      <th>aisle_id</th>\n",
       "      <th>department_id</th>\n",
       "      <th>product_orders</th>\n",
       "      <th>product_reorders</th>\n",
       "      <th>product_reorder_rate</th>\n",
       "      <th>UP_orders</th>\n",
       "      <th>UP_orders_ratio</th>\n",
       "      <th>UP_average_pos_in_cart</th>\n",
       "      <th>UP_reorder_rate</th>\n",
       "      <th>UP_orders_since_last</th>\n",
       "      <th>UP_delta_hour_vs_last</th>\n",
       "      <th>reorder</th>\n",
       "    </tr>\n",
       "  </thead>\n",
       "  <tbody>\n",
       "    <tr>\n",
       "      <th>4833287</th>\n",
       "      <td>803273</td>\n",
       "      <td>44532</td>\n",
       "      <td>50</td>\n",
       "      <td>677</td>\n",
       "      <td>198</td>\n",
       "      <td>7.367347</td>\n",
       "      <td>13.54</td>\n",
       "      <td>11</td>\n",
       "      <td>4.0</td>\n",
       "      <td>0.542936</td>\n",
       "      <td>3</td>\n",
       "      <td>19</td>\n",
       "      <td>311</td>\n",
       "      <td>124.0</td>\n",
       "      <td>0.398714</td>\n",
       "      <td>1</td>\n",
       "      <td>0.02</td>\n",
       "      <td>11.000000</td>\n",
       "      <td>0.02</td>\n",
       "      <td>7</td>\n",
       "      <td>3</td>\n",
       "      <td>1</td>\n",
       "    </tr>\n",
       "    <tr>\n",
       "      <th>4833288</th>\n",
       "      <td>803273</td>\n",
       "      <td>46069</td>\n",
       "      <td>50</td>\n",
       "      <td>677</td>\n",
       "      <td>198</td>\n",
       "      <td>7.367347</td>\n",
       "      <td>13.54</td>\n",
       "      <td>11</td>\n",
       "      <td>4.0</td>\n",
       "      <td>0.542936</td>\n",
       "      <td>123</td>\n",
       "      <td>4</td>\n",
       "      <td>9240</td>\n",
       "      <td>5420.0</td>\n",
       "      <td>0.586580</td>\n",
       "      <td>7</td>\n",
       "      <td>0.14</td>\n",
       "      <td>5.571429</td>\n",
       "      <td>0.14</td>\n",
       "      <td>4</td>\n",
       "      <td>1</td>\n",
       "      <td>1</td>\n",
       "    </tr>\n",
       "    <tr>\n",
       "      <th>4833289</th>\n",
       "      <td>803273</td>\n",
       "      <td>12791</td>\n",
       "      <td>50</td>\n",
       "      <td>677</td>\n",
       "      <td>198</td>\n",
       "      <td>7.367347</td>\n",
       "      <td>13.54</td>\n",
       "      <td>11</td>\n",
       "      <td>4.0</td>\n",
       "      <td>0.542936</td>\n",
       "      <td>3</td>\n",
       "      <td>19</td>\n",
       "      <td>1393</td>\n",
       "      <td>755.0</td>\n",
       "      <td>0.541996</td>\n",
       "      <td>1</td>\n",
       "      <td>0.02</td>\n",
       "      <td>12.000000</td>\n",
       "      <td>0.02</td>\n",
       "      <td>7</td>\n",
       "      <td>3</td>\n",
       "      <td>1</td>\n",
       "    </tr>\n",
       "    <tr>\n",
       "      <th>4833290</th>\n",
       "      <td>803273</td>\n",
       "      <td>14332</td>\n",
       "      <td>50</td>\n",
       "      <td>677</td>\n",
       "      <td>198</td>\n",
       "      <td>7.367347</td>\n",
       "      <td>13.54</td>\n",
       "      <td>11</td>\n",
       "      <td>4.0</td>\n",
       "      <td>0.542936</td>\n",
       "      <td>72</td>\n",
       "      <td>13</td>\n",
       "      <td>6046</td>\n",
       "      <td>1424.0</td>\n",
       "      <td>0.235528</td>\n",
       "      <td>1</td>\n",
       "      <td>0.02</td>\n",
       "      <td>9.000000</td>\n",
       "      <td>0.02</td>\n",
       "      <td>8</td>\n",
       "      <td>8</td>\n",
       "      <td>1</td>\n",
       "    </tr>\n",
       "    <tr>\n",
       "      <th>4833291</th>\n",
       "      <td>803273</td>\n",
       "      <td>4605</td>\n",
       "      <td>50</td>\n",
       "      <td>677</td>\n",
       "      <td>198</td>\n",
       "      <td>7.367347</td>\n",
       "      <td>13.54</td>\n",
       "      <td>11</td>\n",
       "      <td>4.0</td>\n",
       "      <td>0.542936</td>\n",
       "      <td>83</td>\n",
       "      <td>4</td>\n",
       "      <td>73167</td>\n",
       "      <td>43269.0</td>\n",
       "      <td>0.591373</td>\n",
       "      <td>1</td>\n",
       "      <td>0.02</td>\n",
       "      <td>18.000000</td>\n",
       "      <td>0.02</td>\n",
       "      <td>9</td>\n",
       "      <td>3</td>\n",
       "      <td>1</td>\n",
       "    </tr>\n",
       "  </tbody>\n",
       "</table>\n",
       "</div>"
      ],
      "text/plain": [
       "         order_id  product_id  user_total_orders  user_total_items  \\\n",
       "4833287    803273       44532                 50               677   \n",
       "4833288    803273       46069                 50               677   \n",
       "4833289    803273       12791                 50               677   \n",
       "4833290    803273       14332                 50               677   \n",
       "4833291    803273        4605                 50               677   \n",
       "\n",
       "         total_distinct_items  user_average_days_between_orders  \\\n",
       "4833287                   198                          7.367347   \n",
       "4833288                   198                          7.367347   \n",
       "4833289                   198                          7.367347   \n",
       "4833290                   198                          7.367347   \n",
       "4833291                   198                          7.367347   \n",
       "\n",
       "         user_average_basket  order_hour_of_day  days_since_prior_order  \\\n",
       "4833287                13.54                 11                     4.0   \n",
       "4833288                13.54                 11                     4.0   \n",
       "4833289                13.54                 11                     4.0   \n",
       "4833290                13.54                 11                     4.0   \n",
       "4833291                13.54                 11                     4.0   \n",
       "\n",
       "         days_since_ratio  aisle_id  department_id  product_orders  \\\n",
       "4833287          0.542936         3             19             311   \n",
       "4833288          0.542936       123              4            9240   \n",
       "4833289          0.542936         3             19            1393   \n",
       "4833290          0.542936        72             13            6046   \n",
       "4833291          0.542936        83              4           73167   \n",
       "\n",
       "         product_reorders  product_reorder_rate  UP_orders  UP_orders_ratio  \\\n",
       "4833287             124.0              0.398714          1             0.02   \n",
       "4833288            5420.0              0.586580          7             0.14   \n",
       "4833289             755.0              0.541996          1             0.02   \n",
       "4833290            1424.0              0.235528          1             0.02   \n",
       "4833291           43269.0              0.591373          1             0.02   \n",
       "\n",
       "         UP_average_pos_in_cart  UP_reorder_rate  UP_orders_since_last  \\\n",
       "4833287               11.000000             0.02                     7   \n",
       "4833288                5.571429             0.14                     4   \n",
       "4833289               12.000000             0.02                     7   \n",
       "4833290                9.000000             0.02                     8   \n",
       "4833291               18.000000             0.02                     9   \n",
       "\n",
       "         UP_delta_hour_vs_last  reorder  \n",
       "4833287                      3        1  \n",
       "4833288                      1        1  \n",
       "4833289                      3        1  \n",
       "4833290                      8        1  \n",
       "4833291                      3        1  "
      ]
     },
     "execution_count": 234,
     "metadata": {},
     "output_type": "execute_result"
    }
   ],
   "source": [
    "# Inspect prediction \n",
    "df_test.tail()"
   ]
  },
  {
   "cell_type": "code",
   "execution_count": 233,
   "metadata": {},
   "outputs": [
    {
     "data": {
      "text/plain": [
       "1    4480592\n",
       "0     352700\n",
       "Name: reorder, dtype: int64"
      ]
     },
     "execution_count": 233,
     "metadata": {},
     "output_type": "execute_result"
    }
   ],
   "source": [
    "# Count of reordered class in the test set \n",
    "df_test['reorder'].value_counts()"
   ]
  },
  {
   "cell_type": "code",
   "execution_count": 235,
   "metadata": {},
   "outputs": [],
   "source": [
    "# use dictionary to map the reordered products to user ids \n",
    "d = dict()\n",
    "for row in df_test.itertuples():\n",
    "    if row.reorder == 1:\n",
    "        try:\n",
    "            d[row.order_id] += ' ' + str(row.product_id)\n",
    "        except:\n",
    "            d[row.order_id] = str(row.product_id)\n",
    "\n",
    "for order in test_orders.order_id:\n",
    "    if order not in d:\n",
    "        d[order] = 'None'\n",
    "\n",
    "result_mlp = pd.DataFrame.from_dict(d, orient='index')\n",
    "\n",
    "result_mlp.reset_index(inplace=True)\n",
    "result_mlp.columns = ['order_id', 'products']\n",
    "result_mlp.to_csv('result.csv', index=False)\n"
   ]
  },
  {
   "cell_type": "code",
   "execution_count": 237,
   "metadata": {},
   "outputs": [
    {
     "data": {
      "text/html": [
       "<div>\n",
       "<style scoped>\n",
       "    .dataframe tbody tr th:only-of-type {\n",
       "        vertical-align: middle;\n",
       "    }\n",
       "\n",
       "    .dataframe tbody tr th {\n",
       "        vertical-align: top;\n",
       "    }\n",
       "\n",
       "    .dataframe thead th {\n",
       "        text-align: right;\n",
       "    }\n",
       "</style>\n",
       "<table border=\"1\" class=\"dataframe\">\n",
       "  <thead>\n",
       "    <tr style=\"text-align: right;\">\n",
       "      <th></th>\n",
       "      <th>order_id</th>\n",
       "      <th>products</th>\n",
       "    </tr>\n",
       "  </thead>\n",
       "  <tbody>\n",
       "    <tr>\n",
       "      <th>0</th>\n",
       "      <td>2774568</td>\n",
       "      <td>17668 44683 48523 21903 14992 21137 32402 2203...</td>\n",
       "    </tr>\n",
       "    <tr>\n",
       "      <th>1</th>\n",
       "      <td>329954</td>\n",
       "      <td>21573 42329 17769 35469 37646 1200 19057 26576...</td>\n",
       "    </tr>\n",
       "    <tr>\n",
       "      <th>2</th>\n",
       "      <td>1528013</td>\n",
       "      <td>40992 27521 20323 48679 8424 45007 21903 10644...</td>\n",
       "    </tr>\n",
       "    <tr>\n",
       "      <th>3</th>\n",
       "      <td>1376945</td>\n",
       "      <td>17794 8197 30855 33037 30480 10644 26209 35738...</td>\n",
       "    </tr>\n",
       "    <tr>\n",
       "      <th>4</th>\n",
       "      <td>1356845</td>\n",
       "      <td>11520 45056 17794 44422 17159 44683 37646 1499...</td>\n",
       "    </tr>\n",
       "  </tbody>\n",
       "</table>\n",
       "</div>"
      ],
      "text/plain": [
       "   order_id                                           products\n",
       "0   2774568  17668 44683 48523 21903 14992 21137 32402 2203...\n",
       "1    329954  21573 42329 17769 35469 37646 1200 19057 26576...\n",
       "2   1528013  40992 27521 20323 48679 8424 45007 21903 10644...\n",
       "3   1376945  17794 8197 30855 33037 30480 10644 26209 35738...\n",
       "4   1356845  11520 45056 17794 44422 17159 44683 37646 1499..."
      ]
     },
     "execution_count": 237,
     "metadata": {},
     "output_type": "execute_result"
    }
   ],
   "source": [
    "#Final prediction \n",
    "result_mlp.head()"
   ]
  },
  {
   "cell_type": "code",
   "execution_count": 239,
   "metadata": {},
   "outputs": [
    {
     "data": {
      "text/plain": [
       "(75000, 2)"
      ]
     },
     "execution_count": 239,
     "metadata": {},
     "output_type": "execute_result"
    }
   ],
   "source": [
    "# should be 75000\n",
    "result_mlp.shape"
   ]
  },
  {
   "cell_type": "markdown",
   "metadata": {},
   "source": [
    "## Conclusion and Recommendation \n",
    "\n",
    "The dataset is difficult to train and the best accuracy score we get is 75%. I suspect that people's grocery shopping habbits are more predictible than this but this dataset is heavily anonymized for privacy reasons and in the process potentially valuable information is lost especially at user label data such as age and gender. When users go to the app to order, one of the first thing they must do is enter a zip code and choose a specific store in that area. Which means that knowing the name of the store and location of users or location of stores will be a good indicator. \n",
    "\n",
    "We have used KNN Classifier, Logistic Regression, Light GBM boosting model as well as Neural Networks (MLP and CNN). The model selection is limited by computational power and and time constraint. We have tried to improve the models using PCA and SelectkBest for dimentioality reduction as well as parameter tuning using GridSearchCV. \n",
    "\n",
    "\n",
    "MLP is the model I choose for implementation. It has better accuracy (**75%**), precision, and recall scores. The score for the training set is also 75 which means has handled overfitting well. The relationship between the datapoints may not be linear but MLP is able to make non linear transformations and learn better than the other models we tried. There is also a posibility to improve the score using more parameter tuning which was not possible to do here because of the computational power it needed. It should also be noted that Logistic Regression is only slightly lower than MLP in performance.  \n",
    "\n",
    "MLP models learn better with more data and in production environment the new observations will make it better if deployed in a way that feeds it back to the model. To make the prediction better, more informative data is needed such as demographic and store related data. As mentioned earlier, the approach used for making predictions in this project is by creating a list of user-product pairs based on previous data and predicting the likelihood that that product will be ordered by that user. There could be other approached which could result in a better prediction and it is worth exploring them.  "
   ]
  },
  {
   "cell_type": "code",
   "execution_count": null,
   "metadata": {},
   "outputs": [],
   "source": []
  }
 ],
 "metadata": {
  "kernelspec": {
   "display_name": "Python 3",
   "language": "python",
   "name": "python3"
  },
  "language_info": {
   "codemirror_mode": {
    "name": "ipython",
    "version": 3
   },
   "file_extension": ".py",
   "mimetype": "text/x-python",
   "name": "python",
   "nbconvert_exporter": "python",
   "pygments_lexer": "ipython3",
   "version": "3.6.7"
  }
 },
 "nbformat": 4,
 "nbformat_minor": 2
}
